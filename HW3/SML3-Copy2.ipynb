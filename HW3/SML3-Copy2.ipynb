{
 "cells": [
  {
   "cell_type": "code",
   "execution_count": 1,
   "metadata": {
    "scrolled": true
   },
   "outputs": [],
   "source": [
    "import pandas as pd\n",
    "import numpy as np\n",
    "from sklearn.model_selection import KFold\n",
    "from sklearn.preprocessing import MinMaxScaler\n",
    "from sklearn.linear_model import LogisticRegression\n",
    "from sklearn.model_selection import train_test_split\n",
    "import matplotlib.pyplot as plt\n",
    "import seaborn as sns\n",
    "from sklearn import metrics\n",
    "from sklearn.metrics import roc_curve, roc_auc_score\n",
    "from sklearn.preprocessing import StandardScaler\n",
    "from sklearn.naive_bayes import GaussianNB\n",
    "from sklearn.neighbors import KNeighborsClassifier\n",
    "from sklearn.discriminant_analysis import LinearDiscriminantAnalysis as LDA\n",
    "from sklearn.tree import DecisionTreeClassifier"
   ]
  },
  {
   "cell_type": "code",
   "execution_count": 2,
   "metadata": {},
   "outputs": [],
   "source": [
    "data_spam = pd.read_csv(\"C:/Users/mouni/Downloads/SML/HW3/spambase/spambase.data\")"
   ]
  },
  {
   "cell_type": "code",
   "execution_count": 3,
   "metadata": {},
   "outputs": [],
   "source": [
    "data_spam = data_spam.rename(columns={'0':'word_freq_make','0.64':'word_freq_address',\n",
    "                                      '0.64.1':'word_freq_all','0.1':'word_freq_3d',\n",
    "                                      '0.32':'word_freq_our','0.2':'word_freq_over',\n",
    "                                      '0.3':'word_freq_remove','0.4':'word_freq_internet',\n",
    "                                      '0.5':'word_freq_order','0.6':'word_freq_mail',\n",
    "                                      '0.7':'word_freq_receive','0.64.2':'word_freq_will','0.8':'word_freq_people',\n",
    "                                      '0.9':'word_freq_report','0.10':'word_freq_addresses','0.32.1':'word_freq_free',\n",
    "                                      '0.11':'word_freq_business','1.29':'word_freq_email',\n",
    "                                      '1.93':'word_freq_you','0.12':'word_freq_credit','0.96':'word_freq_your',\n",
    "                                      '0.13':'word_freq_font','0.14':'word_freq_000','0.15':'word_freq_money',\n",
    "                                      '0.16':'word_freq_hp','0.17':'word_freq_hpl','0.18':'word_freq_george',\n",
    "                                      '0.19':'word_freq_650','0.20':'word_freq_lab','0.21':'word_freq_labs',\n",
    "                                      '0.22':'word_freq_telnet','0.23':'word_freq_857','0.24':'word_freq_data',\n",
    "                                      '0.25':'word_freq_415','0.26':'word_freq_85','0.27':'word_freq_technology',\n",
    "                                      '0.28':'word_freq_1999','0.29':'word_freq_parts','0.30':'word_freq_pm',\n",
    "                                      '0.31':'word_freq_direct','0.32.2':'word_freq_cs','0.33':'word_freq_meeting',\n",
    "                                      '0.34':'word_freq_original','0.35':'word_freq_project','0.36':'word_freq_re',\n",
    "                                      '0.37':'word_freq_edu','0.38':'word_freq_table','0.39':'word_freq_conference',\n",
    "                                      '0.40':'char_freq_semicolon','0.41':'char_freq_leftparen',\n",
    "                                      '0.42':'char_freq_leftsquare','0.778':'char_freq_bang',\n",
    "                                      '0.43':'char_freq_dollar','0.44':'char_freq_hash',\n",
    "                                      '3.756':'capital_run_length_average','61':'capital_run_length_longest',\n",
    "                                      '278':'capital_run_length_total','1':'is_spam'})"
   ]
  },
  {
   "cell_type": "code",
   "execution_count": 4,
   "metadata": {
    "scrolled": true
   },
   "outputs": [
    {
     "data": {
      "text/html": [
       "<div>\n",
       "<style scoped>\n",
       "    .dataframe tbody tr th:only-of-type {\n",
       "        vertical-align: middle;\n",
       "    }\n",
       "\n",
       "    .dataframe tbody tr th {\n",
       "        vertical-align: top;\n",
       "    }\n",
       "\n",
       "    .dataframe thead th {\n",
       "        text-align: right;\n",
       "    }\n",
       "</style>\n",
       "<table border=\"1\" class=\"dataframe\">\n",
       "  <thead>\n",
       "    <tr style=\"text-align: right;\">\n",
       "      <th></th>\n",
       "      <th>word_freq_make</th>\n",
       "      <th>word_freq_address</th>\n",
       "      <th>word_freq_all</th>\n",
       "      <th>word_freq_3d</th>\n",
       "      <th>word_freq_our</th>\n",
       "      <th>word_freq_over</th>\n",
       "      <th>word_freq_remove</th>\n",
       "      <th>word_freq_internet</th>\n",
       "      <th>word_freq_order</th>\n",
       "      <th>word_freq_mail</th>\n",
       "      <th>...</th>\n",
       "      <th>char_freq_semicolon</th>\n",
       "      <th>char_freq_leftparen</th>\n",
       "      <th>char_freq_leftsquare</th>\n",
       "      <th>char_freq_bang</th>\n",
       "      <th>char_freq_dollar</th>\n",
       "      <th>char_freq_hash</th>\n",
       "      <th>capital_run_length_average</th>\n",
       "      <th>capital_run_length_longest</th>\n",
       "      <th>capital_run_length_total</th>\n",
       "      <th>is_spam</th>\n",
       "    </tr>\n",
       "  </thead>\n",
       "  <tbody>\n",
       "    <tr>\n",
       "      <th>0</th>\n",
       "      <td>0.21</td>\n",
       "      <td>0.28</td>\n",
       "      <td>0.50</td>\n",
       "      <td>0.0</td>\n",
       "      <td>0.14</td>\n",
       "      <td>0.28</td>\n",
       "      <td>0.21</td>\n",
       "      <td>0.07</td>\n",
       "      <td>0.00</td>\n",
       "      <td>0.94</td>\n",
       "      <td>...</td>\n",
       "      <td>0.00</td>\n",
       "      <td>0.132</td>\n",
       "      <td>0.0</td>\n",
       "      <td>0.372</td>\n",
       "      <td>0.180</td>\n",
       "      <td>0.048</td>\n",
       "      <td>5.114</td>\n",
       "      <td>101</td>\n",
       "      <td>1028</td>\n",
       "      <td>1</td>\n",
       "    </tr>\n",
       "    <tr>\n",
       "      <th>1</th>\n",
       "      <td>0.06</td>\n",
       "      <td>0.00</td>\n",
       "      <td>0.71</td>\n",
       "      <td>0.0</td>\n",
       "      <td>1.23</td>\n",
       "      <td>0.19</td>\n",
       "      <td>0.19</td>\n",
       "      <td>0.12</td>\n",
       "      <td>0.64</td>\n",
       "      <td>0.25</td>\n",
       "      <td>...</td>\n",
       "      <td>0.01</td>\n",
       "      <td>0.143</td>\n",
       "      <td>0.0</td>\n",
       "      <td>0.276</td>\n",
       "      <td>0.184</td>\n",
       "      <td>0.010</td>\n",
       "      <td>9.821</td>\n",
       "      <td>485</td>\n",
       "      <td>2259</td>\n",
       "      <td>1</td>\n",
       "    </tr>\n",
       "    <tr>\n",
       "      <th>2</th>\n",
       "      <td>0.00</td>\n",
       "      <td>0.00</td>\n",
       "      <td>0.00</td>\n",
       "      <td>0.0</td>\n",
       "      <td>0.63</td>\n",
       "      <td>0.00</td>\n",
       "      <td>0.31</td>\n",
       "      <td>0.63</td>\n",
       "      <td>0.31</td>\n",
       "      <td>0.63</td>\n",
       "      <td>...</td>\n",
       "      <td>0.00</td>\n",
       "      <td>0.137</td>\n",
       "      <td>0.0</td>\n",
       "      <td>0.137</td>\n",
       "      <td>0.000</td>\n",
       "      <td>0.000</td>\n",
       "      <td>3.537</td>\n",
       "      <td>40</td>\n",
       "      <td>191</td>\n",
       "      <td>1</td>\n",
       "    </tr>\n",
       "    <tr>\n",
       "      <th>3</th>\n",
       "      <td>0.00</td>\n",
       "      <td>0.00</td>\n",
       "      <td>0.00</td>\n",
       "      <td>0.0</td>\n",
       "      <td>0.63</td>\n",
       "      <td>0.00</td>\n",
       "      <td>0.31</td>\n",
       "      <td>0.63</td>\n",
       "      <td>0.31</td>\n",
       "      <td>0.63</td>\n",
       "      <td>...</td>\n",
       "      <td>0.00</td>\n",
       "      <td>0.135</td>\n",
       "      <td>0.0</td>\n",
       "      <td>0.135</td>\n",
       "      <td>0.000</td>\n",
       "      <td>0.000</td>\n",
       "      <td>3.537</td>\n",
       "      <td>40</td>\n",
       "      <td>191</td>\n",
       "      <td>1</td>\n",
       "    </tr>\n",
       "    <tr>\n",
       "      <th>4</th>\n",
       "      <td>0.00</td>\n",
       "      <td>0.00</td>\n",
       "      <td>0.00</td>\n",
       "      <td>0.0</td>\n",
       "      <td>1.85</td>\n",
       "      <td>0.00</td>\n",
       "      <td>0.00</td>\n",
       "      <td>1.85</td>\n",
       "      <td>0.00</td>\n",
       "      <td>0.00</td>\n",
       "      <td>...</td>\n",
       "      <td>0.00</td>\n",
       "      <td>0.223</td>\n",
       "      <td>0.0</td>\n",
       "      <td>0.000</td>\n",
       "      <td>0.000</td>\n",
       "      <td>0.000</td>\n",
       "      <td>3.000</td>\n",
       "      <td>15</td>\n",
       "      <td>54</td>\n",
       "      <td>1</td>\n",
       "    </tr>\n",
       "  </tbody>\n",
       "</table>\n",
       "<p>5 rows × 58 columns</p>\n",
       "</div>"
      ],
      "text/plain": [
       "   word_freq_make  word_freq_address  word_freq_all  word_freq_3d  \\\n",
       "0            0.21               0.28           0.50           0.0   \n",
       "1            0.06               0.00           0.71           0.0   \n",
       "2            0.00               0.00           0.00           0.0   \n",
       "3            0.00               0.00           0.00           0.0   \n",
       "4            0.00               0.00           0.00           0.0   \n",
       "\n",
       "   word_freq_our  word_freq_over  word_freq_remove  word_freq_internet  \\\n",
       "0           0.14            0.28              0.21                0.07   \n",
       "1           1.23            0.19              0.19                0.12   \n",
       "2           0.63            0.00              0.31                0.63   \n",
       "3           0.63            0.00              0.31                0.63   \n",
       "4           1.85            0.00              0.00                1.85   \n",
       "\n",
       "   word_freq_order  word_freq_mail  ...  char_freq_semicolon  \\\n",
       "0             0.00            0.94  ...                 0.00   \n",
       "1             0.64            0.25  ...                 0.01   \n",
       "2             0.31            0.63  ...                 0.00   \n",
       "3             0.31            0.63  ...                 0.00   \n",
       "4             0.00            0.00  ...                 0.00   \n",
       "\n",
       "   char_freq_leftparen  char_freq_leftsquare  char_freq_bang  \\\n",
       "0                0.132                   0.0           0.372   \n",
       "1                0.143                   0.0           0.276   \n",
       "2                0.137                   0.0           0.137   \n",
       "3                0.135                   0.0           0.135   \n",
       "4                0.223                   0.0           0.000   \n",
       "\n",
       "   char_freq_dollar  char_freq_hash  capital_run_length_average  \\\n",
       "0             0.180           0.048                       5.114   \n",
       "1             0.184           0.010                       9.821   \n",
       "2             0.000           0.000                       3.537   \n",
       "3             0.000           0.000                       3.537   \n",
       "4             0.000           0.000                       3.000   \n",
       "\n",
       "   capital_run_length_longest  capital_run_length_total  is_spam  \n",
       "0                         101                      1028        1  \n",
       "1                         485                      2259        1  \n",
       "2                          40                       191        1  \n",
       "3                          40                       191        1  \n",
       "4                          15                        54        1  \n",
       "\n",
       "[5 rows x 58 columns]"
      ]
     },
     "execution_count": 4,
     "metadata": {},
     "output_type": "execute_result"
    }
   ],
   "source": [
    "data_spam.head()"
   ]
  },
  {
   "cell_type": "code",
   "execution_count": 5,
   "metadata": {
    "scrolled": true
   },
   "outputs": [
    {
     "data": {
      "text/plain": [
       "(4600, 57)"
      ]
     },
     "execution_count": 5,
     "metadata": {},
     "output_type": "execute_result"
    }
   ],
   "source": [
    "data_y = data_spam['is_spam']\n",
    "data_x = data_spam.drop(columns = ['is_spam'])\n",
    "data_x.shape"
   ]
  },
  {
   "cell_type": "code",
   "execution_count": 6,
   "metadata": {},
   "outputs": [
    {
     "data": {
      "text/plain": [
       "(4600, 57)"
      ]
     },
     "execution_count": 6,
     "metadata": {},
     "output_type": "execute_result"
    }
   ],
   "source": [
    "scaler = StandardScaler() \n",
    "data_scaled = scaler.fit_transform(data_x)\n",
    "data_scaled.shape"
   ]
  },
  {
   "cell_type": "code",
   "execution_count": 7,
   "metadata": {},
   "outputs": [],
   "source": [
    "df = pd.DataFrame(data=data_scaled[:,0:],\n",
    "                  index=data_scaled[:,0],\n",
    "                  columns=['word_freq_make', 'word_freq_address','word_freq_all', 'word_freq_3d', 'word_freq_our',\n",
    "                           'word_freq_over', 'word_freq_remove', 'word_freq_internet','word_freq_order', 'word_freq_mail',\n",
    "                           'word_freq_receive','word_freq_will', 'word_freq_people', 'word_freq_report',\n",
    "                           'word_freq_addresses', 'word_freq_free', 'word_freq_business','word_freq_email',\n",
    "                           'word_freq_you', 'word_freq_credit', 'word_freq_your','word_freq_font', 'word_freq_000',\n",
    "                           'word_freq_money', 'word_freq_hp','word_freq_hpl', 'word_freq_george', 'word_freq_650',\n",
    "                           'word_freq_lab','word_freq_labs', 'word_freq_telnet', 'word_freq_857', 'word_freq_data',\n",
    "                           'word_freq_415', 'word_freq_85', 'word_freq_technology', 'word_freq_1999','word_freq_parts',\n",
    "                           'word_freq_pm', 'word_freq_direct', 'word_freq_cs','word_freq_meeting', 'word_freq_original',\n",
    "                           'word_freq_project', 'word_freq_re', 'word_freq_edu', 'word_freq_table',\n",
    "                           'word_freq_conference', 'char_freq_semicolon', 'char_freq_leftparen', 'char_freq_leftsquare',\n",
    "                           'char_freq_bang', 'char_freq_dollar', 'char_freq_hash','capital_run_length_average',\n",
    "                           'capital_run_length_longest', 'capital_run_length_total'])"
   ]
  },
  {
   "cell_type": "code",
   "execution_count": 8,
   "metadata": {},
   "outputs": [
    {
     "data": {
      "text/html": [
       "<div>\n",
       "<style scoped>\n",
       "    .dataframe tbody tr th:only-of-type {\n",
       "        vertical-align: middle;\n",
       "    }\n",
       "\n",
       "    .dataframe tbody tr th {\n",
       "        vertical-align: top;\n",
       "    }\n",
       "\n",
       "    .dataframe thead th {\n",
       "        text-align: right;\n",
       "    }\n",
       "</style>\n",
       "<table border=\"1\" class=\"dataframe\">\n",
       "  <thead>\n",
       "    <tr style=\"text-align: right;\">\n",
       "      <th></th>\n",
       "      <th>word_freq_make</th>\n",
       "      <th>word_freq_address</th>\n",
       "      <th>word_freq_all</th>\n",
       "      <th>word_freq_3d</th>\n",
       "      <th>word_freq_our</th>\n",
       "      <th>word_freq_over</th>\n",
       "      <th>word_freq_remove</th>\n",
       "      <th>word_freq_internet</th>\n",
       "      <th>word_freq_order</th>\n",
       "      <th>word_freq_mail</th>\n",
       "      <th>...</th>\n",
       "      <th>word_freq_conference</th>\n",
       "      <th>char_freq_semicolon</th>\n",
       "      <th>char_freq_leftparen</th>\n",
       "      <th>char_freq_leftsquare</th>\n",
       "      <th>char_freq_bang</th>\n",
       "      <th>char_freq_dollar</th>\n",
       "      <th>char_freq_hash</th>\n",
       "      <th>capital_run_length_average</th>\n",
       "      <th>capital_run_length_longest</th>\n",
       "      <th>capital_run_length_total</th>\n",
       "    </tr>\n",
       "  </thead>\n",
       "  <tbody>\n",
       "    <tr>\n",
       "      <th>0.345252</th>\n",
       "      <td>0.345252</td>\n",
       "      <td>0.051976</td>\n",
       "      <td>0.435261</td>\n",
       "      <td>-0.046905</td>\n",
       "      <td>-0.256087</td>\n",
       "      <td>0.672259</td>\n",
       "      <td>0.244655</td>\n",
       "      <td>-0.088058</td>\n",
       "      <td>-0.323341</td>\n",
       "      <td>1.086529</td>\n",
       "      <td>...</td>\n",
       "      <td>-0.111559</td>\n",
       "      <td>-0.158471</td>\n",
       "      <td>-0.026117</td>\n",
       "      <td>-0.155215</td>\n",
       "      <td>0.126330</td>\n",
       "      <td>0.423674</td>\n",
       "      <td>0.008739</td>\n",
       "      <td>-0.002453</td>\n",
       "      <td>0.250546</td>\n",
       "      <td>1.228189</td>\n",
       "    </tr>\n",
       "    <tr>\n",
       "      <th>-0.145982</th>\n",
       "      <td>-0.145982</td>\n",
       "      <td>-0.164984</td>\n",
       "      <td>0.851833</td>\n",
       "      <td>-0.046905</td>\n",
       "      <td>1.364700</td>\n",
       "      <td>0.343576</td>\n",
       "      <td>0.193562</td>\n",
       "      <td>0.036609</td>\n",
       "      <td>1.973754</td>\n",
       "      <td>0.016339</td>\n",
       "      <td>...</td>\n",
       "      <td>-0.111559</td>\n",
       "      <td>-0.117398</td>\n",
       "      <td>0.014571</td>\n",
       "      <td>-0.155215</td>\n",
       "      <td>0.008631</td>\n",
       "      <td>0.439942</td>\n",
       "      <td>-0.079768</td>\n",
       "      <td>0.145895</td>\n",
       "      <td>2.220875</td>\n",
       "      <td>3.258376</td>\n",
       "    </tr>\n",
       "    <tr>\n",
       "      <th>-0.342475</th>\n",
       "      <td>-0.342475</td>\n",
       "      <td>-0.164984</td>\n",
       "      <td>-0.556576</td>\n",
       "      <td>-0.046905</td>\n",
       "      <td>0.472524</td>\n",
       "      <td>-0.350309</td>\n",
       "      <td>0.500124</td>\n",
       "      <td>1.308212</td>\n",
       "      <td>0.789315</td>\n",
       "      <td>0.605719</td>\n",
       "      <td>...</td>\n",
       "      <td>-0.111559</td>\n",
       "      <td>-0.158471</td>\n",
       "      <td>-0.007622</td>\n",
       "      <td>-0.155215</td>\n",
       "      <td>-0.161788</td>\n",
       "      <td>-0.308392</td>\n",
       "      <td>-0.103060</td>\n",
       "      <td>-0.052154</td>\n",
       "      <td>-0.062450</td>\n",
       "      <td>-0.152207</td>\n",
       "    </tr>\n",
       "    <tr>\n",
       "      <th>-0.342475</th>\n",
       "      <td>-0.342475</td>\n",
       "      <td>-0.164984</td>\n",
       "      <td>-0.556576</td>\n",
       "      <td>-0.046905</td>\n",
       "      <td>0.472524</td>\n",
       "      <td>-0.350309</td>\n",
       "      <td>0.500124</td>\n",
       "      <td>1.308212</td>\n",
       "      <td>0.789315</td>\n",
       "      <td>0.605719</td>\n",
       "      <td>...</td>\n",
       "      <td>-0.111559</td>\n",
       "      <td>-0.158471</td>\n",
       "      <td>-0.015020</td>\n",
       "      <td>-0.155215</td>\n",
       "      <td>-0.164240</td>\n",
       "      <td>-0.308392</td>\n",
       "      <td>-0.103060</td>\n",
       "      <td>-0.052154</td>\n",
       "      <td>-0.062450</td>\n",
       "      <td>-0.152207</td>\n",
       "    </tr>\n",
       "    <tr>\n",
       "      <th>-0.342475</th>\n",
       "      <td>-0.342475</td>\n",
       "      <td>-0.164984</td>\n",
       "      <td>-0.556576</td>\n",
       "      <td>-0.046905</td>\n",
       "      <td>2.286616</td>\n",
       "      <td>-0.350309</td>\n",
       "      <td>-0.291828</td>\n",
       "      <td>4.350087</td>\n",
       "      <td>-0.323341</td>\n",
       "      <td>-0.371410</td>\n",
       "      <td>...</td>\n",
       "      <td>-0.111559</td>\n",
       "      <td>-0.158471</td>\n",
       "      <td>0.310487</td>\n",
       "      <td>-0.155215</td>\n",
       "      <td>-0.329755</td>\n",
       "      <td>-0.308392</td>\n",
       "      <td>-0.103060</td>\n",
       "      <td>-0.069079</td>\n",
       "      <td>-0.190726</td>\n",
       "      <td>-0.378150</td>\n",
       "    </tr>\n",
       "  </tbody>\n",
       "</table>\n",
       "<p>5 rows × 57 columns</p>\n",
       "</div>"
      ],
      "text/plain": [
       "           word_freq_make  word_freq_address  word_freq_all  word_freq_3d  \\\n",
       " 0.345252        0.345252           0.051976       0.435261     -0.046905   \n",
       "-0.145982       -0.145982          -0.164984       0.851833     -0.046905   \n",
       "-0.342475       -0.342475          -0.164984      -0.556576     -0.046905   \n",
       "-0.342475       -0.342475          -0.164984      -0.556576     -0.046905   \n",
       "-0.342475       -0.342475          -0.164984      -0.556576     -0.046905   \n",
       "\n",
       "           word_freq_our  word_freq_over  word_freq_remove  \\\n",
       " 0.345252      -0.256087        0.672259          0.244655   \n",
       "-0.145982       1.364700        0.343576          0.193562   \n",
       "-0.342475       0.472524       -0.350309          0.500124   \n",
       "-0.342475       0.472524       -0.350309          0.500124   \n",
       "-0.342475       2.286616       -0.350309         -0.291828   \n",
       "\n",
       "           word_freq_internet  word_freq_order  word_freq_mail  ...  \\\n",
       " 0.345252           -0.088058        -0.323341        1.086529  ...   \n",
       "-0.145982            0.036609         1.973754        0.016339  ...   \n",
       "-0.342475            1.308212         0.789315        0.605719  ...   \n",
       "-0.342475            1.308212         0.789315        0.605719  ...   \n",
       "-0.342475            4.350087        -0.323341       -0.371410  ...   \n",
       "\n",
       "           word_freq_conference  char_freq_semicolon  char_freq_leftparen  \\\n",
       " 0.345252             -0.111559            -0.158471            -0.026117   \n",
       "-0.145982             -0.111559            -0.117398             0.014571   \n",
       "-0.342475             -0.111559            -0.158471            -0.007622   \n",
       "-0.342475             -0.111559            -0.158471            -0.015020   \n",
       "-0.342475             -0.111559            -0.158471             0.310487   \n",
       "\n",
       "           char_freq_leftsquare  char_freq_bang  char_freq_dollar  \\\n",
       " 0.345252             -0.155215        0.126330          0.423674   \n",
       "-0.145982             -0.155215        0.008631          0.439942   \n",
       "-0.342475             -0.155215       -0.161788         -0.308392   \n",
       "-0.342475             -0.155215       -0.164240         -0.308392   \n",
       "-0.342475             -0.155215       -0.329755         -0.308392   \n",
       "\n",
       "           char_freq_hash  capital_run_length_average  \\\n",
       " 0.345252        0.008739                   -0.002453   \n",
       "-0.145982       -0.079768                    0.145895   \n",
       "-0.342475       -0.103060                   -0.052154   \n",
       "-0.342475       -0.103060                   -0.052154   \n",
       "-0.342475       -0.103060                   -0.069079   \n",
       "\n",
       "           capital_run_length_longest  capital_run_length_total  \n",
       " 0.345252                    0.250546                  1.228189  \n",
       "-0.145982                    2.220875                  3.258376  \n",
       "-0.342475                   -0.062450                 -0.152207  \n",
       "-0.342475                   -0.062450                 -0.152207  \n",
       "-0.342475                   -0.190726                 -0.378150  \n",
       "\n",
       "[5 rows x 57 columns]"
      ]
     },
     "execution_count": 8,
     "metadata": {},
     "output_type": "execute_result"
    }
   ],
   "source": [
    "df.head()"
   ]
  },
  {
   "cell_type": "markdown",
   "metadata": {},
   "source": [
    "### Problem 1 [Logistic regression]\n",
    "\n",
    "**1 (a) Split the original data into 75% for training and 25% for testing. Choose the training set at random and ensure that the fraction of SPAM examples in the training set is close to the fraction of 39.4% SPAM examples in the entire dataset. Train a logistic regression model on the training set and output the following on the testing set:**\n",
    "1. Confusion matrix \n",
    "2. True Positives, False Positives, True Negatives, False Negatives\n",
    "3. Accuracy, Error\n",
    "4. Precision, Recall, F1 score"
   ]
  },
  {
   "cell_type": "code",
   "execution_count": 9,
   "metadata": {},
   "outputs": [],
   "source": [
    "xTrain, xTest, yTrain, yTest = train_test_split(df, data_y, test_size = 0.25, random_state = 0)"
   ]
  },
  {
   "cell_type": "code",
   "execution_count": 10,
   "metadata": {},
   "outputs": [
    {
     "data": {
      "text/plain": [
       "0.392463768115942"
      ]
     },
     "execution_count": 10,
     "metadata": {},
     "output_type": "execute_result"
    }
   ],
   "source": [
    "len(yTrain.loc[yTrain == 1])/len(xTrain)"
   ]
  },
  {
   "cell_type": "markdown",
   "metadata": {},
   "source": [
    "#### Logistic Regression on training data"
   ]
  },
  {
   "cell_type": "code",
   "execution_count": 11,
   "metadata": {},
   "outputs": [
    {
     "name": "stderr",
     "output_type": "stream",
     "text": [
      "C:\\Users\\mouni\\Anaconda3\\lib\\site-packages\\sklearn\\linear_model\\logistic.py:432: FutureWarning: Default solver will be changed to 'lbfgs' in 0.22. Specify a solver to silence this warning.\n",
      "  FutureWarning)\n"
     ]
    },
    {
     "data": {
      "text/plain": [
       "LogisticRegression(C=1.0, class_weight=None, dual=False, fit_intercept=True,\n",
       "                   intercept_scaling=1, l1_ratio=None, max_iter=100,\n",
       "                   multi_class='warn', n_jobs=None, penalty='l2',\n",
       "                   random_state=None, solver='warn', tol=0.0001, verbose=0,\n",
       "                   warm_start=False)"
      ]
     },
     "execution_count": 11,
     "metadata": {},
     "output_type": "execute_result"
    }
   ],
   "source": [
    "logisticRegr = LogisticRegression()\n",
    "fit1 = logisticRegr.fit(xTrain, yTrain)\n",
    "fit1"
   ]
  },
  {
   "cell_type": "code",
   "execution_count": 12,
   "metadata": {},
   "outputs": [],
   "source": [
    "predictions = logisticRegr.predict(xTest)\n"
   ]
  },
  {
   "cell_type": "markdown",
   "metadata": {},
   "source": [
    "#### Confusion Matrix"
   ]
  },
  {
   "cell_type": "code",
   "execution_count": 13,
   "metadata": {},
   "outputs": [
    {
     "name": "stdout",
     "output_type": "stream",
     "text": [
      "[[656  36]\n",
      " [ 45 413]]\n"
     ]
    }
   ],
   "source": [
    "cm = metrics.confusion_matrix(yTest, predictions)\n",
    "print(cm)\n",
    "TN = cm[0][0]\n",
    "FN = cm[1][0]\n",
    "FP = cm[0][1]\n",
    "TP = cm[1][1]"
   ]
  },
  {
   "cell_type": "markdown",
   "metadata": {},
   "source": [
    "#### Accuracy score of the model and evalution metrics"
   ]
  },
  {
   "cell_type": "code",
   "execution_count": 14,
   "metadata": {},
   "outputs": [
    {
     "name": "stdout",
     "output_type": "stream",
     "text": [
      "0.9295652173913044\n"
     ]
    }
   ],
   "source": [
    "score = logisticRegr.score(xTest, yTest)\n",
    "print(score)"
   ]
  },
  {
   "cell_type": "code",
   "execution_count": 15,
   "metadata": {},
   "outputs": [
    {
     "name": "stdout",
     "output_type": "stream",
     "text": [
      "              precision    recall  f1-score   support\n",
      "\n",
      "           0       0.94      0.95      0.94       692\n",
      "           1       0.92      0.90      0.91       458\n",
      "\n",
      "    accuracy                           0.93      1150\n",
      "   macro avg       0.93      0.92      0.93      1150\n",
      "weighted avg       0.93      0.93      0.93      1150\n",
      "\n",
      "\n",
      "Cross entrophy:  2.432756237821959\n"
     ]
    }
   ],
   "source": [
    "print(metrics.classification_report(yTest, predictions))\n",
    "print(\"\\nCross entrophy: \", metrics.log_loss(yTest,predictions))"
   ]
  },
  {
   "cell_type": "markdown",
   "metadata": {},
   "source": [
    "#### Calculating accuracy, precision and recall using confusion matrix"
   ]
  },
  {
   "cell_type": "code",
   "execution_count": 16,
   "metadata": {
    "scrolled": false
   },
   "outputs": [
    {
     "name": "stdout",
     "output_type": "stream",
     "text": [
      "Accuracy: 0.9295652173913044\n",
      "Recall: 0.9017467248908297\n",
      "Precision: 0.9198218262806236\n",
      "Error: 0.07043478260869562\n",
      "F1 score: 0.9106945975744211\n"
     ]
    }
   ],
   "source": [
    "# Overall accuracy\n",
    "ACC = (TP+TN)/(TP+FP+FN+TN)\n",
    "print(\"Accuracy:\", ACC)\n",
    "\n",
    "# Recall\n",
    "recall = TP/(TP+FN)\n",
    "print(\"Recall:\", recall)\n",
    "\n",
    "# Precision \n",
    "precision = TP/(TP+FP)\n",
    "print(\"Precision:\", precision)\n",
    "\n",
    "# Error\n",
    "print(\"Error:\", 1-ACC)\n",
    "\n",
    "# F1 Score\n",
    "f1 = 2*((precision*recall)/(precision+recall))\n",
    "print(\"F1 score:\", f1)"
   ]
  },
  {
   "cell_type": "markdown",
   "metadata": {},
   "source": [
    "**1 (b) Print the coefficients of the features in the model. Which features contribute mostly to the prediction? Which ones are positively correlated and which ones are negatively correlated with the SPAM class?**"
   ]
  },
  {
   "cell_type": "code",
   "execution_count": 17,
   "metadata": {},
   "outputs": [
    {
     "data": {
      "text/plain": [
       "Index(['word_freq_make', 'word_freq_address', 'word_freq_all', 'word_freq_3d',\n",
       "       'word_freq_our', 'word_freq_over', 'word_freq_remove',\n",
       "       'word_freq_internet', 'word_freq_order', 'word_freq_mail',\n",
       "       'word_freq_receive', 'word_freq_will', 'word_freq_people',\n",
       "       'word_freq_report', 'word_freq_addresses', 'word_freq_free',\n",
       "       'word_freq_business', 'word_freq_email', 'word_freq_you',\n",
       "       'word_freq_credit', 'word_freq_your', 'word_freq_font', 'word_freq_000',\n",
       "       'word_freq_money', 'word_freq_hp', 'word_freq_hpl', 'word_freq_george',\n",
       "       'word_freq_650', 'word_freq_lab', 'word_freq_labs', 'word_freq_telnet',\n",
       "       'word_freq_857', 'word_freq_data', 'word_freq_415', 'word_freq_85',\n",
       "       'word_freq_technology', 'word_freq_1999', 'word_freq_parts',\n",
       "       'word_freq_pm', 'word_freq_direct', 'word_freq_cs', 'word_freq_meeting',\n",
       "       'word_freq_original', 'word_freq_project', 'word_freq_re',\n",
       "       'word_freq_edu', 'word_freq_table', 'word_freq_conference',\n",
       "       'char_freq_semicolon', 'char_freq_leftparen', 'char_freq_leftsquare',\n",
       "       'char_freq_bang', 'char_freq_dollar', 'char_freq_hash',\n",
       "       'capital_run_length_average', 'capital_run_length_longest',\n",
       "       'capital_run_length_total'],\n",
       "      dtype='object')"
      ]
     },
     "execution_count": 17,
     "metadata": {},
     "output_type": "execute_result"
    }
   ],
   "source": [
    "xTest.columns"
   ]
  },
  {
   "cell_type": "code",
   "execution_count": 18,
   "metadata": {
    "scrolled": false
   },
   "outputs": [
    {
     "data": {
      "text/plain": [
       "array([[-0.11025964, -0.2421029 ,  0.0744696 ,  1.00509894,  0.32554939,\n",
       "         0.19228165,  0.92593544,  0.19723677,  0.12351767,  0.06294884,\n",
       "        -0.10617344, -0.15743851,  0.03537821,  0.0268677 ,  0.28783505,\n",
       "         0.95061687,  0.40331579,  0.06210778,  0.15550624,  0.38409911,\n",
       "         0.25433162,  0.21443443,  0.79562219,  0.14887934, -2.27372541,\n",
       "        -0.8708625 , -3.96469735,  0.24012464, -1.00747867, -0.07162933,\n",
       "        -1.88766095, -0.07221077, -0.51984058,  0.0187023 , -1.0567242 ,\n",
       "         0.3471644 ,  0.03334317,  0.05257299, -0.31556135, -0.09045731,\n",
       "        -1.70289729, -1.47481818, -0.1690304 , -0.77961417, -0.79855884,\n",
       "        -1.3190043 , -0.18852476, -0.91685298, -0.29457888, -0.00719737,\n",
       "        -0.1671911 ,  0.23197986,  1.14918891,  0.71332883,  2.06528337,\n",
       "         1.76808093,  0.39388566]])"
      ]
     },
     "execution_count": 18,
     "metadata": {},
     "output_type": "execute_result"
    }
   ],
   "source": [
    "fit1.coef_"
   ]
  },
  {
   "cell_type": "markdown",
   "metadata": {},
   "source": [
    "#### The features that contribute mostly to the prediction are \n",
    "- capital_run_length_average\n",
    "- capital_run_length_longest\n",
    "- char_freq_dollar\n",
    "\n",
    "#### Positively correlated features with SPAM class\n",
    "\n",
    "#### Negatively correlated features with SPAM class"
   ]
  },
  {
   "cell_type": "markdown",
   "metadata": {},
   "source": [
    "**1 (c) Vary the decision threshold T ∈ {0.25, 0.5, 0.75, 0.9} and report for each value the model accuracy, precision, and recall. Comment on how these metrics vary with the choice of threshold.**\n",
    "\n",
    "#### Threshold = 0.5"
   ]
  },
  {
   "cell_type": "code",
   "execution_count": 20,
   "metadata": {},
   "outputs": [
    {
     "name": "stdout",
     "output_type": "stream",
     "text": [
      "[[656  36]\n",
      " [ 45 413]]\n"
     ]
    }
   ],
   "source": [
    "prediction_T = logisticRegr.predict_proba(xTest)>= 0.5\n",
    "\n",
    "prediction_T = prediction_T[:,0]\n",
    "cm_05 = metrics.confusion_matrix(yTest, prediction_T)\n",
    "print(cm)\n",
    "TN_05 = cm_05[0][0]\n",
    "FN_05 = cm_05[1][0]\n",
    "FP_05 = cm_05[0][1]\n",
    "TP_05 = cm_05[1][1]\n"
   ]
  },
  {
   "cell_type": "code",
   "execution_count": 21,
   "metadata": {},
   "outputs": [
    {
     "name": "stdout",
     "output_type": "stream",
     "text": [
      "Accuracy: 0.9295652173913044\n",
      "Recall: 0.9017467248908297\n",
      "Precision: 0.9198218262806236\n",
      "Error: 0.07043478260869562\n",
      "F1 score: 0.9106945975744211\n"
     ]
    }
   ],
   "source": [
    "# Overall accuracy\n",
    "ACC = (TP+TN)/(TP+FP+FN+TN)\n",
    "print(\"Accuracy:\", ACC)\n",
    "\n",
    "# Sensitivity, hit rate, recall, or true positive rate\n",
    "recall = TP/(TP+FN)\n",
    "print(\"Recall:\", recall)\n",
    "\n",
    "# Precision or positive predictive value\n",
    "precision = TP/(TP+FP)\n",
    "print(\"Precision:\", precision)\n",
    "\n",
    "# Error\n",
    "print(\"Error:\", 1-ACC)\n",
    "\n",
    "# F1 Score\n",
    "f1 = 2*((precision*recall)/(precision+recall))\n",
    "print(\"F1 score:\", f1)"
   ]
  },
  {
   "cell_type": "markdown",
   "metadata": {},
   "source": [
    "#### Threshold = 0.25"
   ]
  },
  {
   "cell_type": "code",
   "execution_count": 21,
   "metadata": {},
   "outputs": [
    {
     "name": "stdout",
     "output_type": "stream",
     "text": [
      "[[ 15 677]\n",
      " [363  95]]\n"
     ]
    }
   ],
   "source": [
    "prediction_T = logisticRegr.predict_proba(xTest)>= 0.25\n",
    "\n",
    "prediction_T = prediction_T[:,0]\n",
    "cm = metrics.confusion_matrix(yTest, prediction_T)\n",
    "print(cm)\n",
    "TN = cm[1][0]\n",
    "FN = cm[0][0]\n",
    "FP = cm[1][1]\n",
    "TP = cm[0][1]\n"
   ]
  },
  {
   "cell_type": "code",
   "execution_count": 22,
   "metadata": {},
   "outputs": [
    {
     "name": "stdout",
     "output_type": "stream",
     "text": [
      "Accuracy: 0.9043478260869565\n",
      "Recall: 0.9783236994219653\n",
      "Precision: 0.8769430051813472\n",
      "Error: 0.09565217391304348\n",
      "F1 score: 0.924863387978142\n"
     ]
    }
   ],
   "source": [
    "# Overall accuracy\n",
    "ACC = (TP+TN)/(TP+FP+FN+TN)\n",
    "print(\"Accuracy:\", ACC)\n",
    "\n",
    "# Sensitivity, hit rate, recall, or true positive rate\n",
    "recall = TP/(TP+FN)\n",
    "print(\"Recall:\", recall)\n",
    "\n",
    "# Precision or positive predictive value\n",
    "precision = TP/(TP+FP)\n",
    "print(\"Precision:\", precision)\n",
    "\n",
    "# Error\n",
    "print(\"Error:\", 1-ACC)\n",
    "\n",
    "# F1 Score\n",
    "f1 = 2*((precision*recall)/(precision+recall))\n",
    "print(\"F1 score:\", f1)"
   ]
  },
  {
   "cell_type": "markdown",
   "metadata": {},
   "source": [
    "#### Threshold = 0.75"
   ]
  },
  {
   "cell_type": "code",
   "execution_count": 23,
   "metadata": {},
   "outputs": [
    {
     "name": "stdout",
     "output_type": "stream",
     "text": [
      "[[101 591]\n",
      " [445  13]]\n"
     ]
    }
   ],
   "source": [
    "prediction_T = logisticRegr.predict_proba(xTest)>= 0.75\n",
    "\n",
    "prediction_T = prediction_T[:,0]\n",
    "cm = metrics.confusion_matrix(yTest, prediction_T)\n",
    "print(cm)\n",
    "TN = cm[1][0]\n",
    "FN = cm[0][0]\n",
    "FP = cm[1][1]\n",
    "TP = cm[0][1]\n"
   ]
  },
  {
   "cell_type": "code",
   "execution_count": 24,
   "metadata": {},
   "outputs": [
    {
     "name": "stdout",
     "output_type": "stream",
     "text": [
      "Accuracy: 0.9008695652173913\n",
      "Recall: 0.8540462427745664\n",
      "Precision: 0.9784768211920529\n",
      "Error: 0.09913043478260875\n",
      "F1 score: 0.912037037037037\n"
     ]
    }
   ],
   "source": [
    "# Overall accuracy\n",
    "ACC = (TP+TN)/(TP+FP+FN+TN)\n",
    "print(\"Accuracy:\", ACC)\n",
    "\n",
    "# Sensitivity, hit rate, recall, or true positive rate\n",
    "recall = TP/(TP+FN)\n",
    "print(\"Recall:\", recall)\n",
    "\n",
    "# Precision or positive predictive value\n",
    "precision = TP/(TP+FP)\n",
    "print(\"Precision:\", precision)\n",
    "\n",
    "# Error\n",
    "print(\"Error:\", 1-ACC)\n",
    "\n",
    "# F1 Score\n",
    "f1 = 2*((precision*recall)/(precision+recall))\n",
    "print(\"F1 score:\", f1)"
   ]
  },
  {
   "cell_type": "markdown",
   "metadata": {},
   "source": [
    "#### Threshold = 0.9"
   ]
  },
  {
   "cell_type": "code",
   "execution_count": 25,
   "metadata": {},
   "outputs": [
    {
     "name": "stdout",
     "output_type": "stream",
     "text": [
      "[[228 464]\n",
      " [455   3]]\n"
     ]
    }
   ],
   "source": [
    "prediction_T = logisticRegr.predict_proba(xTest)>= 0.9\n",
    "\n",
    "prediction_T = prediction_T[:,0]\n",
    "cm = metrics.confusion_matrix(yTest, prediction_T)\n",
    "print(cm)\n",
    "TN = cm[1][0]\n",
    "FN = cm[0][0]\n",
    "FP = cm[1][1]\n",
    "TP = cm[0][1]\n"
   ]
  },
  {
   "cell_type": "code",
   "execution_count": 26,
   "metadata": {},
   "outputs": [
    {
     "name": "stdout",
     "output_type": "stream",
     "text": [
      "Accuracy: 0.7991304347826087\n",
      "Recall: 0.6705202312138728\n",
      "Precision: 0.9935760171306209\n",
      "Error: 0.2008695652173913\n",
      "F1 score: 0.8006902502157032\n"
     ]
    }
   ],
   "source": [
    "# Overall accuracy\n",
    "ACC = (TP+TN)/(TP+FP+FN+TN)\n",
    "print(\"Accuracy:\", ACC)\n",
    "\n",
    "# Sensitivity, hit rate, recall, or true positive rate\n",
    "recall = TP/(TP+FN)\n",
    "print(\"Recall:\", recall)\n",
    "\n",
    "# Precision or positive predictive value\n",
    "precision = TP/(TP+FP)\n",
    "print(\"Precision:\", precision)\n",
    "\n",
    "# Error\n",
    "print(\"Error:\", 1-ACC)\n",
    "\n",
    "# F1 Score\n",
    "f1 = 2*((precision*recall)/(precision+recall))\n",
    "print(\"F1 score:\", f1)"
   ]
  },
  {
   "cell_type": "markdown",
   "metadata": {},
   "source": [
    "**1 (d) Use your implementation of gradient descent from Homework 2 and adapt it for logistic regression. Take 3 values of the learning rate and report the cross-entropy loss objective after 10, 50, and 100 iterations. At 100 iterations, report the accuracy and F1 score for the 3 learning rates, and compare with the metrics given by the package.**\n",
    "\n",
    "- Padding ones to the X variable"
   ]
  },
  {
   "cell_type": "code",
   "execution_count": 27,
   "metadata": {
    "scrolled": false
   },
   "outputs": [
    {
     "name": "stderr",
     "output_type": "stream",
     "text": [
      "C:\\Users\\mouni\\Anaconda3\\lib\\site-packages\\ipykernel_launcher.py:2: SettingWithCopyWarning: \n",
      "A value is trying to be set on a copy of a slice from a DataFrame.\n",
      "Try using .loc[row_indexer,col_indexer] = value instead\n",
      "\n",
      "See the caveats in the documentation: http://pandas.pydata.org/pandas-docs/stable/indexing.html#indexing-view-versus-copy\n",
      "  \n",
      "C:\\Users\\mouni\\Anaconda3\\lib\\site-packages\\ipykernel_launcher.py:5: SettingWithCopyWarning: \n",
      "A value is trying to be set on a copy of a slice from a DataFrame.\n",
      "Try using .loc[row_indexer,col_indexer] = value instead\n",
      "\n",
      "See the caveats in the documentation: http://pandas.pydata.org/pandas-docs/stable/indexing.html#indexing-view-versus-copy\n",
      "  \"\"\"\n"
     ]
    }
   ],
   "source": [
    "X1 = xTrain\n",
    "X1['ones'] = 1\n",
    "\n",
    "X2 = xTest\n",
    "X2['ones'] = 1"
   ]
  },
  {
   "cell_type": "code",
   "execution_count": 28,
   "metadata": {},
   "outputs": [],
   "source": [
    "def gradient_descent(X,y,theta,alpha,n):\n",
    "    \n",
    "    m = len(y)\n",
    "        \n",
    "    for i in range(n):\n",
    "        prediction = np.dot(X,theta)\n",
    "        h = 1 / (1 + np.exp(-prediction))\n",
    "        theta = theta - (1/m) * alpha * (X.T.dot(h - y))\n",
    "        \n",
    "    return theta"
   ]
  },
  {
   "cell_type": "code",
   "execution_count": 29,
   "metadata": {
    "scrolled": true
   },
   "outputs": [],
   "source": [
    "yTrain_gd = yTrain.to_numpy().reshape(yTrain.shape[0],1)"
   ]
  },
  {
   "cell_type": "markdown",
   "metadata": {},
   "source": [
    "cross entrophy"
   ]
  },
  {
   "cell_type": "code",
   "execution_count": 37,
   "metadata": {},
   "outputs": [
    {
     "name": "stdout",
     "output_type": "stream",
     "text": [
      "Cross entrophy:  11.08259791264905\n",
      "mean squared error on scaled test data (GD): 0.3208695652173913\n",
      "confusion matrix \n",
      " [[468 224]\n",
      " [145 313]]\n",
      "report: \n",
      "               precision    recall  f1-score   support\n",
      "\n",
      "           0       0.76      0.68      0.72       692\n",
      "           1       0.58      0.68      0.63       458\n",
      "\n",
      "    accuracy                           0.68      1150\n",
      "   macro avg       0.67      0.68      0.67      1150\n",
      "weighted avg       0.69      0.68      0.68      1150\n",
      "\n",
      "Cross entrophy:  10.121500144155345\n",
      "mean squared error on scaled test data (GD): 0.29304347826086957\n",
      "confusion matrix \n",
      " [[495 197]\n",
      " [140 318]]\n",
      "report: \n",
      "               precision    recall  f1-score   support\n",
      "\n",
      "           0       0.78      0.72      0.75       692\n",
      "           1       0.62      0.69      0.65       458\n",
      "\n",
      "    accuracy                           0.71      1150\n",
      "   macro avg       0.70      0.70      0.70      1150\n",
      "weighted avg       0.71      0.71      0.71      1150\n",
      "\n",
      "Cross entrophy:  9.55085184235097\n",
      "mean squared error on scaled test data (GD): 0.27652173913043476\n",
      "confusion matrix \n",
      " [[506 186]\n",
      " [132 326]]\n",
      "report: \n",
      "               precision    recall  f1-score   support\n",
      "\n",
      "           0       0.79      0.73      0.76       692\n",
      "           1       0.64      0.71      0.67       458\n",
      "\n",
      "    accuracy                           0.72      1150\n",
      "   macro avg       0.71      0.72      0.72      1150\n",
      "weighted avg       0.73      0.72      0.73      1150\n",
      "\n"
     ]
    }
   ],
   "source": [
    "alpha = 0.01\n",
    "iter = [10,50,100]\n",
    "cols = xTrain.columns\n",
    "theta = np.random.randn(len(cols),1)\n",
    "theta_df = theta\n",
    "for i in iter:\n",
    "    theta_j = gradient_descent(X1,yTrain_gd,theta_df,alpha,i)\n",
    "    yTest_pred_gd = xTest.dot(theta_j)\n",
    "    yTest_pred_gd = yTest_pred_gd.to_numpy()\n",
    "    \n",
    "    for i in range(len(yTest_pred_gd)):\n",
    "        if yTest_pred_gd[i]>0.5:\n",
    "            yTest_pred_gd[i] = 1\n",
    "        else:\n",
    "            yTest_pred_gd[i] = 0\n",
    "    print(\"Cross entrophy: \", metrics.log_loss(yTest,yTest_pred_gd))        \n",
    "    print(\"mean squared error on scaled test data (GD):\",metrics.mean_squared_error(yTest,yTest_pred_gd))\n",
    "    print(\"confusion matrix \\n\", metrics.confusion_matrix(yTest, yTest_pred_gd))\n",
    "    print(\"report: \\n\",metrics.classification_report(yTest, yTest_pred_gd))\n",
    "    \n",
    "    \n"
   ]
  },
  {
   "cell_type": "code",
   "execution_count": 31,
   "metadata": {},
   "outputs": [
    {
     "name": "stdout",
     "output_type": "stream",
     "text": [
      "mean squared error on scaled test data (GD): 0.4165217391304348\n",
      "confusion matrix \n",
      " [[504 188]\n",
      " [291 167]]\n",
      "report: \n",
      "               precision    recall  f1-score   support\n",
      "\n",
      "           0       0.63      0.73      0.68       692\n",
      "           1       0.47      0.36      0.41       458\n",
      "\n",
      "    accuracy                           0.58      1150\n",
      "   macro avg       0.55      0.55      0.54      1150\n",
      "weighted avg       0.57      0.58      0.57      1150\n",
      "\n",
      "mean squared error on scaled test data (GD): 0.4165217391304348\n",
      "confusion matrix \n",
      " [[504 188]\n",
      " [291 167]]\n",
      "report: \n",
      "               precision    recall  f1-score   support\n",
      "\n",
      "           0       0.63      0.73      0.68       692\n",
      "           1       0.47      0.36      0.41       458\n",
      "\n",
      "    accuracy                           0.58      1150\n",
      "   macro avg       0.55      0.55      0.54      1150\n",
      "weighted avg       0.57      0.58      0.57      1150\n",
      "\n",
      "mean squared error on scaled test data (GD): 0.4156521739130435\n",
      "confusion matrix \n",
      " [[505 187]\n",
      " [291 167]]\n",
      "report: \n",
      "               precision    recall  f1-score   support\n",
      "\n",
      "           0       0.63      0.73      0.68       692\n",
      "           1       0.47      0.36      0.41       458\n",
      "\n",
      "    accuracy                           0.58      1150\n",
      "   macro avg       0.55      0.55      0.55      1150\n",
      "weighted avg       0.57      0.58      0.57      1150\n",
      "\n"
     ]
    }
   ],
   "source": [
    "alpha = 0.001\n",
    "iter = [10,50,100]\n",
    "cols = xTrain.columns\n",
    "theta = np.random.randn(len(cols),1)\n",
    "theta_df = theta\n",
    "for i in iter:\n",
    "    theta_j = gradient_descent(X1,yTrain_gd,theta_df,alpha,i)\n",
    "    yTest_pred_gd = xTest.dot(theta_j)\n",
    "    yTest_pred_gd = yTest_pred_gd.to_numpy()\n",
    "    \n",
    "    for i in range(len(yTest_pred_gd)):\n",
    "        if yTest_pred_gd[i]>0.5:\n",
    "            yTest_pred_gd[i] = 1\n",
    "        else:\n",
    "            yTest_pred_gd[i] = 0\n",
    "    print(\"Cross entrophy: \", metrics.log_loss(yTest,yTest_pred_gd))            \n",
    "    print(\"mean squared error on scaled test data (GD):\",metrics.mean_squared_error(yTest,yTest_pred_gd))\n",
    "    print(\"confusion matrix \\n\", metrics.confusion_matrix(yTest, yTest_pred_gd))\n",
    "    print(\"report: \\n\",metrics.classification_report(yTest, yTest_pred_gd))"
   ]
  },
  {
   "cell_type": "code",
   "execution_count": 32,
   "metadata": {
    "scrolled": true
   },
   "outputs": [
    {
     "name": "stdout",
     "output_type": "stream",
     "text": [
      "mean squared error on scaled test data (GD): 0.3660869565217391\n",
      "confusion matrix \n",
      " [[415 277]\n",
      " [144 314]]\n",
      "report: \n",
      "               precision    recall  f1-score   support\n",
      "\n",
      "           0       0.74      0.60      0.66       692\n",
      "           1       0.53      0.69      0.60       458\n",
      "\n",
      "    accuracy                           0.63      1150\n",
      "   macro avg       0.64      0.64      0.63      1150\n",
      "weighted avg       0.66      0.63      0.64      1150\n",
      "\n",
      "mean squared error on scaled test data (GD): 0.19304347826086957\n",
      "confusion matrix \n",
      " [[561 131]\n",
      " [ 91 367]]\n",
      "report: \n",
      "               precision    recall  f1-score   support\n",
      "\n",
      "           0       0.86      0.81      0.83       692\n",
      "           1       0.74      0.80      0.77       458\n",
      "\n",
      "    accuracy                           0.81      1150\n",
      "   macro avg       0.80      0.81      0.80      1150\n",
      "weighted avg       0.81      0.81      0.81      1150\n",
      "\n",
      "mean squared error on scaled test data (GD): 0.12521739130434784\n",
      "confusion matrix \n",
      " [[636  56]\n",
      " [ 88 370]]\n",
      "report: \n",
      "               precision    recall  f1-score   support\n",
      "\n",
      "           0       0.88      0.92      0.90       692\n",
      "           1       0.87      0.81      0.84       458\n",
      "\n",
      "    accuracy                           0.87      1150\n",
      "   macro avg       0.87      0.86      0.87      1150\n",
      "weighted avg       0.87      0.87      0.87      1150\n",
      "\n"
     ]
    }
   ],
   "source": [
    "alpha = 0.2\n",
    "iter = [10,50,100]\n",
    "cols = xTrain.columns\n",
    "theta = np.random.randn(len(cols),1)\n",
    "theta_df = theta\n",
    "for i in iter:\n",
    "    theta_j = gradient_descent(X1,yTrain_gd,theta_df,alpha,i)\n",
    "    yTest_pred_gd = xTest.dot(theta_j)\n",
    "    yTest_pred_gd = yTest_pred_gd.to_numpy()\n",
    "    \n",
    "    for i in range(len(yTest_pred_gd)):\n",
    "        if yTest_pred_gd[i]>0.5:\n",
    "            yTest_pred_gd[i] = 1\n",
    "        else:\n",
    "            yTest_pred_gd[i] = 0\n",
    "            \n",
    "    print(\"Cross entrophy: \", metrics.log_loss(yTest,yTest_pred_gd))            \n",
    "    print(\"mean squared error on scaled test data (GD):\",metrics.mean_squared_error(yTest,yTest_pred_gd))\n",
    "    print(\"confusion matrix \\n\", metrics.confusion_matrix(yTest, yTest_pred_gd))\n",
    "    print(\"report: \\n\",metrics.classification_report(yTest, yTest_pred_gd))"
   ]
  },
  {
   "cell_type": "code",
   "execution_count": 47,
   "metadata": {
    "scrolled": true
   },
   "outputs": [
    {
     "name": "stdout",
     "output_type": "stream",
     "text": [
      "Cross entrophy:  16.819084056004122\n",
      "mean squared error on scaled test data (GD): 0.48695652173913045\n",
      "confusion matrix \n",
      " [[402 290]\n",
      " [270 188]]\n",
      "report: \n",
      "               precision    recall  f1-score   support\n",
      "\n",
      "           0       0.60      0.58      0.59       692\n",
      "           1       0.39      0.41      0.40       458\n",
      "\n",
      "    accuracy                           0.51      1150\n",
      "   macro avg       0.50      0.50      0.50      1150\n",
      "weighted avg       0.52      0.51      0.51      1150\n",
      "\n",
      "Cross entrophy:  18.26071784565558\n",
      "mean squared error on scaled test data (GD): 0.528695652173913\n",
      "confusion matrix \n",
      " [[380 312]\n",
      " [296 162]]\n",
      "report: \n",
      "               precision    recall  f1-score   support\n",
      "\n",
      "           0       0.56      0.55      0.56       692\n",
      "           1       0.34      0.35      0.35       458\n",
      "\n",
      "    accuracy                           0.47      1150\n",
      "   macro avg       0.45      0.45      0.45      1150\n",
      "weighted avg       0.47      0.47      0.47      1150\n",
      "\n",
      "Cross entrophy:  4.655271578299233\n",
      "mean squared error on scaled test data (GD): 0.13478260869565217\n",
      "confusion matrix \n",
      " [[627  65]\n",
      " [ 90 368]]\n",
      "report: \n",
      "               precision    recall  f1-score   support\n",
      "\n",
      "           0       0.87      0.91      0.89       692\n",
      "           1       0.85      0.80      0.83       458\n",
      "\n",
      "    accuracy                           0.87      1150\n",
      "   macro avg       0.86      0.85      0.86      1150\n",
      "weighted avg       0.86      0.87      0.86      1150\n",
      "\n"
     ]
    }
   ],
   "source": [
    "alpha = [0.01,0.001,0.2]\n",
    "iter = 100\n",
    "cols = xTrain.columns\n",
    "theta = np.random.randn(len(cols),1)\n",
    "theta_df = theta\n",
    "for i in alpha:\n",
    "    theta_j = gradient_descent(X1,yTrain_gd,theta_df,i,iter)\n",
    "    yTest_pred_gd = xTest.dot(theta_j)\n",
    "    yTest_pred_gd = yTest_pred_gd.to_numpy()\n",
    "    \n",
    "    for i in range(len(yTest_pred_gd)):\n",
    "        if yTest_pred_gd[i]>0.5:\n",
    "            yTest_pred_gd[i] = 1\n",
    "        else:\n",
    "            yTest_pred_gd[i] = 0\n",
    "            \n",
    "    print(\"Cross entrophy: \", metrics.log_loss(yTest,yTest_pred_gd))                     \n",
    "    print(\"mean squared error on scaled test data (GD):\",metrics.mean_squared_error(yTest,yTest_pred_gd))\n",
    "    print(\"confusion matrix \\n\", metrics.confusion_matrix(yTest, yTest_pred_gd))\n",
    "    print(\"report: \\n\",metrics.classification_report(yTest, yTest_pred_gd))"
   ]
  },
  {
   "cell_type": "markdown",
   "metadata": {},
   "source": [
    "### Problem 2 [Comparing classifiers]\n",
    "\n",
    "**You can use the same training and testing data as in Problem 1. Train the following classifiers using the training data:**\n",
    "1. Logistic regression\n",
    "2. LDA\n",
    "3. kNN\n",
    "4. Naive Bayes\n",
    "5. Decision tree\n",
    "\n",
    "**(a) answer is found at the end of (b) part.**\n",
    "\n",
    "**(b) Print the accuracy and error metrics for all 5 classifiers on both training and testing data. Which\n",
    "model is performing best? Which one is performing worst? Write down some observations.**"
   ]
  },
  {
   "cell_type": "markdown",
   "metadata": {},
   "source": [
    "**Logistic Regression**"
   ]
  },
  {
   "cell_type": "code",
   "execution_count": 43,
   "metadata": {
    "scrolled": true
   },
   "outputs": [
    {
     "name": "stderr",
     "output_type": "stream",
     "text": [
      "C:\\Users\\mouni\\Anaconda3\\lib\\site-packages\\sklearn\\linear_model\\logistic.py:432: FutureWarning: Default solver will be changed to 'lbfgs' in 0.22. Specify a solver to silence this warning.\n",
      "  FutureWarning)\n"
     ]
    },
    {
     "data": {
      "text/plain": [
       "LogisticRegression(C=1.0, class_weight=None, dual=False, fit_intercept=True,\n",
       "                   intercept_scaling=1, l1_ratio=None, max_iter=100,\n",
       "                   multi_class='warn', n_jobs=None, penalty='l2',\n",
       "                   random_state=None, solver='warn', tol=0.0001, verbose=0,\n",
       "                   warm_start=False)"
      ]
     },
     "execution_count": 43,
     "metadata": {},
     "output_type": "execute_result"
    }
   ],
   "source": [
    "logisticRegr = LogisticRegression()\n",
    "fit1 = logisticRegr.fit(xTrain, yTrain)\n",
    "fit1"
   ]
  },
  {
   "cell_type": "code",
   "execution_count": 44,
   "metadata": {},
   "outputs": [
    {
     "data": {
      "text/plain": [
       "array([1, 0, 0, ..., 0, 1, 0], dtype=int64)"
      ]
     },
     "execution_count": 44,
     "metadata": {},
     "output_type": "execute_result"
    }
   ],
   "source": [
    "y_pred_reg = logisticRegr.predict(xTest)\n",
    "y_pred_reg"
   ]
  },
  {
   "cell_type": "code",
   "execution_count": 51,
   "metadata": {},
   "outputs": [
    {
     "name": "stdout",
     "output_type": "stream",
     "text": [
      "TESTING:\n",
      "\n",
      "Accuracy of the model:  0.928695652173913\n",
      "Error:  0.07130434782608697\n",
      "\n",
      "confusion matrix \n",
      " [[655  37]\n",
      " [ 45 413]]\n",
      "\n",
      "Report: \n",
      "               precision    recall  f1-score   support\n",
      "\n",
      "           0       0.94      0.95      0.94       692\n",
      "           1       0.92      0.90      0.91       458\n",
      "\n",
      "    accuracy                           0.93      1150\n",
      "   macro avg       0.93      0.92      0.93      1150\n",
      "weighted avg       0.93      0.93      0.93      1150\n",
      "\n",
      "AUC: 0.92\n",
      "\n",
      "TRAINING: \n",
      "\n",
      "Accuracy of the model:  0.9263768115942029\n",
      "Error:  0.07362318840579707\n"
     ]
    }
   ],
   "source": [
    "print(\"TESTING:\\n\")\n",
    "score = logisticRegr.score(xTest, yTest)\n",
    "print(\"Accuracy of the model: \",score)\n",
    "print(\"Error: \",1-score)\n",
    "\n",
    "cm_reg = metrics.confusion_matrix(yTest, y_pred_reg)\n",
    "TN_reg = cm_reg[0][0]\n",
    "FN_reg = cm_reg[1][0]\n",
    "FP_reg = cm_reg[0][1]\n",
    "TP_reg = cm_reg[1][1]\n",
    "\n",
    "print(\"\\nconfusion matrix \\n\", cm_reg)\n",
    "print(\"\\nReport: \\n\",metrics.classification_report(yTest, y_pred_reg))\n",
    "\n",
    "print(\"\\nTRAINING: \\n\")\n",
    "score = logisticRegr.score(xTrain, yTrain)\n",
    "print(\"Accuracy of the model: \",score)\n",
    "print(\"Error: \",1-score)"
   ]
  },
  {
   "cell_type": "markdown",
   "metadata": {},
   "source": [
    "**Naive Bayes**"
   ]
  },
  {
   "cell_type": "code",
   "execution_count": 60,
   "metadata": {},
   "outputs": [
    {
     "data": {
      "text/plain": [
       "GaussianNB(priors=None, var_smoothing=1e-09)"
      ]
     },
     "execution_count": 60,
     "metadata": {},
     "output_type": "execute_result"
    }
   ],
   "source": [
    "nb = GaussianNB()\n",
    "fit2 = nb.fit(xTrain, yTrain)\n",
    "fit2"
   ]
  },
  {
   "cell_type": "code",
   "execution_count": 61,
   "metadata": {},
   "outputs": [
    {
     "data": {
      "text/plain": [
       "array([1, 0, 0, ..., 1, 1, 1], dtype=int64)"
      ]
     },
     "execution_count": 61,
     "metadata": {},
     "output_type": "execute_result"
    }
   ],
   "source": [
    "y_pred_nb = nb.predict(xTest)\n",
    "y_pred_nb"
   ]
  },
  {
   "cell_type": "code",
   "execution_count": 63,
   "metadata": {},
   "outputs": [
    {
     "name": "stdout",
     "output_type": "stream",
     "text": [
      "TESTING:\n",
      "\n",
      "Accuracy of the model:  0.8243478260869566\n",
      "Error:  0.17565217391304344\n",
      "confusion matrix \n",
      " [[502 190]\n",
      " [ 12 446]]\n",
      "report: \n",
      "               precision    recall  f1-score   support\n",
      "\n",
      "           0       0.98      0.73      0.83       692\n",
      "           1       0.70      0.97      0.82       458\n",
      "\n",
      "    accuracy                           0.82      1150\n",
      "   macro avg       0.84      0.85      0.82      1150\n",
      "weighted avg       0.87      0.82      0.83      1150\n",
      "\n",
      "TRAINING: \n",
      "\n",
      "Accuracy of the model:  0.8176811594202898\n",
      "Error:  0.18231884057971015\n"
     ]
    }
   ],
   "source": [
    "print(\"TESTING:\\n\")\n",
    "score = nb.score(xTest, yTest)\n",
    "print(\"Accuracy of the model: \",score)\n",
    "print(\"Error: \",1-score)\n",
    "print(\"confusion matrix \\n\", metrics.confusion_matrix(yTest, y_pred_nb))\n",
    "print(\"report: \\n\",metrics.classification_report(yTest, y_pred_nb))\n",
    "\n",
    "print(\"TRAINING: \\n\")\n",
    "score = nb.score(xTrain, yTrain)\n",
    "print(\"Accuracy of the model: \",score)\n",
    "print(\"Error: \",1-score)"
   ]
  },
  {
   "cell_type": "markdown",
   "metadata": {},
   "source": [
    "**Linear Discriminant Analysis**"
   ]
  },
  {
   "cell_type": "code",
   "execution_count": 35,
   "metadata": {
    "scrolled": true
   },
   "outputs": [
    {
     "name": "stderr",
     "output_type": "stream",
     "text": [
      "C:\\Users\\mouni\\Anaconda3\\lib\\site-packages\\sklearn\\discriminant_analysis.py:388: UserWarning: Variables are collinear.\n",
      "  warnings.warn(\"Variables are collinear.\")\n"
     ]
    }
   ],
   "source": [
    "lda = LDA(n_components=1)\n",
    "fit3 = lda.fit(xTrain, yTrain)\n",
    "y_pred_lda = fit3.predict(xTest)"
   ]
  },
  {
   "cell_type": "code",
   "execution_count": 36,
   "metadata": {},
   "outputs": [
    {
     "name": "stdout",
     "output_type": "stream",
     "text": [
      "TESTING:\n",
      "\n",
      "Accuracy of the model:  0.8947826086956522\n",
      "Error:  0.10521739130434782\n",
      "confusion matrix \n",
      " [[666  26]\n",
      " [ 95 363]]\n",
      "report: \n",
      "               precision    recall  f1-score   support\n",
      "\n",
      "           0       0.88      0.96      0.92       692\n",
      "           1       0.93      0.79      0.86       458\n",
      "\n",
      "    accuracy                           0.89      1150\n",
      "   macro avg       0.90      0.88      0.89      1150\n",
      "weighted avg       0.90      0.89      0.89      1150\n",
      "\n",
      "TRAINING: \n",
      "\n",
      "Accuracy of the model:  0.8855072463768116\n",
      "Error:  0.11449275362318845\n"
     ]
    }
   ],
   "source": [
    "print(\"TESTING:\\n\")\n",
    "score = lda.score(xTest, yTest)\n",
    "print(\"Accuracy of the model: \",score)\n",
    "print(\"Error: \",1-score)\n",
    "print(\"confusion matrix \\n\", metrics.confusion_matrix(yTest, y_pred_lda))\n",
    "print(\"report: \\n\",metrics.classification_report(yTest, y_pred_lda))\n",
    "\n",
    "print(\"TRAINING: \\n\")\n",
    "score = lda.score(xTrain, yTrain)\n",
    "print(\"Accuracy of the model: \",score)\n",
    "print(\"Error: \",1-score)"
   ]
  },
  {
   "cell_type": "markdown",
   "metadata": {},
   "source": [
    "**Decision Tree**"
   ]
  },
  {
   "cell_type": "code",
   "execution_count": 65,
   "metadata": {},
   "outputs": [
    {
     "data": {
      "text/plain": [
       "DecisionTreeClassifier(class_weight=None, criterion='gini', max_depth=None,\n",
       "                       max_features=None, max_leaf_nodes=None,\n",
       "                       min_impurity_decrease=0.0, min_impurity_split=None,\n",
       "                       min_samples_leaf=1, min_samples_split=2,\n",
       "                       min_weight_fraction_leaf=0.0, presort=False,\n",
       "                       random_state=None, splitter='best')"
      ]
     },
     "execution_count": 65,
     "metadata": {},
     "output_type": "execute_result"
    }
   ],
   "source": [
    "classifier_tree = DecisionTreeClassifier()\n",
    "classifier_tree.fit(xTrain, yTrain)"
   ]
  },
  {
   "cell_type": "code",
   "execution_count": 66,
   "metadata": {},
   "outputs": [],
   "source": [
    "y_pred_dtree = classifier_tree.predict(xTest)"
   ]
  },
  {
   "cell_type": "code",
   "execution_count": 67,
   "metadata": {
    "scrolled": true
   },
   "outputs": [
    {
     "name": "stdout",
     "output_type": "stream",
     "text": [
      "TESTING:\n",
      "\n",
      "Accuracy of the model:  0.8991304347826087\n",
      "Error:  0.10086956521739132\n",
      "confusion matrix \n",
      " [[632  60]\n",
      " [ 56 402]]\n",
      "report: \n",
      "               precision    recall  f1-score   support\n",
      "\n",
      "           0       0.92      0.91      0.92       692\n",
      "           1       0.87      0.88      0.87       458\n",
      "\n",
      "    accuracy                           0.90      1150\n",
      "   macro avg       0.89      0.90      0.89      1150\n",
      "weighted avg       0.90      0.90      0.90      1150\n",
      "\n",
      "TRAINING: \n",
      "\n",
      "Accuracy of the model:  0.9991304347826087\n",
      "Error:  0.0008695652173913437\n"
     ]
    }
   ],
   "source": [
    "print(\"TESTING:\\n\")\n",
    "score = classifier_tree.score(xTest, yTest)\n",
    "print(\"Accuracy of the model: \",score)\n",
    "print(\"Error: \",1-score)\n",
    "print(\"confusion matrix \\n\", metrics.confusion_matrix(yTest, y_pred_dtree))\n",
    "print(\"report: \\n\",metrics.classification_report(yTest, y_pred_dtree))\n",
    "\n",
    "print(\"TRAINING: \\n\")\n",
    "score = classifier_tree.score(xTrain, yTrain)\n",
    "print(\"Accuracy of the model: \",score)\n",
    "print(\"Error: \",1-score)"
   ]
  },
  {
   "cell_type": "markdown",
   "metadata": {},
   "source": [
    "**K Nearest Neighbours**"
   ]
  },
  {
   "cell_type": "code",
   "execution_count": 39,
   "metadata": {
    "scrolled": false
   },
   "outputs": [
    {
     "data": {
      "text/plain": [
       "KNeighborsClassifier(algorithm='auto', leaf_size=30, metric='minkowski',\n",
       "                     metric_params=None, n_jobs=None, n_neighbors=10, p=2,\n",
       "                     weights='uniform')"
      ]
     },
     "execution_count": 39,
     "metadata": {},
     "output_type": "execute_result"
    }
   ],
   "source": [
    "classifier = KNeighborsClassifier(n_neighbors=10)\n",
    "classifier.fit(xTrain, yTrain)"
   ]
  },
  {
   "cell_type": "code",
   "execution_count": 40,
   "metadata": {},
   "outputs": [
    {
     "data": {
      "text/plain": [
       "array([1, 0, 0, ..., 0, 0, 0], dtype=int64)"
      ]
     },
     "execution_count": 40,
     "metadata": {},
     "output_type": "execute_result"
    }
   ],
   "source": [
    "y_pred_knn = classifier.predict(xTest)\n",
    "y_pred_knn"
   ]
  },
  {
   "cell_type": "code",
   "execution_count": 41,
   "metadata": {
    "scrolled": true
   },
   "outputs": [
    {
     "name": "stdout",
     "output_type": "stream",
     "text": [
      "TESTING:\n",
      "\n",
      "Accuracy of the model:  0.9113043478260869\n",
      "Error:  0.08869565217391306\n",
      "confusion matrix \n",
      " [[662  30]\n",
      " [ 72 386]]\n",
      "report: \n",
      "               precision    recall  f1-score   support\n",
      "\n",
      "           0       0.90      0.96      0.93       692\n",
      "           1       0.93      0.84      0.88       458\n",
      "\n",
      "    accuracy                           0.91      1150\n",
      "   macro avg       0.91      0.90      0.91      1150\n",
      "weighted avg       0.91      0.91      0.91      1150\n",
      "\n",
      "TRAINING: \n",
      "\n",
      "Accuracy of the model:  0.9127536231884058\n",
      "Error:  0.0872463768115942\n"
     ]
    }
   ],
   "source": [
    "print(\"TESTING:\\n\")\n",
    "score = classifier.score(xTest, yTest)\n",
    "print(\"Accuracy of the model: \",score)\n",
    "print(\"Error: \",1-score)\n",
    "print(\"confusion matrix \\n\", metrics.confusion_matrix(yTest, y_pred_knn))\n",
    "print(\"report: \\n\",metrics.classification_report(yTest, y_pred_knn))\n",
    "\n",
    "print(\"TRAINING: \\n\")\n",
    "score = classifier.score(xTrain, yTrain)\n",
    "print(\"Accuracy of the model: \",score)\n",
    "print(\"Error: \",1-score)"
   ]
  },
  {
   "cell_type": "markdown",
   "metadata": {},
   "source": [
    "**(a) Experiment with different values of k for kNN and report 2 metrics on the training and testing sets: accuracy and error. Choose the value of k that gives the highest accuracy in testing.**"
   ]
  },
  {
   "cell_type": "code",
   "execution_count": 88,
   "metadata": {},
   "outputs": [],
   "source": [
    "error = []\n",
    "\n",
    "# Calculating error for K values between 1 and 40\n",
    "for i in range(1, 40):\n",
    "    knn = KNeighborsClassifier(n_neighbors=i)\n",
    "    knn.fit(xTrain, yTrain)\n",
    "    pred_i = knn.predict(xTest)\n",
    "    error.append(np.mean(pred_i != yTest))"
   ]
  },
  {
   "cell_type": "code",
   "execution_count": 89,
   "metadata": {},
   "outputs": [
    {
     "data": {
      "text/plain": [
       "Text(0, 0.5, 'Mean Squared Error')"
      ]
     },
     "execution_count": 89,
     "metadata": {},
     "output_type": "execute_result"
    },
    {
     "data": {
      "image/png": "[encoded data removed]",
      "text/plain": [
       "<Figure size 864x432 with 1 Axes>"
      ]
     },
     "metadata": {
      "needs_background": "light"
     },
     "output_type": "display_data"
    }
   ],
   "source": [
    "plt.figure(figsize=(12, 6))\n",
    "plt.plot(range(1, 40), error, color='green', marker='o',\n",
    "         markerfacecolor='red', markersize=10)\n",
    "plt.xlabel('K Values')\n",
    "plt.ylabel('Mean Squared Error')"
   ]
  },
  {
   "cell_type": "markdown",
   "metadata": {},
   "source": [
    "**From the output we can see that the mean error is minimum when the value of the K is between 10 and 22.** \n",
    "\n",
    "**For k =10**"
   ]
  },
  {
   "cell_type": "code",
   "execution_count": 90,
   "metadata": {},
   "outputs": [
    {
     "data": {
      "text/plain": [
       "KNeighborsClassifier(algorithm='auto', leaf_size=30, metric='minkowski',\n",
       "                     metric_params=None, n_jobs=None, n_neighbors=10, p=2,\n",
       "                     weights='uniform')"
      ]
     },
     "execution_count": 90,
     "metadata": {},
     "output_type": "execute_result"
    }
   ],
   "source": [
    "classifier = KNeighborsClassifier(n_neighbors=10)\n",
    "classifier.fit(xTrain, yTrain)"
   ]
  },
  {
   "cell_type": "code",
   "execution_count": 91,
   "metadata": {},
   "outputs": [
    {
     "data": {
      "text/plain": [
       "array([1, 0, 0, ..., 0, 0, 0], dtype=int64)"
      ]
     },
     "execution_count": 91,
     "metadata": {},
     "output_type": "execute_result"
    }
   ],
   "source": [
    "y_pred_knn_10 = classifier.predict(xTest)\n",
    "y_pred_knn_10"
   ]
  },
  {
   "cell_type": "code",
   "execution_count": 87,
   "metadata": {
    "scrolled": true
   },
   "outputs": [
    {
     "name": "stdout",
     "output_type": "stream",
     "text": [
      "TESTING: \n",
      "\n",
      "Accuracy of the model:  0.9130434782608695\n",
      "Error of the model:  0.08695652173913049\n",
      "confusion matrix \n",
      " [[655  37]\n",
      " [ 63 395]]\n",
      "report: \n",
      "               precision    recall  f1-score   support\n",
      "\n",
      "           0       0.91      0.95      0.93       692\n",
      "           1       0.91      0.86      0.89       458\n",
      "\n",
      "    accuracy                           0.91      1150\n",
      "   macro avg       0.91      0.90      0.91      1150\n",
      "weighted avg       0.91      0.91      0.91      1150\n",
      "\n",
      "TRAINING: \n",
      "\n",
      "Accuracy of the model:  0.9298550724637681\n",
      "Error:  0.07014492753623192\n"
     ]
    }
   ],
   "source": [
    "print(\"TESTING: \\n\")\n",
    "score = classifier.score(xTest, yTest)\n",
    "print(\"Accuracy of the model: \",score)\n",
    "print(\"Error of the model: \", 1-score)\n",
    "print(\"confusion matrix \\n\", metrics.confusion_matrix(yTest, y_pred_knn_10))\n",
    "print(\"report: \\n\",metrics.classification_report(yTest, y_pred_knn_10))\n",
    "\n",
    "print(\"TRAINING: \\n\")\n",
    "score = classifier.score(xTrain, yTrain)\n",
    "print(\"Accuracy of the model: \",score)\n",
    "print(\"Error: \",1-score)"
   ]
  },
  {
   "cell_type": "markdown",
   "metadata": {},
   "source": [
    "**For k = 21**"
   ]
  },
  {
   "cell_type": "code",
   "execution_count": 92,
   "metadata": {},
   "outputs": [
    {
     "data": {
      "text/plain": [
       "KNeighborsClassifier(algorithm='auto', leaf_size=30, metric='minkowski',\n",
       "                     metric_params=None, n_jobs=None, n_neighbors=21, p=2,\n",
       "                     weights='uniform')"
      ]
     },
     "execution_count": 92,
     "metadata": {},
     "output_type": "execute_result"
    }
   ],
   "source": [
    "classifier = KNeighborsClassifier(n_neighbors=21)\n",
    "classifier.fit(xTrain, yTrain)"
   ]
  },
  {
   "cell_type": "code",
   "execution_count": 93,
   "metadata": {},
   "outputs": [
    {
     "data": {
      "text/plain": [
       "array([1, 0, 0, ..., 0, 0, 0], dtype=int64)"
      ]
     },
     "execution_count": 93,
     "metadata": {},
     "output_type": "execute_result"
    }
   ],
   "source": [
    "y_pred_knn_21 = classifier.predict(xTest)\n",
    "y_pred_knn_21"
   ]
  },
  {
   "cell_type": "code",
   "execution_count": 94,
   "metadata": {
    "scrolled": true
   },
   "outputs": [
    {
     "name": "stdout",
     "output_type": "stream",
     "text": [
      "TESTING: \n",
      "\n",
      "Accuracy of the model:  0.9165217391304348\n",
      "Error of the model:  0.08347826086956522\n",
      "confusion matrix \n",
      " [[665  27]\n",
      " [ 69 389]]\n",
      "report: \n",
      "               precision    recall  f1-score   support\n",
      "\n",
      "           0       0.91      0.96      0.93       692\n",
      "           1       0.94      0.85      0.89       458\n",
      "\n",
      "    accuracy                           0.92      1150\n",
      "   macro avg       0.92      0.91      0.91      1150\n",
      "weighted avg       0.92      0.92      0.92      1150\n",
      "\n",
      "TRAINING: \n",
      "\n",
      "Accuracy of the model:  0.9060869565217391\n",
      "Error:  0.0939130434782609\n"
     ]
    }
   ],
   "source": [
    "print(\"TESTING: \\n\")\n",
    "score = classifier.score(xTest, yTest)\n",
    "print(\"Accuracy of the model: \",score)\n",
    "print(\"Error of the model: \", 1-score)\n",
    "print(\"confusion matrix \\n\", metrics.confusion_matrix(yTest, y_pred_knn_21))\n",
    "print(\"report: \\n\",metrics.classification_report(yTest, y_pred_knn_21))\n",
    "\n",
    "print(\"TRAINING: \\n\")\n",
    "score = classifier.score(xTrain, yTrain)\n",
    "print(\"Accuracy of the model: \",score)\n",
    "print(\"Error: \",1-score)"
   ]
  },
  {
   "cell_type": "markdown",
   "metadata": {},
   "source": [
    "**(c) Generate a graph that includes 5 ROC curves (one for each of the 5 classifiers) on the testing set.\n",
    "Compute the Area Under the Curve (AUC) metric for all 5 classifiers.**"
   ]
  },
  {
   "cell_type": "code",
   "execution_count": 54,
   "metadata": {},
   "outputs": [],
   "source": [
    "def plot_roc_curve(fpr, tpr):\n",
    "    plt.plot(fpr, tpr, color='orange', label='ROC')\n",
    "    plt.plot([0, 1], [0, 1], color='darkblue', linestyle='--')\n",
    "    plt.xlabel('False Positive Rate')\n",
    "    plt.ylabel('True Positive Rate')\n",
    "    plt.title('Receiver Operating Characteristic (ROC) Curve')\n",
    "    plt.legend()\n",
    "    plt.show()"
   ]
  },
  {
   "cell_type": "markdown",
   "metadata": {},
   "source": [
    "**Logistic Regression**"
   ]
  },
  {
   "cell_type": "code",
   "execution_count": 56,
   "metadata": {},
   "outputs": [
    {
     "name": "stdout",
     "output_type": "stream",
     "text": [
      "AUC: 0.92\n"
     ]
    },
    {
     "data": {
      "image/png": "[encoded data removed]",
      "text/plain": [
       "<Figure size 432x288 with 1 Axes>"
      ]
     },
     "metadata": {
      "needs_background": "light"
     },
     "output_type": "display_data"
    }
   ],
   "source": [
    "auc = roc_auc_score(yTest, y_pred_reg)\n",
    "print('AUC: %.2f' % auc)\n",
    "\n",
    "fpr, tpr, thresholds = roc_curve(yTest, y_pred_reg)\n",
    "\n",
    "plot_roc_curve(fpr, tpr)"
   ]
  },
  {
   "cell_type": "markdown",
   "metadata": {},
   "source": [
    "**LDA**"
   ]
  },
  {
   "cell_type": "code",
   "execution_count": 55,
   "metadata": {
    "scrolled": true
   },
   "outputs": [
    {
     "name": "stdout",
     "output_type": "stream",
     "text": [
      "AUC: 0.88\n"
     ]
    },
    {
     "data": {
      "image/png": "[encoded data removed]",
      "text/plain": [
       "<Figure size 432x288 with 1 Axes>"
      ]
     },
     "metadata": {
      "needs_background": "light"
     },
     "output_type": "display_data"
    }
   ],
   "source": [
    "auc = roc_auc_score(yTest, y_pred_lda)\n",
    "print('AUC: %.2f' % auc)\n",
    "\n",
    "fpr, tpr, thresholds = roc_curve(yTest, y_pred_lda)\n",
    "\n",
    "plot_roc_curve(fpr, tpr)"
   ]
  },
  {
   "cell_type": "markdown",
   "metadata": {},
   "source": [
    "**K Nearest Neighbours**"
   ]
  },
  {
   "cell_type": "code",
   "execution_count": 58,
   "metadata": {},
   "outputs": [
    {
     "name": "stdout",
     "output_type": "stream",
     "text": [
      "AUC: 0.90\n"
     ]
    },
    {
     "data": {
      "image/png": "[encoded data removed]",
      "text/plain": [
       "<Figure size 432x288 with 1 Axes>"
      ]
     },
     "metadata": {
      "needs_background": "light"
     },
     "output_type": "display_data"
    }
   ],
   "source": [
    "auc = roc_auc_score(yTest, y_pred_knn)\n",
    "print('AUC: %.2f' % auc)\n",
    "\n",
    "fpr, tpr, thresholds = roc_curve(yTest, y_pred_knn)\n",
    "\n",
    "plot_roc_curve(fpr, tpr)"
   ]
  },
  {
   "cell_type": "markdown",
   "metadata": {},
   "source": [
    "**Naive Bayes**"
   ]
  },
  {
   "cell_type": "code",
   "execution_count": 64,
   "metadata": {},
   "outputs": [
    {
     "name": "stdout",
     "output_type": "stream",
     "text": [
      "AUC: 0.85\n"
     ]
    },
    {
     "data": {
      "image/png": "[encoded data removed]",
      "text/plain": [
       "<Figure size 432x288 with 1 Axes>"
      ]
     },
     "metadata": {
      "needs_background": "light"
     },
     "output_type": "display_data"
    }
   ],
   "source": [
    "auc = roc_auc_score(yTest, y_pred_nb)\n",
    "print('AUC: %.2f' % auc)\n",
    "\n",
    "fpr, tpr, thresholds = roc_curve(yTest, y_pred_nb)\n",
    "\n",
    "plot_roc_curve(fpr, tpr)"
   ]
  },
  {
   "cell_type": "markdown",
   "metadata": {},
   "source": [
    "**Decision Tree**"
   ]
  },
  {
   "cell_type": "code",
   "execution_count": 68,
   "metadata": {},
   "outputs": [
    {
     "name": "stdout",
     "output_type": "stream",
     "text": [
      "AUC: 0.90\n"
     ]
    },
    {
     "data": {
      "image/png": "[encoded data removed]",
      "text/plain": [
       "<Figure size 432x288 with 1 Axes>"
      ]
     },
     "metadata": {
      "needs_background": "light"
     },
     "output_type": "display_data"
    }
   ],
   "source": [
    "auc = roc_auc_score(yTest, y_pred_dtree)\n",
    "print('AUC: %.2f' % auc)\n",
    "\n",
    "fpr, tpr, thresholds = roc_curve(yTest, y_pred_dtree)\n",
    "\n",
    "plot_roc_curve(fpr, tpr)"
   ]
  }
 ],
 "metadata": {
  "kernelspec": {
   "display_name": "Python 3",
   "language": "python",
   "name": "python3"
  },
  "language_info": {
   "codemirror_mode": {
    "name": "ipython",
    "version": 3
   },
   "file_extension": ".py",
   "mimetype": "text/x-python",
   "name": "python",
   "nbconvert_exporter": "python",
   "pygments_lexer": "ipython3",
   "version": "3.7.3"
  }
 },
 "nbformat": 4,
 "nbformat_minor": 2
}
