{
 "cells": [
  {
   "cell_type": "code",
   "execution_count": 1,
   "metadata": {},
   "outputs": [],
   "source": [
    "import pandas as pd\n",
    "import matplotlib.pyplot as plt\n",
    "import numpy as np\n",
    "\n",
    "from sklearn import linear_model\n",
    "from sklearn.metrics import mean_squared_error\n",
    "from sklearn import preprocessing"
   ]
  },
  {
   "cell_type": "code",
   "execution_count": 2,
   "metadata": {},
   "outputs": [],
   "source": [
    "# read in data\n",
    "weather = pd.read_csv('weatherHistory.csv')"
   ]
  },
  {
   "cell_type": "code",
   "execution_count": 3,
   "metadata": {},
   "outputs": [],
   "source": [
    "dummy_precip = pd.get_dummies(weather['Precip Type'])\n",
    "weather['rain'] = dummy_precip['rain']\n",
    "weather['snow'] = dummy_precip['snow']"
   ]
  },
  {
   "cell_type": "code",
   "execution_count": 4,
   "metadata": {},
   "outputs": [],
   "source": [
    "# get only features to use\n",
    "weather = weather.drop(columns=['Formatted Date', 'Summary', 'Daily Summary', 'Loud Cover', 'Precip Type', 'Temperature (C)'])\n",
    "weather = weather.reset_index(drop=True)"
   ]
  },
  {
   "cell_type": "code",
   "execution_count": 5,
   "metadata": {},
   "outputs": [],
   "source": [
    "# min max normalize features\n",
    "min_max_scaler = preprocessing.MinMaxScaler()\n",
    "weather['Humidity'] = min_max_scaler.fit_transform(pd.DataFrame(weather['Humidity']))\n",
    "weather['Wind Speed (km/h)'] = min_max_scaler.fit_transform(pd.DataFrame(weather['Wind Speed (km/h)']))\n",
    "weather['Wind Bearing (degrees)'] = min_max_scaler.fit_transform(pd.DataFrame(weather['Wind Bearing (degrees)']))\n",
    "weather['Visibility (km)'] = min_max_scaler.fit_transform(pd.DataFrame(weather['Visibility (km)']))\n",
    "weather['Pressure (millibars)'] = min_max_scaler.fit_transform(pd.DataFrame(weather['Pressure (millibars)']))"
   ]
  },
  {
   "cell_type": "code",
   "execution_count": 6,
   "metadata": {
    "scrolled": true
   },
   "outputs": [
    {
     "data": {
      "text/html": [
       "<div>\n",
       "<style scoped>\n",
       "    .dataframe tbody tr th:only-of-type {\n",
       "        vertical-align: middle;\n",
       "    }\n",
       "\n",
       "    .dataframe tbody tr th {\n",
       "        vertical-align: top;\n",
       "    }\n",
       "\n",
       "    .dataframe thead th {\n",
       "        text-align: right;\n",
       "    }\n",
       "</style>\n",
       "<table border=\"1\" class=\"dataframe\">\n",
       "  <thead>\n",
       "    <tr style=\"text-align: right;\">\n",
       "      <th></th>\n",
       "      <th>Apparent Temperature (C)</th>\n",
       "      <th>Humidity</th>\n",
       "      <th>Wind Speed (km/h)</th>\n",
       "      <th>Wind Bearing (degrees)</th>\n",
       "      <th>Visibility (km)</th>\n",
       "      <th>Pressure (millibars)</th>\n",
       "      <th>rain</th>\n",
       "      <th>snow</th>\n",
       "    </tr>\n",
       "  </thead>\n",
       "  <tbody>\n",
       "    <tr>\n",
       "      <td>count</td>\n",
       "      <td>96453.000000</td>\n",
       "      <td>96453.000000</td>\n",
       "      <td>96453.000000</td>\n",
       "      <td>96453.000000</td>\n",
       "      <td>96453.000000</td>\n",
       "      <td>96453.000000</td>\n",
       "      <td>96453.000000</td>\n",
       "      <td>96453.000000</td>\n",
       "    </tr>\n",
       "    <tr>\n",
       "      <td>mean</td>\n",
       "      <td>10.855029</td>\n",
       "      <td>0.734899</td>\n",
       "      <td>0.169306</td>\n",
       "      <td>0.522310</td>\n",
       "      <td>0.642691</td>\n",
       "      <td>0.958768</td>\n",
       "      <td>0.883581</td>\n",
       "      <td>0.111059</td>\n",
       "    </tr>\n",
       "    <tr>\n",
       "      <td>std</td>\n",
       "      <td>10.696847</td>\n",
       "      <td>0.195473</td>\n",
       "      <td>0.108274</td>\n",
       "      <td>0.299118</td>\n",
       "      <td>0.260380</td>\n",
       "      <td>0.111785</td>\n",
       "      <td>0.320729</td>\n",
       "      <td>0.314207</td>\n",
       "    </tr>\n",
       "    <tr>\n",
       "      <td>min</td>\n",
       "      <td>-27.716667</td>\n",
       "      <td>0.000000</td>\n",
       "      <td>0.000000</td>\n",
       "      <td>0.000000</td>\n",
       "      <td>0.000000</td>\n",
       "      <td>0.000000</td>\n",
       "      <td>0.000000</td>\n",
       "      <td>0.000000</td>\n",
       "    </tr>\n",
       "    <tr>\n",
       "      <td>25%</td>\n",
       "      <td>2.311111</td>\n",
       "      <td>0.600000</td>\n",
       "      <td>0.091276</td>\n",
       "      <td>0.323120</td>\n",
       "      <td>0.518000</td>\n",
       "      <td>0.967048</td>\n",
       "      <td>1.000000</td>\n",
       "      <td>0.000000</td>\n",
       "    </tr>\n",
       "    <tr>\n",
       "      <td>50%</td>\n",
       "      <td>12.000000</td>\n",
       "      <td>0.780000</td>\n",
       "      <td>0.156077</td>\n",
       "      <td>0.501393</td>\n",
       "      <td>0.624000</td>\n",
       "      <td>0.971397</td>\n",
       "      <td>1.000000</td>\n",
       "      <td>0.000000</td>\n",
       "    </tr>\n",
       "    <tr>\n",
       "      <td>75%</td>\n",
       "      <td>18.838889</td>\n",
       "      <td>0.890000</td>\n",
       "      <td>0.221382</td>\n",
       "      <td>0.807799</td>\n",
       "      <td>0.920000</td>\n",
       "      <td>0.975831</td>\n",
       "      <td>1.000000</td>\n",
       "      <td>0.000000</td>\n",
       "    </tr>\n",
       "    <tr>\n",
       "      <td>max</td>\n",
       "      <td>39.344444</td>\n",
       "      <td>1.000000</td>\n",
       "      <td>1.000000</td>\n",
       "      <td>1.000000</td>\n",
       "      <td>1.000000</td>\n",
       "      <td>1.000000</td>\n",
       "      <td>1.000000</td>\n",
       "      <td>1.000000</td>\n",
       "    </tr>\n",
       "  </tbody>\n",
       "</table>\n",
       "</div>"
      ],
      "text/plain": [
       "       Apparent Temperature (C)      Humidity  Wind Speed (km/h)  \\\n",
       "count              96453.000000  96453.000000       96453.000000   \n",
       "mean                  10.855029      0.734899           0.169306   \n",
       "std                   10.696847      0.195473           0.108274   \n",
       "min                  -27.716667      0.000000           0.000000   \n",
       "25%                    2.311111      0.600000           0.091276   \n",
       "50%                   12.000000      0.780000           0.156077   \n",
       "75%                   18.838889      0.890000           0.221382   \n",
       "max                   39.344444      1.000000           1.000000   \n",
       "\n",
       "       Wind Bearing (degrees)  Visibility (km)  Pressure (millibars)  \\\n",
       "count            96453.000000     96453.000000          96453.000000   \n",
       "mean                 0.522310         0.642691              0.958768   \n",
       "std                  0.299118         0.260380              0.111785   \n",
       "min                  0.000000         0.000000              0.000000   \n",
       "25%                  0.323120         0.518000              0.967048   \n",
       "50%                  0.501393         0.624000              0.971397   \n",
       "75%                  0.807799         0.920000              0.975831   \n",
       "max                  1.000000         1.000000              1.000000   \n",
       "\n",
       "               rain          snow  \n",
       "count  96453.000000  96453.000000  \n",
       "mean       0.883581      0.111059  \n",
       "std        0.320729      0.314207  \n",
       "min        0.000000      0.000000  \n",
       "25%        1.000000      0.000000  \n",
       "50%        1.000000      0.000000  \n",
       "75%        1.000000      0.000000  \n",
       "max        1.000000      1.000000  "
      ]
     },
     "execution_count": 6,
     "metadata": {},
     "output_type": "execute_result"
    }
   ],
   "source": [
    "weather.describe()"
   ]
  },
  {
   "cell_type": "code",
   "execution_count": 7,
   "metadata": {},
   "outputs": [
    {
     "data": {
      "text/html": [
       "<div>\n",
       "<style scoped>\n",
       "    .dataframe tbody tr th:only-of-type {\n",
       "        vertical-align: middle;\n",
       "    }\n",
       "\n",
       "    .dataframe tbody tr th {\n",
       "        vertical-align: top;\n",
       "    }\n",
       "\n",
       "    .dataframe thead th {\n",
       "        text-align: right;\n",
       "    }\n",
       "</style>\n",
       "<table border=\"1\" class=\"dataframe\">\n",
       "  <thead>\n",
       "    <tr style=\"text-align: right;\">\n",
       "      <th></th>\n",
       "      <th>Apparent Temperature (C)</th>\n",
       "      <th>Humidity</th>\n",
       "      <th>Wind Speed (km/h)</th>\n",
       "      <th>Wind Bearing (degrees)</th>\n",
       "      <th>Visibility (km)</th>\n",
       "      <th>Pressure (millibars)</th>\n",
       "      <th>rain</th>\n",
       "      <th>snow</th>\n",
       "    </tr>\n",
       "  </thead>\n",
       "  <tbody>\n",
       "    <tr>\n",
       "      <td>0</td>\n",
       "      <td>7.388889</td>\n",
       "      <td>0.89</td>\n",
       "      <td>0.221130</td>\n",
       "      <td>0.699164</td>\n",
       "      <td>0.983</td>\n",
       "      <td>0.970135</td>\n",
       "      <td>1</td>\n",
       "      <td>0</td>\n",
       "    </tr>\n",
       "    <tr>\n",
       "      <td>1</td>\n",
       "      <td>7.227778</td>\n",
       "      <td>0.86</td>\n",
       "      <td>0.223399</td>\n",
       "      <td>0.721448</td>\n",
       "      <td>0.983</td>\n",
       "      <td>0.970613</td>\n",
       "      <td>1</td>\n",
       "      <td>0</td>\n",
       "    </tr>\n",
       "    <tr>\n",
       "      <td>2</td>\n",
       "      <td>9.377778</td>\n",
       "      <td>0.89</td>\n",
       "      <td>0.061523</td>\n",
       "      <td>0.568245</td>\n",
       "      <td>0.929</td>\n",
       "      <td>0.970909</td>\n",
       "      <td>1</td>\n",
       "      <td>0</td>\n",
       "    </tr>\n",
       "    <tr>\n",
       "      <td>3</td>\n",
       "      <td>5.944444</td>\n",
       "      <td>0.83</td>\n",
       "      <td>0.220877</td>\n",
       "      <td>0.749304</td>\n",
       "      <td>0.983</td>\n",
       "      <td>0.971358</td>\n",
       "      <td>1</td>\n",
       "      <td>0</td>\n",
       "    </tr>\n",
       "    <tr>\n",
       "      <td>4</td>\n",
       "      <td>6.977778</td>\n",
       "      <td>0.83</td>\n",
       "      <td>0.172970</td>\n",
       "      <td>0.721448</td>\n",
       "      <td>0.983</td>\n",
       "      <td>0.971454</td>\n",
       "      <td>1</td>\n",
       "      <td>0</td>\n",
       "    </tr>\n",
       "    <tr>\n",
       "      <td>5</td>\n",
       "      <td>7.111111</td>\n",
       "      <td>0.85</td>\n",
       "      <td>0.218608</td>\n",
       "      <td>0.718663</td>\n",
       "      <td>0.929</td>\n",
       "      <td>0.971597</td>\n",
       "      <td>1</td>\n",
       "      <td>0</td>\n",
       "    </tr>\n",
       "    <tr>\n",
       "      <td>6</td>\n",
       "      <td>5.522222</td>\n",
       "      <td>0.95</td>\n",
       "      <td>0.193646</td>\n",
       "      <td>0.721448</td>\n",
       "      <td>0.620</td>\n",
       "      <td>0.971655</td>\n",
       "      <td>1</td>\n",
       "      <td>0</td>\n",
       "    </tr>\n",
       "    <tr>\n",
       "      <td>7</td>\n",
       "      <td>6.527778</td>\n",
       "      <td>0.89</td>\n",
       "      <td>0.221634</td>\n",
       "      <td>0.724234</td>\n",
       "      <td>0.620</td>\n",
       "      <td>0.971769</td>\n",
       "      <td>1</td>\n",
       "      <td>0</td>\n",
       "    </tr>\n",
       "    <tr>\n",
       "      <td>8</td>\n",
       "      <td>10.822222</td>\n",
       "      <td>0.82</td>\n",
       "      <td>0.177257</td>\n",
       "      <td>0.721448</td>\n",
       "      <td>0.620</td>\n",
       "      <td>0.972276</td>\n",
       "      <td>1</td>\n",
       "      <td>0</td>\n",
       "    </tr>\n",
       "    <tr>\n",
       "      <td>9</td>\n",
       "      <td>13.772222</td>\n",
       "      <td>0.72</td>\n",
       "      <td>0.196167</td>\n",
       "      <td>0.777159</td>\n",
       "      <td>0.620</td>\n",
       "      <td>0.972132</td>\n",
       "      <td>1</td>\n",
       "      <td>0</td>\n",
       "    </tr>\n",
       "  </tbody>\n",
       "</table>\n",
       "</div>"
      ],
      "text/plain": [
       "   Apparent Temperature (C)  Humidity  Wind Speed (km/h)  \\\n",
       "0                  7.388889      0.89           0.221130   \n",
       "1                  7.227778      0.86           0.223399   \n",
       "2                  9.377778      0.89           0.061523   \n",
       "3                  5.944444      0.83           0.220877   \n",
       "4                  6.977778      0.83           0.172970   \n",
       "5                  7.111111      0.85           0.218608   \n",
       "6                  5.522222      0.95           0.193646   \n",
       "7                  6.527778      0.89           0.221634   \n",
       "8                 10.822222      0.82           0.177257   \n",
       "9                 13.772222      0.72           0.196167   \n",
       "\n",
       "   Wind Bearing (degrees)  Visibility (km)  Pressure (millibars)  rain  snow  \n",
       "0                0.699164            0.983              0.970135     1     0  \n",
       "1                0.721448            0.983              0.970613     1     0  \n",
       "2                0.568245            0.929              0.970909     1     0  \n",
       "3                0.749304            0.983              0.971358     1     0  \n",
       "4                0.721448            0.983              0.971454     1     0  \n",
       "5                0.718663            0.929              0.971597     1     0  \n",
       "6                0.721448            0.620              0.971655     1     0  \n",
       "7                0.724234            0.620              0.971769     1     0  \n",
       "8                0.721448            0.620              0.972276     1     0  \n",
       "9                0.777159            0.620              0.972132     1     0  "
      ]
     },
     "execution_count": 7,
     "metadata": {},
     "output_type": "execute_result"
    }
   ],
   "source": [
    "weather.head(10)"
   ]
  },
  {
   "cell_type": "code",
   "execution_count": 8,
   "metadata": {},
   "outputs": [],
   "source": [
    "weather_x = weather.drop(columns=['Apparent Temperature (C)'])\n",
    "weather_y = weather['Apparent Temperature (C)']"
   ]
  },
  {
   "cell_type": "code",
   "execution_count": 9,
   "metadata": {},
   "outputs": [
    {
     "name": "stdout",
     "output_type": "stream",
     "text": [
      "Humidity: -28.289863567870828\n",
      "Wind Speed (km/h): -20.090686340260042\n",
      "Wind Bearing (degrees): 0.9241858431930028\n",
      "Visibility (km): 2.8885198487158306\n",
      "Pressure (millibars): -0.0\n",
      "rain: 1.9476939378492482\n",
      "snow: -12.803954400915929\n"
     ]
    },
    {
     "data": {
      "text/plain": [
       "37.16025409865909"
      ]
     },
     "execution_count": 9,
     "metadata": {},
     "output_type": "execute_result"
    }
   ],
   "source": [
    "reg_lasso = linear_model.Lasso(alpha=0.01)\n",
    "reg_lasso.fit(weather_x, weather_y)\n",
    "\n",
    "for i in range(len(weather_x.columns)):\n",
    "    param = weather_x.columns[i]\n",
    "    param_weight = reg_lasso.coef_[i]\n",
    "    print(\"{}: {}\".format(param, param_weight))\n",
    "    \n",
    "np.sum(np.power(reg_lasso.coef_, 2))**0.5"
   ]
  },
  {
   "cell_type": "code",
   "execution_count": 10,
   "metadata": {},
   "outputs": [
    {
     "name": "stdout",
     "output_type": "stream",
     "text": [
      "Humidity: -3.587261564816748\n",
      "Wind Speed (km/h): -0.0\n",
      "Wind Bearing (degrees): 0.0\n",
      "Visibility (km): 0.0\n",
      "Pressure (millibars): 0.0\n",
      "rain: 2.333379482316954\n",
      "snow: -6.275414864934318\n"
     ]
    },
    {
     "data": {
      "text/plain": [
       "7.595652511137398"
      ]
     },
     "execution_count": 10,
     "metadata": {},
     "output_type": "execute_result"
    }
   ],
   "source": [
    "reg_lasso = linear_model.Lasso(alpha=1)\n",
    "reg_lasso.fit(weather_x, weather_y)\n",
    "\n",
    "for i in range(len(weather_x.columns)):\n",
    "    param = weather_x.columns[i]\n",
    "    param_weight = reg_lasso.coef_[i]\n",
    "    print(\"{}: {}\".format(param, param_weight))\n",
    "    \n",
    "np.sum(np.power(reg_lasso.coef_, 2))**0.5"
   ]
  },
  {
   "cell_type": "code",
   "execution_count": 11,
   "metadata": {
    "scrolled": true
   },
   "outputs": [
    {
     "name": "stdout",
     "output_type": "stream",
     "text": [
      "Humidity: -28.62183195789525\n",
      "Wind Speed (km/h): -21.19131148511231\n",
      "Wind Bearing (degrees): 1.0681890081477872\n",
      "Visibility (km): 2.9860112058543464\n",
      "Pressure (millibars): -0.7551233830541437\n",
      "rain: 1.8504377886401344\n",
      "snow: -12.946275584189197\n"
     ]
    },
    {
     "data": {
      "text/plain": [
       "38.07805956976666"
      ]
     },
     "execution_count": 11,
     "metadata": {},
     "output_type": "execute_result"
    }
   ],
   "source": [
    "reg_ridge = linear_model.Ridge(alpha=0.01)\n",
    "reg_ridge.fit(weather_x, weather_y)\n",
    "\n",
    "for i in range(len(weather_x.columns)):\n",
    "    param = weather_x.columns[i]\n",
    "    param_weight = reg_ridge.coef_[i]\n",
    "    print(\"{}: {}\".format(param, param_weight))\n",
    "    \n",
    "np.sum(np.power(reg_ridge.coef_, 2))**0.5"
   ]
  },
  {
   "cell_type": "code",
   "execution_count": 12,
   "metadata": {},
   "outputs": [
    {
     "name": "stdout",
     "output_type": "stream",
     "text": [
      "Humidity: -21.04647172645577\n",
      "Wind Speed (km/h): -9.607470325045963\n",
      "Wind Bearing (degrees): 0.5365715482748343\n",
      "Visibility (km): 4.043566383064146\n",
      "Pressure (millibars): -0.22814976826714897\n",
      "rain: 6.166753446203872\n",
      "snow: -8.350533187801373\n"
     ]
    },
    {
     "data": {
      "text/plain": [
       "25.68478345642426"
      ]
     },
     "execution_count": 12,
     "metadata": {},
     "output_type": "execute_result"
    }
   ],
   "source": [
    "reg_ridge = linear_model.Ridge(alpha=1000)\n",
    "reg_ridge.fit(weather_x, weather_y)\n",
    "\n",
    "for i in range(len(weather_x.columns)):\n",
    "    param = weather_x.columns[i]\n",
    "    param_weight = reg_ridge.coef_[i]\n",
    "    print(\"{}: {}\".format(param, param_weight))\n",
    "    \n",
    "np.sum(np.power(reg_ridge.coef_, 2))**0.5"
   ]
  },
  {
   "cell_type": "code",
   "execution_count": null,
   "metadata": {},
   "outputs": [],
   "source": []
  }
 ],
 "metadata": {
  "kernelspec": {
   "display_name": "Python 3",
   "language": "python",
   "name": "python3"
  },
  "language_info": {
   "codemirror_mode": {
    "name": "ipython",
    "version": 3
   },
   "file_extension": ".py",
   "mimetype": "text/x-python",
   "name": "python",
   "nbconvert_exporter": "python",
   "pygments_lexer": "ipython3",
   "version": "3.7.4"
  }
 },
 "nbformat": 4,
 "nbformat_minor": 2
}
