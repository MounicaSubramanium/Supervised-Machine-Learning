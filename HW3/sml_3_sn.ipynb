{
 "cells": [
  {
   "cell_type": "code",
   "execution_count": 1,
   "metadata": {
    "scrolled": true
   },
   "outputs": [],
   "source": [
    "import pandas as pd\n",
    "import numpy as np\n",
    "from sklearn.model_selection import KFold\n",
    "from sklearn.preprocessing import MinMaxScaler\n",
    "from sklearn.linear_model import LogisticRegression\n",
    "from sklearn.model_selection import train_test_split\n",
    "import matplotlib.pyplot as plt\n",
    "import seaborn as sns\n",
    "from sklearn import metrics\n",
    "from sklearn.metrics import roc_curve, roc_auc_score\n",
    "from sklearn.preprocessing import StandardScaler\n",
    "from sklearn.naive_bayes import GaussianNB\n",
    "from sklearn.neighbors import KNeighborsClassifier\n",
    "from sklearn.discriminant_analysis import LinearDiscriminantAnalysis as LDA\n",
    "from sklearn.tree import DecisionTreeClassifier\n",
    "import math\n",
    "import operator\n",
    "import random"
   ]
  },
  {
   "cell_type": "code",
   "execution_count": 3,
   "metadata": {},
   "outputs": [],
   "source": [
    "data_spam = pd.read_csv(\"spambase.data\")"
   ]
  },
  {
   "cell_type": "code",
   "execution_count": 4,
   "metadata": {},
   "outputs": [],
   "source": [
    "data_spam = data_spam.rename(columns={'0':'word_freq_make','0.64':'word_freq_address',\n",
    "                                      '0.64.1':'word_freq_all','0.1':'word_freq_3d',\n",
    "                                      '0.32':'word_freq_our','0.2':'word_freq_over',\n",
    "                                      '0.3':'word_freq_remove','0.4':'word_freq_internet',\n",
    "                                      '0.5':'word_freq_order','0.6':'word_freq_mail',\n",
    "                                      '0.7':'word_freq_receive','0.64.2':'word_freq_will','0.8':'word_freq_people',\n",
    "                                      '0.9':'word_freq_report','0.10':'word_freq_addresses','0.32.1':'word_freq_free',\n",
    "                                      '0.11':'word_freq_business','1.29':'word_freq_email',\n",
    "                                      '1.93':'word_freq_you','0.12':'word_freq_credit','0.96':'word_freq_your',\n",
    "                                      '0.13':'word_freq_font','0.14':'word_freq_000','0.15':'word_freq_money',\n",
    "                                      '0.16':'word_freq_hp','0.17':'word_freq_hpl','0.18':'word_freq_george',\n",
    "                                      '0.19':'word_freq_650','0.20':'word_freq_lab','0.21':'word_freq_labs',\n",
    "                                      '0.22':'word_freq_telnet','0.23':'word_freq_857','0.24':'word_freq_data',\n",
    "                                      '0.25':'word_freq_415','0.26':'word_freq_85','0.27':'word_freq_technology',\n",
    "                                      '0.28':'word_freq_1999','0.29':'word_freq_parts','0.30':'word_freq_pm',\n",
    "                                      '0.31':'word_freq_direct','0.32.2':'word_freq_cs','0.33':'word_freq_meeting',\n",
    "                                      '0.34':'word_freq_original','0.35':'word_freq_project','0.36':'word_freq_re',\n",
    "                                      '0.37':'word_freq_edu','0.38':'word_freq_table','0.39':'word_freq_conference',\n",
    "                                      '0.40':'char_freq_semicolon','0.41':'char_freq_leftparen',\n",
    "                                      '0.42':'char_freq_leftsquare','0.778':'char_freq_bang',\n",
    "                                      '0.43':'char_freq_dollar','0.44':'char_freq_hash',\n",
    "                                      '3.756':'capital_run_length_average','61':'capital_run_length_longest',\n",
    "                                      '278':'capital_run_length_total','1':'is_spam'})"
   ]
  },
  {
   "cell_type": "code",
   "execution_count": 5,
   "metadata": {
    "scrolled": true
   },
   "outputs": [
    {
     "data": {
      "text/html": [
       "<div>\n",
       "<style scoped>\n",
       "    .dataframe tbody tr th:only-of-type {\n",
       "        vertical-align: middle;\n",
       "    }\n",
       "\n",
       "    .dataframe tbody tr th {\n",
       "        vertical-align: top;\n",
       "    }\n",
       "\n",
       "    .dataframe thead th {\n",
       "        text-align: right;\n",
       "    }\n",
       "</style>\n",
       "<table border=\"1\" class=\"dataframe\">\n",
       "  <thead>\n",
       "    <tr style=\"text-align: right;\">\n",
       "      <th></th>\n",
       "      <th>word_freq_make</th>\n",
       "      <th>word_freq_address</th>\n",
       "      <th>word_freq_all</th>\n",
       "      <th>word_freq_3d</th>\n",
       "      <th>word_freq_our</th>\n",
       "      <th>word_freq_over</th>\n",
       "      <th>word_freq_remove</th>\n",
       "      <th>word_freq_internet</th>\n",
       "      <th>word_freq_order</th>\n",
       "      <th>word_freq_mail</th>\n",
       "      <th>...</th>\n",
       "      <th>char_freq_semicolon</th>\n",
       "      <th>char_freq_leftparen</th>\n",
       "      <th>char_freq_leftsquare</th>\n",
       "      <th>char_freq_bang</th>\n",
       "      <th>char_freq_dollar</th>\n",
       "      <th>char_freq_hash</th>\n",
       "      <th>capital_run_length_average</th>\n",
       "      <th>capital_run_length_longest</th>\n",
       "      <th>capital_run_length_total</th>\n",
       "      <th>is_spam</th>\n",
       "    </tr>\n",
       "  </thead>\n",
       "  <tbody>\n",
       "    <tr>\n",
       "      <td>0</td>\n",
       "      <td>0.21</td>\n",
       "      <td>0.28</td>\n",
       "      <td>0.50</td>\n",
       "      <td>0.0</td>\n",
       "      <td>0.14</td>\n",
       "      <td>0.28</td>\n",
       "      <td>0.21</td>\n",
       "      <td>0.07</td>\n",
       "      <td>0.00</td>\n",
       "      <td>0.94</td>\n",
       "      <td>...</td>\n",
       "      <td>0.00</td>\n",
       "      <td>0.132</td>\n",
       "      <td>0.0</td>\n",
       "      <td>0.372</td>\n",
       "      <td>0.180</td>\n",
       "      <td>0.048</td>\n",
       "      <td>5.114</td>\n",
       "      <td>101</td>\n",
       "      <td>1028</td>\n",
       "      <td>1</td>\n",
       "    </tr>\n",
       "    <tr>\n",
       "      <td>1</td>\n",
       "      <td>0.06</td>\n",
       "      <td>0.00</td>\n",
       "      <td>0.71</td>\n",
       "      <td>0.0</td>\n",
       "      <td>1.23</td>\n",
       "      <td>0.19</td>\n",
       "      <td>0.19</td>\n",
       "      <td>0.12</td>\n",
       "      <td>0.64</td>\n",
       "      <td>0.25</td>\n",
       "      <td>...</td>\n",
       "      <td>0.01</td>\n",
       "      <td>0.143</td>\n",
       "      <td>0.0</td>\n",
       "      <td>0.276</td>\n",
       "      <td>0.184</td>\n",
       "      <td>0.010</td>\n",
       "      <td>9.821</td>\n",
       "      <td>485</td>\n",
       "      <td>2259</td>\n",
       "      <td>1</td>\n",
       "    </tr>\n",
       "    <tr>\n",
       "      <td>2</td>\n",
       "      <td>0.00</td>\n",
       "      <td>0.00</td>\n",
       "      <td>0.00</td>\n",
       "      <td>0.0</td>\n",
       "      <td>0.63</td>\n",
       "      <td>0.00</td>\n",
       "      <td>0.31</td>\n",
       "      <td>0.63</td>\n",
       "      <td>0.31</td>\n",
       "      <td>0.63</td>\n",
       "      <td>...</td>\n",
       "      <td>0.00</td>\n",
       "      <td>0.137</td>\n",
       "      <td>0.0</td>\n",
       "      <td>0.137</td>\n",
       "      <td>0.000</td>\n",
       "      <td>0.000</td>\n",
       "      <td>3.537</td>\n",
       "      <td>40</td>\n",
       "      <td>191</td>\n",
       "      <td>1</td>\n",
       "    </tr>\n",
       "    <tr>\n",
       "      <td>3</td>\n",
       "      <td>0.00</td>\n",
       "      <td>0.00</td>\n",
       "      <td>0.00</td>\n",
       "      <td>0.0</td>\n",
       "      <td>0.63</td>\n",
       "      <td>0.00</td>\n",
       "      <td>0.31</td>\n",
       "      <td>0.63</td>\n",
       "      <td>0.31</td>\n",
       "      <td>0.63</td>\n",
       "      <td>...</td>\n",
       "      <td>0.00</td>\n",
       "      <td>0.135</td>\n",
       "      <td>0.0</td>\n",
       "      <td>0.135</td>\n",
       "      <td>0.000</td>\n",
       "      <td>0.000</td>\n",
       "      <td>3.537</td>\n",
       "      <td>40</td>\n",
       "      <td>191</td>\n",
       "      <td>1</td>\n",
       "    </tr>\n",
       "    <tr>\n",
       "      <td>4</td>\n",
       "      <td>0.00</td>\n",
       "      <td>0.00</td>\n",
       "      <td>0.00</td>\n",
       "      <td>0.0</td>\n",
       "      <td>1.85</td>\n",
       "      <td>0.00</td>\n",
       "      <td>0.00</td>\n",
       "      <td>1.85</td>\n",
       "      <td>0.00</td>\n",
       "      <td>0.00</td>\n",
       "      <td>...</td>\n",
       "      <td>0.00</td>\n",
       "      <td>0.223</td>\n",
       "      <td>0.0</td>\n",
       "      <td>0.000</td>\n",
       "      <td>0.000</td>\n",
       "      <td>0.000</td>\n",
       "      <td>3.000</td>\n",
       "      <td>15</td>\n",
       "      <td>54</td>\n",
       "      <td>1</td>\n",
       "    </tr>\n",
       "  </tbody>\n",
       "</table>\n",
       "<p>5 rows × 58 columns</p>\n",
       "</div>"
      ],
      "text/plain": [
       "   word_freq_make  word_freq_address  word_freq_all  word_freq_3d  \\\n",
       "0            0.21               0.28           0.50           0.0   \n",
       "1            0.06               0.00           0.71           0.0   \n",
       "2            0.00               0.00           0.00           0.0   \n",
       "3            0.00               0.00           0.00           0.0   \n",
       "4            0.00               0.00           0.00           0.0   \n",
       "\n",
       "   word_freq_our  word_freq_over  word_freq_remove  word_freq_internet  \\\n",
       "0           0.14            0.28              0.21                0.07   \n",
       "1           1.23            0.19              0.19                0.12   \n",
       "2           0.63            0.00              0.31                0.63   \n",
       "3           0.63            0.00              0.31                0.63   \n",
       "4           1.85            0.00              0.00                1.85   \n",
       "\n",
       "   word_freq_order  word_freq_mail  ...  char_freq_semicolon  \\\n",
       "0             0.00            0.94  ...                 0.00   \n",
       "1             0.64            0.25  ...                 0.01   \n",
       "2             0.31            0.63  ...                 0.00   \n",
       "3             0.31            0.63  ...                 0.00   \n",
       "4             0.00            0.00  ...                 0.00   \n",
       "\n",
       "   char_freq_leftparen  char_freq_leftsquare  char_freq_bang  \\\n",
       "0                0.132                   0.0           0.372   \n",
       "1                0.143                   0.0           0.276   \n",
       "2                0.137                   0.0           0.137   \n",
       "3                0.135                   0.0           0.135   \n",
       "4                0.223                   0.0           0.000   \n",
       "\n",
       "   char_freq_dollar  char_freq_hash  capital_run_length_average  \\\n",
       "0             0.180           0.048                       5.114   \n",
       "1             0.184           0.010                       9.821   \n",
       "2             0.000           0.000                       3.537   \n",
       "3             0.000           0.000                       3.537   \n",
       "4             0.000           0.000                       3.000   \n",
       "\n",
       "   capital_run_length_longest  capital_run_length_total  is_spam  \n",
       "0                         101                      1028        1  \n",
       "1                         485                      2259        1  \n",
       "2                          40                       191        1  \n",
       "3                          40                       191        1  \n",
       "4                          15                        54        1  \n",
       "\n",
       "[5 rows x 58 columns]"
      ]
     },
     "execution_count": 5,
     "metadata": {},
     "output_type": "execute_result"
    }
   ],
   "source": [
    "data_spam.head()"
   ]
  },
  {
   "cell_type": "code",
   "execution_count": 6,
   "metadata": {
    "scrolled": true
   },
   "outputs": [
    {
     "data": {
      "text/plain": [
       "(4600, 57)"
      ]
     },
     "execution_count": 6,
     "metadata": {},
     "output_type": "execute_result"
    }
   ],
   "source": [
    "data_y = data_spam['is_spam']\n",
    "data_x = data_spam.drop(columns = ['is_spam'])\n",
    "data_x.shape"
   ]
  },
  {
   "cell_type": "code",
   "execution_count": 7,
   "metadata": {},
   "outputs": [
    {
     "data": {
      "text/plain": [
       "(4600, 57)"
      ]
     },
     "execution_count": 7,
     "metadata": {},
     "output_type": "execute_result"
    }
   ],
   "source": [
    "scaler = StandardScaler() \n",
    "data_scaled = scaler.fit_transform(data_x)\n",
    "data_scaled.shape"
   ]
  },
  {
   "cell_type": "code",
   "execution_count": 8,
   "metadata": {},
   "outputs": [],
   "source": [
    "df = pd.DataFrame(data=data_scaled[:,0:],\n",
    "                  index=data_scaled[:,0],\n",
    "                  columns=['word_freq_make', 'word_freq_address','word_freq_all', 'word_freq_3d', 'word_freq_our',\n",
    "                           'word_freq_over', 'word_freq_remove', 'word_freq_internet','word_freq_order', 'word_freq_mail',\n",
    "                           'word_freq_receive','word_freq_will', 'word_freq_people', 'word_freq_report',\n",
    "                           'word_freq_addresses', 'word_freq_free', 'word_freq_business','word_freq_email',\n",
    "                           'word_freq_you', 'word_freq_credit', 'word_freq_your','word_freq_font', 'word_freq_000',\n",
    "                           'word_freq_money', 'word_freq_hp','word_freq_hpl', 'word_freq_george', 'word_freq_650',\n",
    "                           'word_freq_lab','word_freq_labs', 'word_freq_telnet', 'word_freq_857', 'word_freq_data',\n",
    "                           'word_freq_415', 'word_freq_85', 'word_freq_technology', 'word_freq_1999','word_freq_parts',\n",
    "                           'word_freq_pm', 'word_freq_direct', 'word_freq_cs','word_freq_meeting', 'word_freq_original',\n",
    "                           'word_freq_project', 'word_freq_re', 'word_freq_edu', 'word_freq_table',\n",
    "                           'word_freq_conference', 'char_freq_semicolon', 'char_freq_leftparen', 'char_freq_leftsquare',\n",
    "                           'char_freq_bang', 'char_freq_dollar', 'char_freq_hash','capital_run_length_average',\n",
    "                           'capital_run_length_longest', 'capital_run_length_total'])"
   ]
  },
  {
   "cell_type": "code",
   "execution_count": 9,
   "metadata": {},
   "outputs": [
    {
     "data": {
      "text/html": [
       "<div>\n",
       "<style scoped>\n",
       "    .dataframe tbody tr th:only-of-type {\n",
       "        vertical-align: middle;\n",
       "    }\n",
       "\n",
       "    .dataframe tbody tr th {\n",
       "        vertical-align: top;\n",
       "    }\n",
       "\n",
       "    .dataframe thead th {\n",
       "        text-align: right;\n",
       "    }\n",
       "</style>\n",
       "<table border=\"1\" class=\"dataframe\">\n",
       "  <thead>\n",
       "    <tr style=\"text-align: right;\">\n",
       "      <th></th>\n",
       "      <th>word_freq_make</th>\n",
       "      <th>word_freq_address</th>\n",
       "      <th>word_freq_all</th>\n",
       "      <th>word_freq_3d</th>\n",
       "      <th>word_freq_our</th>\n",
       "      <th>word_freq_over</th>\n",
       "      <th>word_freq_remove</th>\n",
       "      <th>word_freq_internet</th>\n",
       "      <th>word_freq_order</th>\n",
       "      <th>word_freq_mail</th>\n",
       "      <th>...</th>\n",
       "      <th>word_freq_conference</th>\n",
       "      <th>char_freq_semicolon</th>\n",
       "      <th>char_freq_leftparen</th>\n",
       "      <th>char_freq_leftsquare</th>\n",
       "      <th>char_freq_bang</th>\n",
       "      <th>char_freq_dollar</th>\n",
       "      <th>char_freq_hash</th>\n",
       "      <th>capital_run_length_average</th>\n",
       "      <th>capital_run_length_longest</th>\n",
       "      <th>capital_run_length_total</th>\n",
       "    </tr>\n",
       "  </thead>\n",
       "  <tbody>\n",
       "    <tr>\n",
       "      <td>0.345252</td>\n",
       "      <td>0.345252</td>\n",
       "      <td>0.051976</td>\n",
       "      <td>0.435261</td>\n",
       "      <td>-0.046905</td>\n",
       "      <td>-0.256087</td>\n",
       "      <td>0.672259</td>\n",
       "      <td>0.244655</td>\n",
       "      <td>-0.088058</td>\n",
       "      <td>-0.323341</td>\n",
       "      <td>1.086529</td>\n",
       "      <td>...</td>\n",
       "      <td>-0.111559</td>\n",
       "      <td>-0.158471</td>\n",
       "      <td>-0.026117</td>\n",
       "      <td>-0.155215</td>\n",
       "      <td>0.126330</td>\n",
       "      <td>0.423674</td>\n",
       "      <td>0.008739</td>\n",
       "      <td>-0.002453</td>\n",
       "      <td>0.250546</td>\n",
       "      <td>1.228189</td>\n",
       "    </tr>\n",
       "    <tr>\n",
       "      <td>-0.145982</td>\n",
       "      <td>-0.145982</td>\n",
       "      <td>-0.164984</td>\n",
       "      <td>0.851833</td>\n",
       "      <td>-0.046905</td>\n",
       "      <td>1.364700</td>\n",
       "      <td>0.343576</td>\n",
       "      <td>0.193562</td>\n",
       "      <td>0.036609</td>\n",
       "      <td>1.973754</td>\n",
       "      <td>0.016339</td>\n",
       "      <td>...</td>\n",
       "      <td>-0.111559</td>\n",
       "      <td>-0.117398</td>\n",
       "      <td>0.014571</td>\n",
       "      <td>-0.155215</td>\n",
       "      <td>0.008631</td>\n",
       "      <td>0.439942</td>\n",
       "      <td>-0.079768</td>\n",
       "      <td>0.145895</td>\n",
       "      <td>2.220875</td>\n",
       "      <td>3.258376</td>\n",
       "    </tr>\n",
       "    <tr>\n",
       "      <td>-0.342475</td>\n",
       "      <td>-0.342475</td>\n",
       "      <td>-0.164984</td>\n",
       "      <td>-0.556576</td>\n",
       "      <td>-0.046905</td>\n",
       "      <td>0.472524</td>\n",
       "      <td>-0.350309</td>\n",
       "      <td>0.500124</td>\n",
       "      <td>1.308212</td>\n",
       "      <td>0.789315</td>\n",
       "      <td>0.605719</td>\n",
       "      <td>...</td>\n",
       "      <td>-0.111559</td>\n",
       "      <td>-0.158471</td>\n",
       "      <td>-0.007622</td>\n",
       "      <td>-0.155215</td>\n",
       "      <td>-0.161788</td>\n",
       "      <td>-0.308392</td>\n",
       "      <td>-0.103060</td>\n",
       "      <td>-0.052154</td>\n",
       "      <td>-0.062450</td>\n",
       "      <td>-0.152207</td>\n",
       "    </tr>\n",
       "    <tr>\n",
       "      <td>-0.342475</td>\n",
       "      <td>-0.342475</td>\n",
       "      <td>-0.164984</td>\n",
       "      <td>-0.556576</td>\n",
       "      <td>-0.046905</td>\n",
       "      <td>0.472524</td>\n",
       "      <td>-0.350309</td>\n",
       "      <td>0.500124</td>\n",
       "      <td>1.308212</td>\n",
       "      <td>0.789315</td>\n",
       "      <td>0.605719</td>\n",
       "      <td>...</td>\n",
       "      <td>-0.111559</td>\n",
       "      <td>-0.158471</td>\n",
       "      <td>-0.015020</td>\n",
       "      <td>-0.155215</td>\n",
       "      <td>-0.164240</td>\n",
       "      <td>-0.308392</td>\n",
       "      <td>-0.103060</td>\n",
       "      <td>-0.052154</td>\n",
       "      <td>-0.062450</td>\n",
       "      <td>-0.152207</td>\n",
       "    </tr>\n",
       "    <tr>\n",
       "      <td>-0.342475</td>\n",
       "      <td>-0.342475</td>\n",
       "      <td>-0.164984</td>\n",
       "      <td>-0.556576</td>\n",
       "      <td>-0.046905</td>\n",
       "      <td>2.286616</td>\n",
       "      <td>-0.350309</td>\n",
       "      <td>-0.291828</td>\n",
       "      <td>4.350087</td>\n",
       "      <td>-0.323341</td>\n",
       "      <td>-0.371410</td>\n",
       "      <td>...</td>\n",
       "      <td>-0.111559</td>\n",
       "      <td>-0.158471</td>\n",
       "      <td>0.310487</td>\n",
       "      <td>-0.155215</td>\n",
       "      <td>-0.329755</td>\n",
       "      <td>-0.308392</td>\n",
       "      <td>-0.103060</td>\n",
       "      <td>-0.069079</td>\n",
       "      <td>-0.190726</td>\n",
       "      <td>-0.378150</td>\n",
       "    </tr>\n",
       "  </tbody>\n",
       "</table>\n",
       "<p>5 rows × 57 columns</p>\n",
       "</div>"
      ],
      "text/plain": [
       "           word_freq_make  word_freq_address  word_freq_all  word_freq_3d  \\\n",
       " 0.345252        0.345252           0.051976       0.435261     -0.046905   \n",
       "-0.145982       -0.145982          -0.164984       0.851833     -0.046905   \n",
       "-0.342475       -0.342475          -0.164984      -0.556576     -0.046905   \n",
       "-0.342475       -0.342475          -0.164984      -0.556576     -0.046905   \n",
       "-0.342475       -0.342475          -0.164984      -0.556576     -0.046905   \n",
       "\n",
       "           word_freq_our  word_freq_over  word_freq_remove  \\\n",
       " 0.345252      -0.256087        0.672259          0.244655   \n",
       "-0.145982       1.364700        0.343576          0.193562   \n",
       "-0.342475       0.472524       -0.350309          0.500124   \n",
       "-0.342475       0.472524       -0.350309          0.500124   \n",
       "-0.342475       2.286616       -0.350309         -0.291828   \n",
       "\n",
       "           word_freq_internet  word_freq_order  word_freq_mail  ...  \\\n",
       " 0.345252           -0.088058        -0.323341        1.086529  ...   \n",
       "-0.145982            0.036609         1.973754        0.016339  ...   \n",
       "-0.342475            1.308212         0.789315        0.605719  ...   \n",
       "-0.342475            1.308212         0.789315        0.605719  ...   \n",
       "-0.342475            4.350087        -0.323341       -0.371410  ...   \n",
       "\n",
       "           word_freq_conference  char_freq_semicolon  char_freq_leftparen  \\\n",
       " 0.345252             -0.111559            -0.158471            -0.026117   \n",
       "-0.145982             -0.111559            -0.117398             0.014571   \n",
       "-0.342475             -0.111559            -0.158471            -0.007622   \n",
       "-0.342475             -0.111559            -0.158471            -0.015020   \n",
       "-0.342475             -0.111559            -0.158471             0.310487   \n",
       "\n",
       "           char_freq_leftsquare  char_freq_bang  char_freq_dollar  \\\n",
       " 0.345252             -0.155215        0.126330          0.423674   \n",
       "-0.145982             -0.155215        0.008631          0.439942   \n",
       "-0.342475             -0.155215       -0.161788         -0.308392   \n",
       "-0.342475             -0.155215       -0.164240         -0.308392   \n",
       "-0.342475             -0.155215       -0.329755         -0.308392   \n",
       "\n",
       "           char_freq_hash  capital_run_length_average  \\\n",
       " 0.345252        0.008739                   -0.002453   \n",
       "-0.145982       -0.079768                    0.145895   \n",
       "-0.342475       -0.103060                   -0.052154   \n",
       "-0.342475       -0.103060                   -0.052154   \n",
       "-0.342475       -0.103060                   -0.069079   \n",
       "\n",
       "           capital_run_length_longest  capital_run_length_total  \n",
       " 0.345252                    0.250546                  1.228189  \n",
       "-0.145982                    2.220875                  3.258376  \n",
       "-0.342475                   -0.062450                 -0.152207  \n",
       "-0.342475                   -0.062450                 -0.152207  \n",
       "-0.342475                   -0.190726                 -0.378150  \n",
       "\n",
       "[5 rows x 57 columns]"
      ]
     },
     "execution_count": 9,
     "metadata": {},
     "output_type": "execute_result"
    }
   ],
   "source": [
    "df.head()"
   ]
  },
  {
   "cell_type": "markdown",
   "metadata": {},
   "source": [
    "### Problem 1 [Logistic regression]\n",
    "\n",
    "**1 (a) Split the original data into 75% for training and 25% for testing. Choose the training set at random and ensure that the fraction of SPAM examples in the training set is close to the fraction of 39.4% SPAM examples in the entire dataset. Train a logistic regression model on the training set and output the following on the testing set:**\n",
    "1. Confusion matrix \n",
    "2. True Positives, False Positives, True Negatives, False Negatives\n",
    "3. Accuracy, Error\n",
    "4. Precision, Recall, F1 score"
   ]
  },
  {
   "cell_type": "code",
   "execution_count": 10,
   "metadata": {},
   "outputs": [],
   "source": [
    "xTrain, xTest, yTrain, yTest = train_test_split(df, data_y, test_size = 0.25, random_state = 0)"
   ]
  },
  {
   "cell_type": "code",
   "execution_count": 11,
   "metadata": {},
   "outputs": [
    {
     "data": {
      "text/plain": [
       "0.392463768115942"
      ]
     },
     "execution_count": 11,
     "metadata": {},
     "output_type": "execute_result"
    }
   ],
   "source": [
    "len(yTrain.loc[yTrain == 1])/len(xTrain)"
   ]
  },
  {
   "cell_type": "markdown",
   "metadata": {},
   "source": [
    "#### Logistic Regression on training data"
   ]
  },
  {
   "cell_type": "code",
   "execution_count": 12,
   "metadata": {},
   "outputs": [
    {
     "name": "stderr",
     "output_type": "stream",
     "text": [
      "/Library/Frameworks/Python.framework/Versions/3.7/lib/python3.7/site-packages/sklearn/linear_model/logistic.py:432: FutureWarning: Default solver will be changed to 'lbfgs' in 0.22. Specify a solver to silence this warning.\n",
      "  FutureWarning)\n"
     ]
    },
    {
     "data": {
      "text/plain": [
       "LogisticRegression(C=1.0, class_weight=None, dual=False, fit_intercept=True,\n",
       "                   intercept_scaling=1, l1_ratio=None, max_iter=100,\n",
       "                   multi_class='warn', n_jobs=None, penalty='l2',\n",
       "                   random_state=None, solver='warn', tol=0.0001, verbose=0,\n",
       "                   warm_start=False)"
      ]
     },
     "execution_count": 12,
     "metadata": {},
     "output_type": "execute_result"
    }
   ],
   "source": [
    "logisticRegr = LogisticRegression()\n",
    "fit1 = logisticRegr.fit(xTrain, yTrain)\n",
    "fit1"
   ]
  },
  {
   "cell_type": "code",
   "execution_count": 13,
   "metadata": {},
   "outputs": [],
   "source": [
    "predictions = logisticRegr.predict(xTest)\n"
   ]
  },
  {
   "cell_type": "markdown",
   "metadata": {},
   "source": [
    "#### Confusion Matrix"
   ]
  },
  {
   "cell_type": "code",
   "execution_count": 14,
   "metadata": {},
   "outputs": [
    {
     "name": "stdout",
     "output_type": "stream",
     "text": [
      "[[656  36]\n",
      " [ 45 413]]\n"
     ]
    }
   ],
   "source": [
    "cm = metrics.confusion_matrix(yTest, predictions)\n",
    "print(cm)\n",
    "TN = cm[0][0]\n",
    "FN = cm[1][0]\n",
    "FP = cm[0][1]\n",
    "TP = cm[1][1]"
   ]
  },
  {
   "cell_type": "markdown",
   "metadata": {},
   "source": [
    "#### Accuracy score of the model and evalution metrics"
   ]
  },
  {
   "cell_type": "code",
   "execution_count": 15,
   "metadata": {},
   "outputs": [
    {
     "name": "stdout",
     "output_type": "stream",
     "text": [
      "0.9295652173913044\n"
     ]
    }
   ],
   "source": [
    "score = logisticRegr.score(xTest, yTest)\n",
    "print(score)"
   ]
  },
  {
   "cell_type": "code",
   "execution_count": 16,
   "metadata": {},
   "outputs": [
    {
     "name": "stdout",
     "output_type": "stream",
     "text": [
      "              precision    recall  f1-score   support\n",
      "\n",
      "           0       0.94      0.95      0.94       692\n",
      "           1       0.92      0.90      0.91       458\n",
      "\n",
      "    accuracy                           0.93      1150\n",
      "   macro avg       0.93      0.92      0.93      1150\n",
      "weighted avg       0.93      0.93      0.93      1150\n",
      "\n",
      "\n",
      "Cross entrophy:  2.432756237821959\n"
     ]
    }
   ],
   "source": [
    "print(metrics.classification_report(yTest, predictions))\n",
    "print(\"\\nCross entrophy: \", metrics.log_loss(yTest,predictions))"
   ]
  },
  {
   "cell_type": "markdown",
   "metadata": {},
   "source": [
    "#### Calculating accuracy, precision and recall using confusion matrix"
   ]
  },
  {
   "cell_type": "code",
   "execution_count": 17,
   "metadata": {
    "scrolled": false
   },
   "outputs": [
    {
     "name": "stdout",
     "output_type": "stream",
     "text": [
      "Accuracy: 0.9295652173913044\n",
      "Recall: 0.9017467248908297\n",
      "Precision: 0.9198218262806236\n",
      "Error: 0.07043478260869562\n",
      "F1 score: 0.9106945975744211\n"
     ]
    }
   ],
   "source": [
    "# Overall accuracy\n",
    "ACC = (TP+TN)/(TP+FP+FN+TN)\n",
    "print(\"Accuracy:\", ACC)\n",
    "\n",
    "# Recall\n",
    "recall = TP/(TP+FN)\n",
    "print(\"Recall:\", recall)\n",
    "\n",
    "# Precision \n",
    "precision = TP/(TP+FP)\n",
    "print(\"Precision:\", precision)\n",
    "\n",
    "# Error\n",
    "print(\"Error:\", 1-ACC)\n",
    "\n",
    "# F1 Score\n",
    "f1 = 2*((precision*recall)/(precision+recall))\n",
    "print(\"F1 score:\", f1)"
   ]
  },
  {
   "cell_type": "markdown",
   "metadata": {},
   "source": [
    "**1 (b) Print the coefficients of the features in the model. Which features contribute mostly to the prediction? Which ones are positively correlated and which ones are negatively correlated with the SPAM class?**"
   ]
  },
  {
   "cell_type": "code",
   "execution_count": 18,
   "metadata": {},
   "outputs": [
    {
     "data": {
      "text/plain": [
       "Index(['word_freq_make', 'word_freq_address', 'word_freq_all', 'word_freq_3d',\n",
       "       'word_freq_our', 'word_freq_over', 'word_freq_remove',\n",
       "       'word_freq_internet', 'word_freq_order', 'word_freq_mail',\n",
       "       'word_freq_receive', 'word_freq_will', 'word_freq_people',\n",
       "       'word_freq_report', 'word_freq_addresses', 'word_freq_free',\n",
       "       'word_freq_business', 'word_freq_email', 'word_freq_you',\n",
       "       'word_freq_credit', 'word_freq_your', 'word_freq_font', 'word_freq_000',\n",
       "       'word_freq_money', 'word_freq_hp', 'word_freq_hpl', 'word_freq_george',\n",
       "       'word_freq_650', 'word_freq_lab', 'word_freq_labs', 'word_freq_telnet',\n",
       "       'word_freq_857', 'word_freq_data', 'word_freq_415', 'word_freq_85',\n",
       "       'word_freq_technology', 'word_freq_1999', 'word_freq_parts',\n",
       "       'word_freq_pm', 'word_freq_direct', 'word_freq_cs', 'word_freq_meeting',\n",
       "       'word_freq_original', 'word_freq_project', 'word_freq_re',\n",
       "       'word_freq_edu', 'word_freq_table', 'word_freq_conference',\n",
       "       'char_freq_semicolon', 'char_freq_leftparen', 'char_freq_leftsquare',\n",
       "       'char_freq_bang', 'char_freq_dollar', 'char_freq_hash',\n",
       "       'capital_run_length_average', 'capital_run_length_longest',\n",
       "       'capital_run_length_total'],\n",
       "      dtype='object')"
      ]
     },
     "execution_count": 18,
     "metadata": {},
     "output_type": "execute_result"
    }
   ],
   "source": [
    "xTest.columns"
   ]
  },
  {
   "cell_type": "code",
   "execution_count": 19,
   "metadata": {
    "scrolled": false
   },
   "outputs": [
    {
     "data": {
      "text/plain": [
       "array([0.0744696 , 1.00509894, 0.32554939, 0.19228165, 0.92593544,\n",
       "       0.19723677, 0.12351767, 0.06294884, 0.03537821, 0.0268677 ,\n",
       "       0.28783505, 0.95061687, 0.40331579, 0.06210778, 0.15550624,\n",
       "       0.38409911, 0.25433163, 0.21443443, 0.79562219, 0.14887934,\n",
       "       0.24012464, 0.0187023 , 0.3471644 , 0.03334316, 0.05257299,\n",
       "       0.23197986, 1.14918891, 0.71332883, 2.06528337, 1.76808093,\n",
       "       0.39388566])"
      ]
     },
     "execution_count": 19,
     "metadata": {},
     "output_type": "execute_result"
    }
   ],
   "source": [
    "coeff = fit1.coef_\n",
    "coeff[coeff>0]"
   ]
  },
  {
   "cell_type": "markdown",
   "metadata": {},
   "source": [
    "#### The features that contribute mostly to the prediction are \n",
    "- capital_run_length_average\n",
    "- capital_run_length_longest\n",
    "- char_freq_dollar\n",
    "\n",
    "#### Positively correlated features with SPAM class\n",
    "\n",
    "#### Negatively correlated features with SPAM class"
   ]
  },
  {
   "cell_type": "markdown",
   "metadata": {},
   "source": [
    "**1 (c) Vary the decision threshold T ∈ {0.25, 0.5, 0.75, 0.9} and report for each value the model accuracy, precision, and recall. Comment on how these metrics vary with the choice of threshold.**\n",
    "\n",
    "#### Threshold = 0.5"
   ]
  },
  {
   "cell_type": "code",
   "execution_count": 20,
   "metadata": {},
   "outputs": [
    {
     "name": "stdout",
     "output_type": "stream",
     "text": [
      "[[ 36 656]\n",
      " [413  45]]\n"
     ]
    }
   ],
   "source": [
    "prediction_T = logisticRegr.predict_proba(xTest)>= 0.5\n",
    "\n",
    "prediction_T = prediction_T[:,0]\n",
    "cm_05 = metrics.confusion_matrix(yTest, prediction_T)\n",
    "print(cm_05)\n",
    "TN_05 = cm_05[1][0]\n",
    "FN_05 = cm_05[0][0]\n",
    "FP_05 = cm_05[1][1]\n",
    "TP_05 = cm_05[0][1]\n"
   ]
  },
  {
   "cell_type": "code",
   "execution_count": 21,
   "metadata": {},
   "outputs": [
    {
     "name": "stdout",
     "output_type": "stream",
     "text": [
      "Accuracy: 0.9295652173913044\n",
      "Recall: 0.9479768786127167\n",
      "Precision: 0.9358059914407989\n",
      "Error: 0.07043478260869562\n",
      "F1 score: 0.9418521177315148\n"
     ]
    }
   ],
   "source": [
    "# Overall accuracy\n",
    "ACC_05 = (TP_05+TN_05)/(TP_05+FP_05+FN_05+TN_05)\n",
    "print(\"Accuracy:\", ACC_05)\n",
    "\n",
    "# Sensitivity, hit rate, recall, or true positive rate\n",
    "recall_05 = TP_05/(TP_05+FN_05)\n",
    "print(\"Recall:\", recall_05)\n",
    "\n",
    "# Precision or positive predictive value\n",
    "precision_05 = TP_05/(TP_05+FP_05)\n",
    "print(\"Precision:\", precision_05)\n",
    "\n",
    "# Error\n",
    "print(\"Error:\", 1-ACC_05)\n",
    "\n",
    "# F1 Score\n",
    "f1_05 = 2*((precision_05*recall_05)/(precision_05+recall_05))\n",
    "print(\"F1 score:\", f1_05)"
   ]
  },
  {
   "cell_type": "markdown",
   "metadata": {},
   "source": [
    "#### Threshold = 0.25"
   ]
  },
  {
   "cell_type": "code",
   "execution_count": 22,
   "metadata": {},
   "outputs": [
    {
     "name": "stdout",
     "output_type": "stream",
     "text": [
      "[[ 15 677]\n",
      " [363  95]]\n"
     ]
    }
   ],
   "source": [
    "prediction_T = logisticRegr.predict_proba(xTest)>= 0.25\n",
    "\n",
    "prediction_T = prediction_T[:,0]\n",
    "cm_25 = metrics.confusion_matrix(yTest, prediction_T)\n",
    "print(cm_25)\n",
    "TN_25 = cm_25[1][0]\n",
    "FN_25 = cm_25[0][0]\n",
    "FP_25 = cm_25[1][1]\n",
    "TP_25 = cm_25[0][1]\n"
   ]
  },
  {
   "cell_type": "code",
   "execution_count": 23,
   "metadata": {},
   "outputs": [
    {
     "name": "stdout",
     "output_type": "stream",
     "text": [
      "Accuracy: 0.9043478260869565\n",
      "Recall: 0.9783236994219653\n",
      "Precision: 0.8769430051813472\n",
      "Error: 0.09565217391304348\n",
      "F1 score: 0.924863387978142\n"
     ]
    }
   ],
   "source": [
    "# Overall accuracy\n",
    "ACC_25 = (TP_25+TN_25)/(TP_25+FP_25+FN_25+TN_25)\n",
    "print(\"Accuracy:\", ACC_25)\n",
    "\n",
    "# Sensitivity, hit rate, recall, or true positive rate\n",
    "recall_25 = TP_25/(TP_25 + FN_25)\n",
    "print(\"Recall:\", recall_25)\n",
    "\n",
    "# Precision or positive predictive value\n",
    "precision_25 = TP_25/(TP_25+FP_25)\n",
    "print(\"Precision:\", precision_25)\n",
    "\n",
    "# Error\n",
    "print(\"Error:\", 1-ACC_25)\n",
    "\n",
    "# F1 Score\n",
    "f1_25 = 2*((precision_25*recall_25)/(precision_25+recall_25))\n",
    "print(\"F1 score:\", f1_25)"
   ]
  },
  {
   "cell_type": "markdown",
   "metadata": {},
   "source": [
    "#### Threshold = 0.75"
   ]
  },
  {
   "cell_type": "code",
   "execution_count": 24,
   "metadata": {},
   "outputs": [
    {
     "name": "stdout",
     "output_type": "stream",
     "text": [
      "[[101 591]\n",
      " [445  13]]\n"
     ]
    }
   ],
   "source": [
    "prediction_T = logisticRegr.predict_proba(xTest)>= 0.75\n",
    "\n",
    "prediction_T = prediction_T[:,0]\n",
    "cm_75 = metrics.confusion_matrix(yTest, prediction_T)\n",
    "print(cm_75)\n",
    "TN_75 = cm_75[1][0]\n",
    "FN_75 = cm_75[0][0]\n",
    "FP_75 = cm_75[1][1]\n",
    "TP_75 = cm_75[0][1]"
   ]
  },
  {
   "cell_type": "code",
   "execution_count": 25,
   "metadata": {},
   "outputs": [
    {
     "name": "stdout",
     "output_type": "stream",
     "text": [
      "Accuracy: 0.9008695652173913\n",
      "Recall: 0.8540462427745664\n",
      "Precision: 0.9784768211920529\n",
      "Error: 0.09913043478260875\n",
      "F1 score: 0.912037037037037\n"
     ]
    }
   ],
   "source": [
    "# Overall accuracy\n",
    "ACC_75 = (TP_75+TN_75)/(TP_75+FP_75+FN_75+TN_75)\n",
    "print(\"Accuracy:\", ACC_75)\n",
    "\n",
    "# Sensitivity, hit rate, recall, or true positive rate\n",
    "recall_75 = TP_75/(TP_75+FN_75)\n",
    "print(\"Recall:\", recall_75)\n",
    "\n",
    "# Precision or positive predictive value\n",
    "precision_75 = TP_75/(TP_75+FP_75)\n",
    "print(\"Precision:\", precision_75)\n",
    "\n",
    "# Error\n",
    "print(\"Error:\", 1-ACC_75)\n",
    "\n",
    "# F1 Score\n",
    "f1_75 = 2*((precision_75*recall_75)/(precision_75+recall_75))\n",
    "print(\"F1 score:\", f1_75)"
   ]
  },
  {
   "cell_type": "markdown",
   "metadata": {},
   "source": [
    "#### Threshold = 0.9"
   ]
  },
  {
   "cell_type": "code",
   "execution_count": 26,
   "metadata": {},
   "outputs": [
    {
     "name": "stdout",
     "output_type": "stream",
     "text": [
      "[[228 464]\n",
      " [455   3]]\n"
     ]
    }
   ],
   "source": [
    "prediction_T = logisticRegr.predict_proba(xTest)>= 0.9\n",
    "\n",
    "prediction_T = prediction_T[:,0]\n",
    "cm_09 = metrics.confusion_matrix(yTest, prediction_T)\n",
    "print(cm_09)\n",
    "TN_09 = cm_09[1][0]\n",
    "FN_09 = cm_09[0][0]\n",
    "FP_09 = cm_09[1][1]\n",
    "TP_09 = cm_09[0][1]"
   ]
  },
  {
   "cell_type": "code",
   "execution_count": 27,
   "metadata": {},
   "outputs": [
    {
     "name": "stdout",
     "output_type": "stream",
     "text": [
      "Accuracy: 0.7991304347826087\n",
      "Recall: 0.6705202312138728\n",
      "Precision: 0.9935760171306209\n",
      "Error: 0.2008695652173913\n",
      "F1 score: 0.8006902502157032\n"
     ]
    }
   ],
   "source": [
    "# Overall accuracy\n",
    "ACC_09 = (TP_09+TN_09)/(TP_09+FP_09+FN_09+TN_09)\n",
    "print(\"Accuracy:\", ACC_09)\n",
    "\n",
    "# Sensitivity, hit rate, recall, or true positive rate\n",
    "recall_09 = TP_09/(TP_09+FN_09)\n",
    "print(\"Recall:\", recall_09)\n",
    "\n",
    "# Precision or positive predictive value\n",
    "precision_09 = TP_09/(TP_09+FP_09)\n",
    "print(\"Precision:\", precision_09)\n",
    "\n",
    "# Error\n",
    "print(\"Error:\", 1-ACC_09)\n",
    "\n",
    "# F1 Score\n",
    "f1_09 = 2*((precision_09*recall_09)/(precision_09+recall_09))\n",
    "print(\"F1 score:\", f1_09)"
   ]
  },
  {
   "cell_type": "markdown",
   "metadata": {},
   "source": [
    "**1 (d) Use your implementation of gradient descent from Homework 2 and adapt it for logistic regression. Take 3 values of the learning rate and report the cross-entropy loss objective after 10, 50, and 100 iterations. At 100 iterations, report the accuracy and F1 score for the 3 learning rates, and compare with the metrics given by the package.**\n",
    "\n",
    "- Padding ones to the X variable"
   ]
  },
  {
   "cell_type": "code",
   "execution_count": 28,
   "metadata": {
    "scrolled": false
   },
   "outputs": [
    {
     "name": "stderr",
     "output_type": "stream",
     "text": [
      "/Library/Frameworks/Python.framework/Versions/3.7/lib/python3.7/site-packages/ipykernel_launcher.py:2: SettingWithCopyWarning: \n",
      "A value is trying to be set on a copy of a slice from a DataFrame.\n",
      "Try using .loc[row_indexer,col_indexer] = value instead\n",
      "\n",
      "See the caveats in the documentation: http://pandas.pydata.org/pandas-docs/stable/user_guide/indexing.html#returning-a-view-versus-a-copy\n",
      "  \n",
      "/Library/Frameworks/Python.framework/Versions/3.7/lib/python3.7/site-packages/ipykernel_launcher.py:5: SettingWithCopyWarning: \n",
      "A value is trying to be set on a copy of a slice from a DataFrame.\n",
      "Try using .loc[row_indexer,col_indexer] = value instead\n",
      "\n",
      "See the caveats in the documentation: http://pandas.pydata.org/pandas-docs/stable/user_guide/indexing.html#returning-a-view-versus-a-copy\n",
      "  \"\"\"\n"
     ]
    }
   ],
   "source": [
    "X1 = xTrain\n",
    "X1['ones'] = 1\n",
    "\n",
    "X2 = xTest\n",
    "X2['ones'] = 1"
   ]
  },
  {
   "cell_type": "code",
   "execution_count": 29,
   "metadata": {},
   "outputs": [],
   "source": [
    "def gradient_descent(X,y,theta,alpha,n):\n",
    "    \n",
    "    m = len(y)\n",
    "        \n",
    "    for i in range(n):\n",
    "        prediction = np.dot(X,theta)\n",
    "        h = 1 / (1 + np.exp(-prediction))\n",
    "        theta = theta - (1/m) * alpha * (X.T.dot(h - y))\n",
    "        \n",
    "    return theta"
   ]
  },
  {
   "cell_type": "code",
   "execution_count": 30,
   "metadata": {
    "scrolled": true
   },
   "outputs": [],
   "source": [
    "yTrain_gd = yTrain.to_numpy().reshape(yTrain.shape[0],1)"
   ]
  },
  {
   "cell_type": "code",
   "execution_count": 31,
   "metadata": {
    "scrolled": true
   },
   "outputs": [
    {
     "name": "stdout",
     "output_type": "stream",
     "text": [
      "Cross entrophy:  16.42865822958665\n",
      "mean squared error on scaled test data (GD): 0.4756521739130435\n",
      "\n",
      "Confusion matrix \n",
      " [[384 308]\n",
      " [239 219]]\n",
      "\n",
      "Report: \n",
      "               precision    recall  f1-score   support\n",
      "\n",
      "           0       0.62      0.55      0.58       692\n",
      "           1       0.42      0.48      0.44       458\n",
      "\n",
      "    accuracy                           0.52      1150\n",
      "   macro avg       0.52      0.52      0.51      1150\n",
      "weighted avg       0.54      0.52      0.53      1150\n",
      "\n",
      "Cross entrophy:  15.737872967458843\n",
      "mean squared error on scaled test data (GD): 0.45565217391304347\n",
      "\n",
      "Confusion matrix \n",
      " [[398 294]\n",
      " [230 228]]\n",
      "\n",
      "Report: \n",
      "               precision    recall  f1-score   support\n",
      "\n",
      "           0       0.63      0.58      0.60       692\n",
      "           1       0.44      0.50      0.47       458\n",
      "\n",
      "    accuracy                           0.54      1150\n",
      "   macro avg       0.54      0.54      0.53      1150\n",
      "weighted avg       0.56      0.54      0.55      1150\n",
      "\n",
      "Cross entrophy:  14.806815870590546\n",
      "mean squared error on scaled test data (GD): 0.42869565217391303\n",
      "\n",
      "Confusion matrix \n",
      " [[415 277]\n",
      " [216 242]]\n",
      "\n",
      "Report: \n",
      "               precision    recall  f1-score   support\n",
      "\n",
      "           0       0.66      0.60      0.63       692\n",
      "           1       0.47      0.53      0.50       458\n",
      "\n",
      "    accuracy                           0.57      1150\n",
      "   macro avg       0.56      0.56      0.56      1150\n",
      "weighted avg       0.58      0.57      0.57      1150\n",
      "\n"
     ]
    }
   ],
   "source": [
    "alpha = 0.01\n",
    "iter = [10,50,100]\n",
    "cols = xTrain.columns\n",
    "theta = np.random.randn(len(cols),1)\n",
    "theta_df = theta\n",
    "for i in iter:\n",
    "    theta_j = gradient_descent(X1,yTrain_gd,theta_df,alpha,i)\n",
    "    yTest_pred_gd = xTest.dot(theta_j)\n",
    "    yTest_pred_gd = yTest_pred_gd.to_numpy()\n",
    "    \n",
    "    for i in range(len(yTest_pred_gd)):\n",
    "        if yTest_pred_gd[i]>0.5:\n",
    "            yTest_pred_gd[i] = 1\n",
    "        else:\n",
    "            yTest_pred_gd[i] = 0\n",
    "            \n",
    "    print(\"Cross entrophy: \", metrics.log_loss(yTest,yTest_pred_gd))        \n",
    "    print(\"mean squared error on scaled test data (GD):\",metrics.mean_squared_error(yTest,yTest_pred_gd))\n",
    "    print(\"\\nConfusion matrix \\n\", metrics.confusion_matrix(yTest, yTest_pred_gd))\n",
    "    print(\"\\nReport: \\n\",metrics.classification_report(yTest, yTest_pred_gd))\n",
    "    \n",
    "    \n"
   ]
  },
  {
   "cell_type": "code",
   "execution_count": 32,
   "metadata": {
    "scrolled": true
   },
   "outputs": [
    {
     "name": "stdout",
     "output_type": "stream",
     "text": [
      "Cross entrophy:  20.42322137309337\n",
      "mean squared error on scaled test data (GD): 0.591304347826087\n",
      "confusion matrix \n",
      " [[271 421]\n",
      " [259 199]]\n",
      "report: \n",
      "               precision    recall  f1-score   support\n",
      "\n",
      "           0       0.51      0.39      0.44       692\n",
      "           1       0.32      0.43      0.37       458\n",
      "\n",
      "    accuracy                           0.41      1150\n",
      "   macro avg       0.42      0.41      0.41      1150\n",
      "weighted avg       0.44      0.41      0.41      1150\n",
      "\n",
      "Cross entrophy:  11.232776239899984\n",
      "mean squared error on scaled test data (GD): 0.32521739130434785\n",
      "confusion matrix \n",
      " [[454 238]\n",
      " [136 322]]\n",
      "report: \n",
      "               precision    recall  f1-score   support\n",
      "\n",
      "           0       0.77      0.66      0.71       692\n",
      "           1       0.57      0.70      0.63       458\n",
      "\n",
      "    accuracy                           0.67      1150\n",
      "   macro avg       0.67      0.68      0.67      1150\n",
      "weighted avg       0.69      0.67      0.68      1150\n",
      "\n",
      "Cross entrophy:  6.877811254350472\n",
      "mean squared error on scaled test data (GD): 0.1991304347826087\n",
      "confusion matrix \n",
      " [[563 129]\n",
      " [100 358]]\n",
      "report: \n",
      "               precision    recall  f1-score   support\n",
      "\n",
      "           0       0.85      0.81      0.83       692\n",
      "           1       0.74      0.78      0.76       458\n",
      "\n",
      "    accuracy                           0.80      1150\n",
      "   macro avg       0.79      0.80      0.79      1150\n",
      "weighted avg       0.80      0.80      0.80      1150\n",
      "\n"
     ]
    }
   ],
   "source": [
    "alpha = 0.1\n",
    "iter = [10,50,100]\n",
    "cols = xTrain.columns\n",
    "theta = np.random.randn(len(cols),1)\n",
    "theta_df = theta\n",
    "for i in iter:\n",
    "    theta_j = gradient_descent(X1,yTrain_gd,theta_df,alpha,i)\n",
    "    yTest_pred_gd = xTest.dot(theta_j)\n",
    "    yTest_pred_gd = yTest_pred_gd.to_numpy()\n",
    "    \n",
    "    for i in range(len(yTest_pred_gd)):\n",
    "        if yTest_pred_gd[i]>0.5:\n",
    "            yTest_pred_gd[i] = 1\n",
    "        else:\n",
    "            yTest_pred_gd[i] = 0\n",
    "    print(\"Cross entrophy: \", metrics.log_loss(yTest,yTest_pred_gd))            \n",
    "    print(\"mean squared error on scaled test data (GD):\",metrics.mean_squared_error(yTest,yTest_pred_gd))\n",
    "    print(\"confusion matrix \\n\", metrics.confusion_matrix(yTest, yTest_pred_gd))\n",
    "    print(\"report: \\n\",metrics.classification_report(yTest, yTest_pred_gd))"
   ]
  },
  {
   "cell_type": "code",
   "execution_count": 33,
   "metadata": {
    "scrolled": true
   },
   "outputs": [
    {
     "name": "stdout",
     "output_type": "stream",
     "text": [
      "Cross entrophy:  14.506486332871091\n",
      "mean squared error on scaled test data (GD): 0.42\n",
      "confusion matrix \n",
      " [[404 288]\n",
      " [195 263]]\n",
      "report: \n",
      "               precision    recall  f1-score   support\n",
      "\n",
      "           0       0.67      0.58      0.63       692\n",
      "           1       0.48      0.57      0.52       458\n",
      "\n",
      "    accuracy                           0.58      1150\n",
      "   macro avg       0.58      0.58      0.57      1150\n",
      "weighted avg       0.60      0.58      0.58      1150\n",
      "\n",
      "Cross entrophy:  6.3672248273377265\n",
      "mean squared error on scaled test data (GD): 0.18434782608695652\n",
      "confusion matrix \n",
      " [[582 110]\n",
      " [102 356]]\n",
      "report: \n",
      "               precision    recall  f1-score   support\n",
      "\n",
      "           0       0.85      0.84      0.85       692\n",
      "           1       0.76      0.78      0.77       458\n",
      "\n",
      "    accuracy                           0.82      1150\n",
      "   macro avg       0.81      0.81      0.81      1150\n",
      "weighted avg       0.82      0.82      0.82      1150\n",
      "\n",
      "Cross entrophy:  4.324898587745922\n",
      "mean squared error on scaled test data (GD): 0.12521739130434784\n",
      "confusion matrix \n",
      " [[630  62]\n",
      " [ 82 376]]\n",
      "report: \n",
      "               precision    recall  f1-score   support\n",
      "\n",
      "           0       0.88      0.91      0.90       692\n",
      "           1       0.86      0.82      0.84       458\n",
      "\n",
      "    accuracy                           0.87      1150\n",
      "   macro avg       0.87      0.87      0.87      1150\n",
      "weighted avg       0.87      0.87      0.87      1150\n",
      "\n"
     ]
    }
   ],
   "source": [
    "alpha = 0.2\n",
    "iter = [10,50,100]\n",
    "cols = xTrain.columns\n",
    "theta = np.random.randn(len(cols),1)\n",
    "theta_df = theta\n",
    "for i in iter:\n",
    "    theta_j = gradient_descent(X1,yTrain_gd,theta_df,alpha,i)\n",
    "    yTest_pred_gd = xTest.dot(theta_j)\n",
    "    yTest_pred_gd = yTest_pred_gd.to_numpy()\n",
    "    \n",
    "    for i in range(len(yTest_pred_gd)):\n",
    "        if yTest_pred_gd[i]>0.5:\n",
    "            yTest_pred_gd[i] = 1\n",
    "        else:\n",
    "            yTest_pred_gd[i] = 0\n",
    "            \n",
    "    print(\"Cross entrophy: \", metrics.log_loss(yTest,yTest_pred_gd))            \n",
    "    print(\"mean squared error on scaled test data (GD):\",metrics.mean_squared_error(yTest,yTest_pred_gd))\n",
    "    print(\"confusion matrix \\n\", metrics.confusion_matrix(yTest, yTest_pred_gd))\n",
    "    print(\"report: \\n\",metrics.classification_report(yTest, yTest_pred_gd))"
   ]
  },
  {
   "cell_type": "code",
   "execution_count": 34,
   "metadata": {
    "scrolled": true
   },
   "outputs": [
    {
     "name": "stdout",
     "output_type": "stream",
     "text": [
      "Alpha:  0.01\n",
      "Cross entrophy:  14.146071280088151\n",
      "mean squared error on scaled test data (GD): 0.40956521739130436\n",
      "confusion matrix \n",
      " [[419 273]\n",
      " [198 260]]\n",
      "report: \n",
      "               precision    recall  f1-score   support\n",
      "\n",
      "           0       0.68      0.61      0.64       692\n",
      "           1       0.49      0.57      0.52       458\n",
      "\n",
      "    accuracy                           0.59      1150\n",
      "   macro avg       0.58      0.59      0.58      1150\n",
      "weighted avg       0.60      0.59      0.59      1150\n",
      "\n",
      "Alpha:  0.1\n",
      "Cross entrophy:  7.268242643184852\n",
      "mean squared error on scaled test data (GD): 0.21043478260869566\n",
      "confusion matrix \n",
      " [[573 119]\n",
      " [123 335]]\n",
      "report: \n",
      "               precision    recall  f1-score   support\n",
      "\n",
      "           0       0.82      0.83      0.83       692\n",
      "           1       0.74      0.73      0.73       458\n",
      "\n",
      "    accuracy                           0.79      1150\n",
      "   macro avg       0.78      0.78      0.78      1150\n",
      "weighted avg       0.79      0.79      0.79      1150\n",
      "\n",
      "Alpha:  0.2\n",
      "Cross entrophy:  4.56516972718431\n",
      "mean squared error on scaled test data (GD): 0.13217391304347825\n",
      "confusion matrix \n",
      " [[628  64]\n",
      " [ 88 370]]\n",
      "report: \n",
      "               precision    recall  f1-score   support\n",
      "\n",
      "           0       0.88      0.91      0.89       692\n",
      "           1       0.85      0.81      0.83       458\n",
      "\n",
      "    accuracy                           0.87      1150\n",
      "   macro avg       0.86      0.86      0.86      1150\n",
      "weighted avg       0.87      0.87      0.87      1150\n",
      "\n"
     ]
    }
   ],
   "source": [
    "alpha = [0.01,0.1,0.2]\n",
    "iter = 100\n",
    "cols = xTrain.columns\n",
    "theta = np.random.randn(len(cols),1)\n",
    "theta_df = theta\n",
    "for i in alpha:\n",
    "    theta_j = gradient_descent(X1,yTrain_gd,theta_df,i,iter)\n",
    "    yTest_pred_gd = xTest.dot(theta_j)\n",
    "    yTest_pred_gd = yTest_pred_gd.to_numpy()\n",
    "    \n",
    "    for j in range(len(yTest_pred_gd)):\n",
    "        if yTest_pred_gd[j]>0.5:\n",
    "            yTest_pred_gd[j] = 1\n",
    "        else:\n",
    "            yTest_pred_gd[j] = 0\n",
    "    print(\"Alpha: \", i)        \n",
    "    print(\"Cross entrophy: \", metrics.log_loss(yTest,yTest_pred_gd))                     \n",
    "    print(\"mean squared error on scaled test data (GD):\",metrics.mean_squared_error(yTest,yTest_pred_gd))\n",
    "    print(\"confusion matrix \\n\", metrics.confusion_matrix(yTest, yTest_pred_gd))\n",
    "    print(\"report: \\n\",metrics.classification_report(yTest, yTest_pred_gd))"
   ]
  },
  {
   "cell_type": "markdown",
   "metadata": {},
   "source": [
    "### Problem 2 [Comparing classifiers]\n",
    "\n",
    "**You can use the same training and testing data as in Problem 1. Train the following classifiers using the training data:**\n",
    "1. Logistic regression\n",
    "2. LDA\n",
    "3. kNN\n",
    "4. Naive Bayes\n",
    "5. Decision tree\n",
    "\n",
    "**(a) answer is found at the end of (b) part.**\n",
    "\n",
    "**(b) Print the accuracy and error metrics for all 5 classifiers on both training and testing data. Which\n",
    "model is performing best? Which one is performing worst? Write down some observations.**"
   ]
  },
  {
   "cell_type": "markdown",
   "metadata": {},
   "source": [
    "**Logistic Regression**"
   ]
  },
  {
   "cell_type": "code",
   "execution_count": 35,
   "metadata": {
    "scrolled": true
   },
   "outputs": [
    {
     "name": "stderr",
     "output_type": "stream",
     "text": [
      "/Library/Frameworks/Python.framework/Versions/3.7/lib/python3.7/site-packages/sklearn/linear_model/logistic.py:432: FutureWarning: Default solver will be changed to 'lbfgs' in 0.22. Specify a solver to silence this warning.\n",
      "  FutureWarning)\n"
     ]
    },
    {
     "data": {
      "text/plain": [
       "LogisticRegression(C=1.0, class_weight=None, dual=False, fit_intercept=True,\n",
       "                   intercept_scaling=1, l1_ratio=None, max_iter=100,\n",
       "                   multi_class='warn', n_jobs=None, penalty='l2',\n",
       "                   random_state=None, solver='warn', tol=0.0001, verbose=0,\n",
       "                   warm_start=False)"
      ]
     },
     "execution_count": 35,
     "metadata": {},
     "output_type": "execute_result"
    }
   ],
   "source": [
    "logisticRegr = LogisticRegression()\n",
    "fit1 = logisticRegr.fit(xTrain, yTrain)\n",
    "fit1"
   ]
  },
  {
   "cell_type": "code",
   "execution_count": 36,
   "metadata": {},
   "outputs": [
    {
     "data": {
      "text/plain": [
       "array([1, 0, 0, ..., 0, 1, 0])"
      ]
     },
     "execution_count": 36,
     "metadata": {},
     "output_type": "execute_result"
    }
   ],
   "source": [
    "y_pred_reg = logisticRegr.predict(xTest)\n",
    "y_pred_reg"
   ]
  },
  {
   "cell_type": "code",
   "execution_count": 37,
   "metadata": {},
   "outputs": [
    {
     "name": "stdout",
     "output_type": "stream",
     "text": [
      "TESTING:\n",
      "\n",
      "Accuracy of the model:  0.928695652173913\n",
      "\n",
      "Accuracy:  0.928695652173913\n",
      "Error:  0.07130434782608697\n",
      "\n",
      "confusion matrix \n",
      " [[655  37]\n",
      " [ 45 413]]\n",
      "\n",
      "Report:\n",
      "               precision    recall  f1-score   support\n",
      "\n",
      "           0       0.94      0.95      0.94       692\n",
      "           1       0.92      0.90      0.91       458\n",
      "\n",
      "    accuracy                           0.93      1150\n",
      "   macro avg       0.93      0.92      0.93      1150\n",
      "weighted avg       0.93      0.93      0.93      1150\n",
      "\n",
      "\n",
      "TRAINING: \n",
      "\n",
      "Accuracy of the model:  0.9263768115942029\n",
      "Error:  0.07362318840579707\n"
     ]
    }
   ],
   "source": [
    "print(\"TESTING:\\n\")\n",
    "score = logisticRegr.score(xTest, yTest)\n",
    "print(\"Accuracy of the model: \",score)\n",
    "\n",
    "# Testing with accuracy score\n",
    "sc = metrics.accuracy_score(yTest, y_pred_reg)\n",
    "\n",
    "print(\"\\nAccuracy: \",sc)\n",
    "\n",
    "print(\"Error: \",1-sc)\n",
    "cm_reg = metrics.confusion_matrix(yTest, y_pred_reg)\n",
    "TN_reg = cm_reg[0][0]\n",
    "FN_reg = cm_reg[1][0]\n",
    "FP_reg = cm_reg[0][1]\n",
    "TP_reg = cm_reg[1][1]\n",
    "\n",
    "print(\"\\nconfusion matrix \\n\", cm_reg)\n",
    "print(\"\\nReport:\\n\",metrics.classification_report(yTest, y_pred_reg))\n",
    "\n",
    "print(\"\\nTRAINING: \\n\")\n",
    "\n",
    "# Testing with Logistic regression score\n",
    "score = logisticRegr.score(xTrain, yTrain)\n",
    "print(\"Accuracy of the model: \",score)\n",
    "print(\"Error: \",1-score)"
   ]
  },
  {
   "cell_type": "markdown",
   "metadata": {},
   "source": [
    "**Naive Bayes**"
   ]
  },
  {
   "cell_type": "code",
   "execution_count": 38,
   "metadata": {},
   "outputs": [
    {
     "data": {
      "text/plain": [
       "GaussianNB(priors=None, var_smoothing=1e-09)"
      ]
     },
     "execution_count": 38,
     "metadata": {},
     "output_type": "execute_result"
    }
   ],
   "source": [
    "nb = GaussianNB()\n",
    "fit2 = nb.fit(xTrain, yTrain)\n",
    "fit2"
   ]
  },
  {
   "cell_type": "code",
   "execution_count": 39,
   "metadata": {},
   "outputs": [
    {
     "data": {
      "text/plain": [
       "array([1, 0, 0, ..., 1, 1, 1])"
      ]
     },
     "execution_count": 39,
     "metadata": {},
     "output_type": "execute_result"
    }
   ],
   "source": [
    "y_pred_nb = nb.predict(xTest)\n",
    "y_pred_nb"
   ]
  },
  {
   "cell_type": "code",
   "execution_count": 40,
   "metadata": {},
   "outputs": [
    {
     "name": "stdout",
     "output_type": "stream",
     "text": [
      "TESTING:\n",
      "\n",
      "Accuracy of the model:  0.8243478260869566\n",
      "\n",
      "Accuracy:  0.8243478260869566\n",
      "Error:  0.17565217391304344\n",
      "\n",
      "confusion matrix \n",
      " [[502 190]\n",
      " [ 12 446]]\n",
      "\n",
      "Report:\n",
      "               precision    recall  f1-score   support\n",
      "\n",
      "           0       0.98      0.73      0.83       692\n",
      "           1       0.70      0.97      0.82       458\n",
      "\n",
      "    accuracy                           0.82      1150\n",
      "   macro avg       0.84      0.85      0.82      1150\n",
      "weighted avg       0.87      0.82      0.83      1150\n",
      "\n",
      "TRAINING: \n",
      "\n",
      "Accuracy of the model:  0.8176811594202898\n",
      "Error:  0.18231884057971015\n"
     ]
    }
   ],
   "source": [
    "print(\"TESTING:\\n\")\n",
    "score = nb.score(xTest, yTest)\n",
    "print(\"Accuracy of the model: \",score)\n",
    "\n",
    "# Testing with accuracy score\n",
    "sc = metrics.accuracy_score(yTest, y_pred_nb)\n",
    "\n",
    "print(\"\\nAccuracy: \",sc)\n",
    "\n",
    "print(\"Error: \",1-sc)\n",
    "cm_nb = metrics.confusion_matrix(yTest, y_pred_nb)\n",
    "TN_nb = cm_nb[0][0]\n",
    "FN_nb = cm_nb[1][0]\n",
    "FP_nb = cm_nb[0][1]\n",
    "TP_nb = cm_nb[1][1]\n",
    "\n",
    "print(\"\\nconfusion matrix \\n\", cm_nb)\n",
    "print(\"\\nReport:\\n\",metrics.classification_report(yTest, y_pred_nb))\n",
    "\n",
    "print(\"TRAINING: \\n\")\n",
    "\n",
    "# Testing with Logistic regression score\n",
    "score = nb.score(xTrain, yTrain)\n",
    "print(\"Accuracy of the model: \",score)\n",
    "print(\"Error: \",1-score)"
   ]
  },
  {
   "cell_type": "markdown",
   "metadata": {},
   "source": [
    "**Linear Discriminant Analysis**"
   ]
  },
  {
   "cell_type": "code",
   "execution_count": 41,
   "metadata": {
    "scrolled": true
   },
   "outputs": [
    {
     "name": "stderr",
     "output_type": "stream",
     "text": [
      "/Library/Frameworks/Python.framework/Versions/3.7/lib/python3.7/site-packages/sklearn/discriminant_analysis.py:388: UserWarning: Variables are collinear.\n",
      "  warnings.warn(\"Variables are collinear.\")\n"
     ]
    }
   ],
   "source": [
    "lda = LDA(n_components=1)\n",
    "fit3 = lda.fit(xTrain, yTrain)\n",
    "y_pred_lda = fit3.predict(xTest)"
   ]
  },
  {
   "cell_type": "code",
   "execution_count": 43,
   "metadata": {},
   "outputs": [
    {
     "name": "stdout",
     "output_type": "stream",
     "text": [
      "TESTING:\n",
      "\n",
      "Accuracy of the model:  0.8947826086956522\n",
      "\n",
      "Accuracy:  0.8947826086956522\n",
      "Error:  0.10521739130434782\n",
      "\n",
      "confusion matrix \n",
      " [[502 190]\n",
      " [ 12 446]]\n",
      "\n",
      "Report:\n",
      "               precision    recall  f1-score   support\n",
      "\n",
      "           0       0.88      0.96      0.92       692\n",
      "           1       0.93      0.79      0.86       458\n",
      "\n",
      "    accuracy                           0.89      1150\n",
      "   macro avg       0.90      0.88      0.89      1150\n",
      "weighted avg       0.90      0.89      0.89      1150\n",
      "\n",
      "TRAINING: \n",
      "\n",
      "Accuracy of the model:  0.8855072463768116\n",
      "Error:  0.11449275362318845\n"
     ]
    }
   ],
   "source": [
    "print(\"TESTING:\\n\")\n",
    "score = lda.score(xTest, yTest)\n",
    "print(\"Accuracy of the model: \",score)\n",
    "\n",
    "# Testing with accuracy score\n",
    "sc = metrics.accuracy_score(yTest, y_pred_lda)\n",
    "print(\"\\nAccuracy: \",sc)\n",
    "\n",
    "print(\"Error: \",1-sc)\n",
    "\n",
    "cm_lda = metrics.confusion_matrix(yTest, y_pred_lda)\n",
    "TN_lda = cm_lda[0][0]\n",
    "FN_lda = cm_lda[1][0]\n",
    "FP_lda = cm_lda[0][1]\n",
    "TP_lda = cm_lda[1][1]\n",
    "\n",
    "print(\"\\nconfusion matrix \\n\", cm_nb)\n",
    "print(\"\\nReport:\\n\",metrics.classification_report(yTest, y_pred_lda))\n",
    "\n",
    "print(\"TRAINING: \\n\")\n",
    "\n",
    "# Testing with Logistic regression score\n",
    "score = lda.score(xTrain, yTrain)\n",
    "print(\"Accuracy of the model: \",score)\n",
    "print(\"Error: \",1-score)"
   ]
  },
  {
   "cell_type": "markdown",
   "metadata": {},
   "source": [
    "**Decision Tree**"
   ]
  },
  {
   "cell_type": "code",
   "execution_count": 44,
   "metadata": {},
   "outputs": [
    {
     "data": {
      "text/plain": [
       "DecisionTreeClassifier(class_weight=None, criterion='gini', max_depth=None,\n",
       "                       max_features=None, max_leaf_nodes=None,\n",
       "                       min_impurity_decrease=0.0, min_impurity_split=None,\n",
       "                       min_samples_leaf=1, min_samples_split=2,\n",
       "                       min_weight_fraction_leaf=0.0, presort=False,\n",
       "                       random_state=None, splitter='best')"
      ]
     },
     "execution_count": 44,
     "metadata": {},
     "output_type": "execute_result"
    }
   ],
   "source": [
    "classifier_tree = DecisionTreeClassifier()\n",
    "classifier_tree.fit(xTrain, yTrain)"
   ]
  },
  {
   "cell_type": "code",
   "execution_count": 45,
   "metadata": {},
   "outputs": [],
   "source": [
    "y_pred_dtree = classifier_tree.predict(xTest)"
   ]
  },
  {
   "cell_type": "code",
   "execution_count": 46,
   "metadata": {
    "scrolled": true
   },
   "outputs": [
    {
     "name": "stdout",
     "output_type": "stream",
     "text": [
      "TESTING:\n",
      "\n",
      "Accuracy of the model:  0.8965217391304348\n",
      "\n",
      "Accuracy:  0.8965217391304348\n",
      "Error:  0.10347826086956524\n",
      "\n",
      "confusion matrix \n",
      " [[632  60]\n",
      " [ 59 399]]\n",
      "\n",
      "Report:\n",
      "               precision    recall  f1-score   support\n",
      "\n",
      "           0       0.91      0.91      0.91       692\n",
      "           1       0.87      0.87      0.87       458\n",
      "\n",
      "    accuracy                           0.90      1150\n",
      "   macro avg       0.89      0.89      0.89      1150\n",
      "weighted avg       0.90      0.90      0.90      1150\n",
      "\n",
      "TRAINING:\n",
      "\n",
      "Accuracy of the model:  0.9991304347826087\n",
      "Error:  0.0008695652173913437\n"
     ]
    }
   ],
   "source": [
    "print(\"TESTING:\\n\")\n",
    "score = classifier_tree.score(xTest, yTest)\n",
    "print(\"Accuracy of the model: \",score)\n",
    "\n",
    "# Testing with accuracy score\n",
    "sc = metrics.accuracy_score(yTest, y_pred_dtree)\n",
    "\n",
    "print(\"\\nAccuracy: \",sc)\n",
    "\n",
    "print(\"Error: \",1-sc)\n",
    "\n",
    "cm_tree = metrics.confusion_matrix(yTest, y_pred_dtree)\n",
    "TN_tree = cm_tree[0][0]\n",
    "FN_tree = cm_tree[1][0]\n",
    "FP_tree = cm_tree[0][1]\n",
    "TP_tree = cm_tree[1][1]\n",
    "\n",
    "print(\"\\nconfusion matrix \\n\", cm_tree)\n",
    "print(\"\\nReport:\\n\",metrics.classification_report(yTest, y_pred_dtree))\n",
    "\n",
    "print(\"TRAINING:\")\n",
    "\n",
    "# Testing with Logistic regression score\n",
    "score = classifier_tree.score(xTrain, yTrain)\n",
    "print(\"\\nAccuracy of the model: \",score)\n",
    "print(\"Error: \",1-score)"
   ]
  },
  {
   "cell_type": "markdown",
   "metadata": {},
   "source": [
    "**K Nearest Neighbours**"
   ]
  },
  {
   "cell_type": "code",
   "execution_count": 47,
   "metadata": {
    "scrolled": false
   },
   "outputs": [
    {
     "data": {
      "text/plain": [
       "KNeighborsClassifier(algorithm='auto', leaf_size=30, metric='minkowski',\n",
       "                     metric_params=None, n_jobs=None, n_neighbors=10, p=2,\n",
       "                     weights='uniform')"
      ]
     },
     "execution_count": 47,
     "metadata": {},
     "output_type": "execute_result"
    }
   ],
   "source": [
    "classifier = KNeighborsClassifier(n_neighbors=10)\n",
    "classifier.fit(xTrain, yTrain)"
   ]
  },
  {
   "cell_type": "code",
   "execution_count": 48,
   "metadata": {},
   "outputs": [
    {
     "data": {
      "text/plain": [
       "array([1, 0, 0, ..., 0, 0, 0])"
      ]
     },
     "execution_count": 48,
     "metadata": {},
     "output_type": "execute_result"
    }
   ],
   "source": [
    "y_pred_knn = classifier.predict(xTest)\n",
    "y_pred_knn"
   ]
  },
  {
   "cell_type": "code",
   "execution_count": 49,
   "metadata": {
    "scrolled": true
   },
   "outputs": [
    {
     "name": "stdout",
     "output_type": "stream",
     "text": [
      "TESTING:\n",
      "\n",
      "Accuracy of the model:  0.9113043478260869\n",
      "\n",
      "Accuracy:  0.9113043478260869\n",
      "Error:  0.08869565217391306\n",
      "\n",
      "confusion matrix \n",
      " [[662  30]\n",
      " [ 72 386]]\n",
      "\n",
      "Report:\n",
      "               precision    recall  f1-score   support\n",
      "\n",
      "           0       0.90      0.96      0.93       692\n",
      "           1       0.93      0.84      0.88       458\n",
      "\n",
      "    accuracy                           0.91      1150\n",
      "   macro avg       0.91      0.90      0.91      1150\n",
      "weighted avg       0.91      0.91      0.91      1150\n",
      "\n",
      "TRAINING: \n",
      "\n",
      "Accuracy of the model:  0.9127536231884058\n",
      "Error:  0.0872463768115942\n"
     ]
    }
   ],
   "source": [
    "print(\"TESTING:\\n\")\n",
    "score = classifier.score(xTest, yTest)\n",
    "print(\"Accuracy of the model: \",score)\n",
    "\n",
    "# Testing with accuracy score\n",
    "sc = metrics.accuracy_score(yTest, y_pred_knn)\n",
    "\n",
    "print(\"\\nAccuracy: \",sc)\n",
    "print(\"Error: \",1-sc)\n",
    "\n",
    "cm_knn = metrics.confusion_matrix(yTest, y_pred_knn)\n",
    "TN_knn = cm_knn[0][0]\n",
    "FN_knn = cm_knn[1][0]\n",
    "FP_knn = cm_knn[0][1]\n",
    "TP_knn = cm_knn[1][1]\n",
    "\n",
    "print(\"\\nconfusion matrix \\n\", cm_knn)\n",
    "print(\"\\nReport:\\n\",metrics.classification_report(yTest, y_pred_knn))\n",
    "\n",
    "print(\"TRAINING: \\n\")\n",
    "\n",
    "# Testing with Logistic regression score\n",
    "score = classifier.score(xTrain, yTrain)\n",
    "print(\"Accuracy of the model: \",score)\n",
    "print(\"Error: \",1-score)"
   ]
  },
  {
   "cell_type": "markdown",
   "metadata": {},
   "source": [
    "**(a) Experiment with different values of k for kNN and report 2 metrics on the training and testing sets: accuracy and error. Choose the value of k that gives the highest accuracy in testing.**"
   ]
  },
  {
   "cell_type": "code",
   "execution_count": 50,
   "metadata": {
    "scrolled": true
   },
   "outputs": [
    {
     "name": "stdout",
     "output_type": "stream",
     "text": [
      "K value:  1\n",
      "Accuracy:  0.908695652173913\n",
      "Error:  0.09130434782608698\n",
      "K value:  2\n",
      "Accuracy:  0.8930434782608696\n",
      "Error:  0.1069565217391304\n",
      "K value:  3\n",
      "Accuracy:  0.9113043478260869\n",
      "Error:  0.08869565217391306\n",
      "K value:  4\n",
      "Accuracy:  0.9008695652173913\n",
      "Error:  0.09913043478260875\n",
      "K value:  5\n",
      "Accuracy:  0.9130434782608695\n",
      "Error:  0.08695652173913049\n",
      "K value:  6\n",
      "Accuracy:  0.9130434782608695\n",
      "Error:  0.08695652173913049\n",
      "K value:  7\n",
      "Accuracy:  0.9121739130434783\n",
      "Error:  0.08782608695652172\n",
      "K value:  8\n",
      "Accuracy:  0.9069565217391304\n",
      "Error:  0.09304347826086956\n",
      "K value:  9\n",
      "Accuracy:  0.9121739130434783\n",
      "Error:  0.08782608695652172\n",
      "K value:  10\n",
      "Accuracy:  0.9113043478260869\n",
      "Error:  0.08869565217391306\n",
      "K value:  11\n",
      "Accuracy:  0.9156521739130434\n",
      "Error:  0.08434782608695657\n",
      "K value:  12\n",
      "Accuracy:  0.9121739130434783\n",
      "Error:  0.08782608695652172\n",
      "K value:  13\n",
      "Accuracy:  0.9156521739130434\n",
      "Error:  0.08434782608695657\n",
      "K value:  14\n",
      "Accuracy:  0.9130434782608695\n",
      "Error:  0.08695652173913049\n",
      "K value:  15\n",
      "Accuracy:  0.9156521739130434\n",
      "Error:  0.08434782608695657\n",
      "K value:  16\n",
      "Accuracy:  0.9130434782608695\n",
      "Error:  0.08695652173913049\n",
      "K value:  17\n",
      "Accuracy:  0.9147826086956522\n",
      "Error:  0.0852173913043478\n",
      "K value:  18\n",
      "Accuracy:  0.9147826086956522\n",
      "Error:  0.0852173913043478\n",
      "K value:  19\n",
      "Accuracy:  0.9147826086956522\n",
      "Error:  0.0852173913043478\n",
      "K value:  20\n",
      "Accuracy:  0.9113043478260869\n",
      "Error:  0.08869565217391306\n",
      "K value:  21\n",
      "Accuracy:  0.9165217391304348\n",
      "Error:  0.08347826086956522\n",
      "K value:  22\n",
      "Accuracy:  0.9113043478260869\n",
      "Error:  0.08869565217391306\n",
      "K value:  23\n",
      "Accuracy:  0.9121739130434783\n",
      "Error:  0.08782608695652172\n",
      "K value:  24\n",
      "Accuracy:  0.9026086956521739\n",
      "Error:  0.09739130434782606\n",
      "K value:  25\n",
      "Accuracy:  0.9060869565217391\n",
      "Error:  0.0939130434782609\n",
      "K value:  26\n",
      "Accuracy:  0.9034782608695652\n",
      "Error:  0.09652173913043482\n",
      "K value:  27\n",
      "Accuracy:  0.9052173913043479\n",
      "Error:  0.09478260869565214\n",
      "K value:  28\n",
      "Accuracy:  0.8982608695652174\n",
      "Error:  0.10173913043478255\n",
      "K value:  29\n",
      "Accuracy:  0.9017391304347826\n",
      "Error:  0.0982608695652174\n",
      "K value:  30\n",
      "Accuracy:  0.8991304347826087\n",
      "Error:  0.10086956521739132\n",
      "K value:  31\n",
      "Accuracy:  0.9043478260869565\n",
      "Error:  0.09565217391304348\n",
      "K value:  32\n",
      "Accuracy:  0.9\n",
      "Error:  0.09999999999999998\n",
      "K value:  33\n",
      "Accuracy:  0.9026086956521739\n",
      "Error:  0.09739130434782606\n",
      "K value:  34\n",
      "Accuracy:  0.8965217391304348\n",
      "Error:  0.10347826086956524\n",
      "K value:  35\n",
      "Accuracy:  0.9008695652173913\n",
      "Error:  0.09913043478260875\n",
      "K value:  36\n",
      "Accuracy:  0.8982608695652174\n",
      "Error:  0.10173913043478255\n",
      "K value:  37\n",
      "Accuracy:  0.9008695652173913\n",
      "Error:  0.09913043478260875\n",
      "K value:  38\n",
      "Accuracy:  0.9017391304347826\n",
      "Error:  0.0982608695652174\n",
      "K value:  39\n",
      "Accuracy:  0.9017391304347826\n",
      "Error:  0.0982608695652174\n",
      "K value:  40\n",
      "Accuracy:  0.9008695652173913\n",
      "Error:  0.09913043478260875\n",
      "K value:  41\n",
      "Accuracy:  0.9026086956521739\n",
      "Error:  0.09739130434782606\n",
      "K value:  42\n",
      "Accuracy:  0.8930434782608696\n",
      "Error:  0.1069565217391304\n",
      "K value:  43\n",
      "Accuracy:  0.8991304347826087\n",
      "Error:  0.10086956521739132\n",
      "K value:  44\n",
      "Accuracy:  0.8939130434782608\n",
      "Error:  0.10608695652173916\n",
      "K value:  45\n",
      "Accuracy:  0.8973913043478261\n",
      "Error:  0.1026086956521739\n",
      "K value:  46\n",
      "Accuracy:  0.8965217391304348\n",
      "Error:  0.10347826086956524\n",
      "K value:  47\n",
      "Accuracy:  0.8982608695652174\n",
      "Error:  0.10173913043478255\n",
      "K value:  48\n",
      "Accuracy:  0.8930434782608696\n",
      "Error:  0.1069565217391304\n",
      "K value:  49\n",
      "Accuracy:  0.8956521739130435\n",
      "Error:  0.10434782608695647\n"
     ]
    }
   ],
   "source": [
    "error = []\n",
    "\n",
    "# Calculating error for K values between 1 and 50\n",
    "for i in range(1, 50):\n",
    "    classifier = KNeighborsClassifier(n_neighbors=i)\n",
    "    classifier.fit(xTrain, yTrain)\n",
    "    pred_knn = classifier.predict(xTest)\n",
    "    error.append(np.mean(pred_knn != yTest))\n",
    "    \n",
    "    sc = metrics.accuracy_score(yTest, pred_knn)\n",
    "    print(\"K value: \", i)\n",
    "    print(\"Accuracy: \",sc)\n",
    "    print(\"Error: \",1-sc)\n",
    "    "
   ]
  },
  {
   "cell_type": "code",
   "execution_count": 51,
   "metadata": {},
   "outputs": [
    {
     "data": {
      "text/plain": [
       "Text(0, 0.5, 'Mean Squared Error')"
      ]
     },
     "execution_count": 51,
     "metadata": {},
     "output_type": "execute_result"
    },
    {
     "data": {
      "image/png": "[encoded data removed]",
      "text/plain": [
       "<Figure size 864x432 with 1 Axes>"
      ]
     },
     "metadata": {
      "needs_background": "light"
     },
     "output_type": "display_data"
    }
   ],
   "source": [
    "plt.figure(figsize=(12, 6))\n",
    "plt.plot(range(1, 50), error, color='green', marker='o',\n",
    "         markerfacecolor='red', markersize=10)\n",
    "plt.xlabel('K Values')\n",
    "plt.ylabel('Mean Squared Error')"
   ]
  },
  {
   "cell_type": "markdown",
   "metadata": {},
   "source": [
    "**From the output we can see that the mean error is minimum when the value of the K is between 10 and 22.** \n",
    "\n",
    "**For k =11**"
   ]
  },
  {
   "cell_type": "code",
   "execution_count": 52,
   "metadata": {},
   "outputs": [
    {
     "data": {
      "text/plain": [
       "KNeighborsClassifier(algorithm='auto', leaf_size=30, metric='minkowski',\n",
       "                     metric_params=None, n_jobs=None, n_neighbors=11, p=2,\n",
       "                     weights='uniform')"
      ]
     },
     "execution_count": 52,
     "metadata": {},
     "output_type": "execute_result"
    }
   ],
   "source": [
    "classifier = KNeighborsClassifier(n_neighbors=11)\n",
    "classifier.fit(xTrain, yTrain)"
   ]
  },
  {
   "cell_type": "code",
   "execution_count": 53,
   "metadata": {},
   "outputs": [
    {
     "data": {
      "text/plain": [
       "array([1, 0, 0, ..., 0, 0, 0])"
      ]
     },
     "execution_count": 53,
     "metadata": {},
     "output_type": "execute_result"
    }
   ],
   "source": [
    "y_pred_knn_10 = classifier.predict(xTest)\n",
    "y_pred_knn_10"
   ]
  },
  {
   "cell_type": "code",
   "execution_count": 54,
   "metadata": {
    "scrolled": true
   },
   "outputs": [
    {
     "name": "stdout",
     "output_type": "stream",
     "text": [
      "TESTING: \n",
      "\n",
      "Accuracy of the model:  0.9156521739130434\n",
      "\n",
      "Accuracy:  0.9113043478260869\n",
      "Error:  0.08869565217391306\n",
      "confusion matrix \n",
      " [[656  36]\n",
      " [ 61 397]]\n",
      "report: \n",
      "               precision    recall  f1-score   support\n",
      "\n",
      "           0       0.91      0.95      0.93       692\n",
      "           1       0.92      0.87      0.89       458\n",
      "\n",
      "    accuracy                           0.92      1150\n",
      "   macro avg       0.92      0.91      0.91      1150\n",
      "weighted avg       0.92      0.92      0.92      1150\n",
      "\n",
      "TRAINING: \n",
      "\n",
      "Accuracy of the model:  0.9159420289855073\n",
      "Error:  0.08405797101449275\n"
     ]
    }
   ],
   "source": [
    "print(\"TESTING: \\n\")\n",
    "score = classifier.score(xTest, yTest)\n",
    "print(\"Accuracy of the model: \",score)\n",
    "sc = metrics.accuracy_score(yTest, y_pred_knn)\n",
    "\n",
    "print(\"\\nAccuracy: \",sc)\n",
    "print(\"Error: \",1-sc)\n",
    "print(\"confusion matrix \\n\", metrics.confusion_matrix(yTest, y_pred_knn_10))\n",
    "print(\"report: \\n\",metrics.classification_report(yTest, y_pred_knn_10))\n",
    "\n",
    "print(\"TRAINING: \\n\")\n",
    "score = classifier.score(xTrain, yTrain)\n",
    "print(\"Accuracy of the model: \",score)\n",
    "print(\"Error: \",1-score)"
   ]
  },
  {
   "cell_type": "markdown",
   "metadata": {},
   "source": [
    "**For k = 21**"
   ]
  },
  {
   "cell_type": "code",
   "execution_count": 55,
   "metadata": {},
   "outputs": [
    {
     "data": {
      "text/plain": [
       "KNeighborsClassifier(algorithm='auto', leaf_size=30, metric='minkowski',\n",
       "                     metric_params=None, n_jobs=None, n_neighbors=21, p=2,\n",
       "                     weights='uniform')"
      ]
     },
     "execution_count": 55,
     "metadata": {},
     "output_type": "execute_result"
    }
   ],
   "source": [
    "classifier = KNeighborsClassifier(n_neighbors=21)\n",
    "classifier.fit(xTrain, yTrain)"
   ]
  },
  {
   "cell_type": "code",
   "execution_count": 56,
   "metadata": {},
   "outputs": [
    {
     "data": {
      "text/plain": [
       "array([1, 0, 0, ..., 0, 0, 0])"
      ]
     },
     "execution_count": 56,
     "metadata": {},
     "output_type": "execute_result"
    }
   ],
   "source": [
    "y_pred_knn_21 = classifier.predict(xTest)\n",
    "y_pred_knn_21"
   ]
  },
  {
   "cell_type": "code",
   "execution_count": 57,
   "metadata": {
    "scrolled": true
   },
   "outputs": [
    {
     "name": "stdout",
     "output_type": "stream",
     "text": [
      "TESTING: \n",
      "\n",
      "Accuracy of the model:  0.9165217391304348\n",
      "\n",
      "Accuracy:  0.9113043478260869\n",
      "Error:  0.08869565217391306\n",
      "\n",
      "confusion matrix \n",
      " [[665  27]\n",
      " [ 69 389]]\n",
      "\n",
      "Report: \n",
      "               precision    recall  f1-score   support\n",
      "\n",
      "           0       0.91      0.96      0.93       692\n",
      "           1       0.94      0.85      0.89       458\n",
      "\n",
      "    accuracy                           0.92      1150\n",
      "   macro avg       0.92      0.91      0.91      1150\n",
      "weighted avg       0.92      0.92      0.92      1150\n",
      "\n",
      "TRAINING: \n",
      "\n",
      "Accuracy of the model:  0.9060869565217391\n",
      "Error:  0.0939130434782609\n"
     ]
    }
   ],
   "source": [
    "print(\"TESTING: \\n\")\n",
    "score = classifier.score(xTest, yTest)\n",
    "print(\"Accuracy of the model: \",score)\n",
    "sc = metrics.accuracy_score(yTest, y_pred_knn)\n",
    "print(\"\\nAccuracy: \",sc)\n",
    "print(\"Error: \",1-sc)\n",
    "\n",
    "print(\"\\nconfusion matrix \\n\", metrics.confusion_matrix(yTest, y_pred_knn_21))\n",
    "print(\"\\nReport: \\n\",metrics.classification_report(yTest, y_pred_knn_21))\n",
    "\n",
    "print(\"TRAINING: \\n\")\n",
    "score = classifier.score(xTrain, yTrain)\n",
    "\n",
    "print(\"Accuracy of the model: \",score)\n",
    "print(\"Error: \",1-score)"
   ]
  },
  {
   "cell_type": "markdown",
   "metadata": {},
   "source": [
    "**(c) Generate a graph that includes 5 ROC curves (one for each of the 5 classifiers) on the testing set.\n",
    "Compute the Area Under the Curve (AUC) metric for all 5 classifiers.**"
   ]
  },
  {
   "cell_type": "code",
   "execution_count": 58,
   "metadata": {},
   "outputs": [],
   "source": [
    "def plot_roc_curve(fpr, tpr):\n",
    "    plt.plot(fpr, tpr, color='orange', label='ROC')\n",
    "    plt.plot([0, 1], [0, 1], color='darkblue', linestyle='--')\n",
    "    plt.xlabel('False Positive Rate')\n",
    "    plt.ylabel('True Positive Rate')\n",
    "    plt.title('Receiver Operating Characteristic (ROC) Curve')\n",
    "    plt.legend()\n",
    "    plt.show()"
   ]
  },
  {
   "cell_type": "markdown",
   "metadata": {},
   "source": [
    "**Logistic Regression**"
   ]
  },
  {
   "cell_type": "code",
   "execution_count": 59,
   "metadata": {},
   "outputs": [
    {
     "name": "stdout",
     "output_type": "stream",
     "text": [
      "AUC: 0.92\n"
     ]
    },
    {
     "data": {
      "image/png": "[encoded data removed]",
      "text/plain": [
       "<Figure size 432x288 with 1 Axes>"
      ]
     },
     "metadata": {
      "needs_background": "light"
     },
     "output_type": "display_data"
    }
   ],
   "source": [
    "auc = roc_auc_score(yTest, y_pred_reg)\n",
    "print('AUC: %.2f' % auc)\n",
    "\n",
    "fpr, tpr, thresholds = roc_curve(yTest, y_pred_reg)\n",
    "\n",
    "plot_roc_curve(fpr, tpr)"
   ]
  },
  {
   "cell_type": "markdown",
   "metadata": {},
   "source": [
    "**LDA**"
   ]
  },
  {
   "cell_type": "code",
   "execution_count": 60,
   "metadata": {
    "scrolled": true
   },
   "outputs": [
    {
     "name": "stdout",
     "output_type": "stream",
     "text": [
      "AUC: 0.88\n"
     ]
    },
    {
     "data": {
      "image/png": "[encoded data removed]",
      "text/plain": [
       "<Figure size 432x288 with 1 Axes>"
      ]
     },
     "metadata": {
      "needs_background": "light"
     },
     "output_type": "display_data"
    }
   ],
   "source": [
    "auc = roc_auc_score(yTest, y_pred_lda)\n",
    "print('AUC: %.2f' % auc)\n",
    "\n",
    "fpr, tpr, thresholds = roc_curve(yTest, y_pred_lda)\n",
    "\n",
    "plot_roc_curve(fpr, tpr)"
   ]
  },
  {
   "cell_type": "markdown",
   "metadata": {},
   "source": [
    "**K Nearest Neighbours**"
   ]
  },
  {
   "cell_type": "code",
   "execution_count": 61,
   "metadata": {},
   "outputs": [
    {
     "name": "stdout",
     "output_type": "stream",
     "text": [
      "AUC: 0.90\n"
     ]
    },
    {
     "data": {
      "image/png": "[encoded data removed]",
      "text/plain": [
       "<Figure size 432x288 with 1 Axes>"
      ]
     },
     "metadata": {
      "needs_background": "light"
     },
     "output_type": "display_data"
    }
   ],
   "source": [
    "auc = roc_auc_score(yTest, y_pred_knn)\n",
    "print('AUC: %.2f' % auc)\n",
    "\n",
    "fpr, tpr, thresholds = roc_curve(yTest, y_pred_knn)\n",
    "\n",
    "plot_roc_curve(fpr, tpr)"
   ]
  },
  {
   "cell_type": "markdown",
   "metadata": {},
   "source": [
    "**Naive Bayes**"
   ]
  },
  {
   "cell_type": "code",
   "execution_count": 62,
   "metadata": {},
   "outputs": [
    {
     "name": "stdout",
     "output_type": "stream",
     "text": [
      "AUC: 0.85\n"
     ]
    },
    {
     "data": {
      "image/png": "[encoded data removed]",
      "text/plain": [
       "<Figure size 432x288 with 1 Axes>"
      ]
     },
     "metadata": {
      "needs_background": "light"
     },
     "output_type": "display_data"
    }
   ],
   "source": [
    "auc = roc_auc_score(yTest, y_pred_nb)\n",
    "print('AUC: %.2f' % auc)\n",
    "\n",
    "fpr, tpr, thresholds = roc_curve(yTest, y_pred_nb)\n",
    "\n",
    "plot_roc_curve(fpr, tpr)"
   ]
  },
  {
   "cell_type": "markdown",
   "metadata": {},
   "source": [
    "**Decision Tree**"
   ]
  },
  {
   "cell_type": "code",
   "execution_count": 63,
   "metadata": {},
   "outputs": [
    {
     "name": "stdout",
     "output_type": "stream",
     "text": [
      "AUC: 0.89\n"
     ]
    },
    {
     "data": {
      "image/png": "[encoded data removed]",
      "text/plain": [
       "<Figure size 432x288 with 1 Axes>"
      ]
     },
     "metadata": {
      "needs_background": "light"
     },
     "output_type": "display_data"
    }
   ],
   "source": [
    "auc = roc_auc_score(yTest, y_pred_dtree)\n",
    "print('AUC: %.2f' % auc)\n",
    "\n",
    "fpr, tpr, thresholds = roc_curve(yTest, y_pred_dtree)\n",
    "\n",
    "plot_roc_curve(fpr, tpr)"
   ]
  },
  {
   "cell_type": "markdown",
   "metadata": {},
   "source": [
    "### Problem 3 [KNN IMPLEMENTATION]"
   ]
  },
  {
   "cell_type": "code",
   "execution_count": 80,
   "metadata": {},
   "outputs": [],
   "source": [
    "# df1 = df.head(100)\n",
    "# data_y1 = data_y.head(100)\n",
    "i_data = df.values.T.tolist()\n",
    "y_data = data_y.tolist()\n",
    "from sklearn.utils import shuffle\n",
    "i_data = shuffle(i_data)\n",
    "data_y = shuffle(data_y)\n"
   ]
  },
  {
   "cell_type": "code",
   "execution_count": 111,
   "metadata": {},
   "outputs": [],
   "source": [
    "xTrain1, xTest1, yTrain1, yTest1 = train_test_split(df, data_y, test_size = 0.25, random_state = 0)"
   ]
  },
  {
   "cell_type": "code",
   "execution_count": 112,
   "metadata": {},
   "outputs": [],
   "source": [
    "# calculate the Euclidean distance between two vectors\n",
    "def euclidean_distance(row1, row2): #, length):\n",
    "    distance = 0.0\n",
    "    for i in range(len(row1)-1):\n",
    "#     for i in range(length):\n",
    "        distance += (row1[i] - row2[i])**2\n",
    "    return sqrt(distance)"
   ]
  },
  {
   "cell_type": "code",
   "execution_count": 113,
   "metadata": {},
   "outputs": [],
   "source": [
    "# Sangee implementation\n",
    "def knn_classifier(k):\n",
    "    predictions_knn = []\n",
    "    for i in range(len(xTest1)):\n",
    "        xTest_1 = xTest1.iloc[i, :].to_numpy()\n",
    "        xTest_1 = xTest_1.reshape(1,xTest_1.shape[0])\n",
    "        dist = euclidean_distance(xTrain1,xTest1).sort_vales().head(k)\n",
    "        ind = dist.index.tolist()\n",
    "        c1 = 0\n",
    "        c0 = 0\n",
    "        for i in range(len(ind)):\n",
    "            t = yTrain1[ind[i]]\n",
    "            if(t==1):\n",
    "                c1 += 1\n",
    "            else:\n",
    "                c0 += 1\n",
    "        if(c1>c0):\n",
    "            dec = 1\n",
    "        elif(c1<c0):\n",
    "            dec = 0\n",
    "        else:\n",
    "            dec = np.random.choice([0,1])\n",
    "        predictions_knn.append(dec)\n",
    "    return predictions_knn"
   ]
  },
  {
   "cell_type": "markdown",
   "metadata": {},
   "source": [
    "# for i in np.arange(2,40,1):\n",
    "    pred_knn = knn_classifier(i)\n",
    "    acc_knn = metrics.accuracy_score(yTest1,pred_knn)\n",
    "    print(acc_knn)"
   ]
  },
  {
   "cell_type": "code",
   "execution_count": 107,
   "metadata": {},
   "outputs": [],
   "source": [
    "# calculate the Euclidean distance between two vectors\n",
    "def euclidean_distance1(row1, row2, length):\n",
    "    distance = 0.0\n",
    "#     for i in range(len(row1)-1):\n",
    "    for i in range(length):\n",
    "        distance += (row1[i] - row2[i])**2\n",
    "    return sqrt(distance)"
   ]
  },
  {
   "cell_type": "code",
   "execution_count": 108,
   "metadata": {},
   "outputs": [],
   "source": [
    "def knn(traindata, testdata, k):\n",
    " \n",
    "    distances = []\n",
    "#     sort = []\n",
    " \n",
    "    length = testdata.shape[1]\n",
    "    \n",
    "    # Calculating euclidean distance between each row of training data and test data\n",
    "    for x in range(len(traindata)):\n",
    "        \n",
    "        dist = euclidean_distance1(testdata, traindata.iloc[x], length)\n",
    "        distances.append(traindata.iloc[x],dist)\n",
    "    distnces.sort(key=operator.itemgetter(1))\n",
    "\n",
    "    neighbors = []\n",
    "    \n",
    "    # Extracting top k neighbors\n",
    "    for x in range(k):\n",
    "        neighbors.append(distances[x][0])\n",
    "    return neighbors\n"
   ]
  },
  {
   "cell_type": "code",
   "execution_count": 109,
   "metadata": {},
   "outputs": [],
   "source": [
    "def getResponse(neighbors):\n",
    "    classVotes = {}\n",
    "    for x in range(len(neighbors)):\n",
    "        response = neighbors[x][-1]\n",
    "        if response in classVotes:\n",
    "            classVotes[response] += 1\n",
    "        else:\n",
    "            classVotes[response] = 1\n",
    "    sortedVotes = sorted(classVotes.items(), key=operator.itemgetter(1), reverse=True)#Sorting it based on votes\n",
    "    return sortedVotes[0][0]"
   ]
  },
  {
   "cell_type": "code",
   "execution_count": 110,
   "metadata": {
    "collapsed": true
   },
   "outputs": [
    {
     "ename": "KeyError",
     "evalue": "0",
     "output_type": "error",
     "traceback": [
      "\u001b[0;31m---------------------------------------------------------------------------\u001b[0m",
      "\u001b[0;31mKeyError\u001b[0m                                  Traceback (most recent call last)",
      "\u001b[0;32m/Library/Frameworks/Python.framework/Versions/3.7/lib/python3.7/site-packages/pandas/core/indexes/base.py\u001b[0m in \u001b[0;36mget_loc\u001b[0;34m(self, key, method, tolerance)\u001b[0m\n\u001b[1;32m   2896\u001b[0m             \u001b[0;32mtry\u001b[0m\u001b[0;34m:\u001b[0m\u001b[0;34m\u001b[0m\u001b[0;34m\u001b[0m\u001b[0m\n\u001b[0;32m-> 2897\u001b[0;31m                 \u001b[0;32mreturn\u001b[0m \u001b[0mself\u001b[0m\u001b[0;34m.\u001b[0m\u001b[0m_engine\u001b[0m\u001b[0;34m.\u001b[0m\u001b[0mget_loc\u001b[0m\u001b[0;34m(\u001b[0m\u001b[0mkey\u001b[0m\u001b[0;34m)\u001b[0m\u001b[0;34m\u001b[0m\u001b[0;34m\u001b[0m\u001b[0m\n\u001b[0m\u001b[1;32m   2898\u001b[0m             \u001b[0;32mexcept\u001b[0m \u001b[0mKeyError\u001b[0m\u001b[0;34m:\u001b[0m\u001b[0;34m\u001b[0m\u001b[0;34m\u001b[0m\u001b[0m\n",
      "\u001b[0;32mpandas/_libs/index.pyx\u001b[0m in \u001b[0;36mpandas._libs.index.IndexEngine.get_loc\u001b[0;34m()\u001b[0m\n",
      "\u001b[0;32mpandas/_libs/index.pyx\u001b[0m in \u001b[0;36mpandas._libs.index.IndexEngine.get_loc\u001b[0;34m()\u001b[0m\n",
      "\u001b[0;32mpandas/_libs/hashtable_class_helper.pxi\u001b[0m in \u001b[0;36mpandas._libs.hashtable.PyObjectHashTable.get_item\u001b[0;34m()\u001b[0m\n",
      "\u001b[0;32mpandas/_libs/hashtable_class_helper.pxi\u001b[0m in \u001b[0;36mpandas._libs.hashtable.PyObjectHashTable.get_item\u001b[0;34m()\u001b[0m\n",
      "\u001b[0;31mKeyError\u001b[0m: 0",
      "\nDuring handling of the above exception, another exception occurred:\n",
      "\u001b[0;31mKeyError\u001b[0m                                  Traceback (most recent call last)",
      "\u001b[0;32m<ipython-input-110-e0b2cd33bbc1>\u001b[0m in \u001b[0;36m<module>\u001b[0;34m\u001b[0m\n\u001b[1;32m      2\u001b[0m \u001b[0mk\u001b[0m \u001b[0;34m=\u001b[0m \u001b[0;36m3\u001b[0m\u001b[0;34m\u001b[0m\u001b[0;34m\u001b[0m\u001b[0m\n\u001b[1;32m      3\u001b[0m \u001b[0;32mfor\u001b[0m \u001b[0mx\u001b[0m \u001b[0;32min\u001b[0m \u001b[0mrange\u001b[0m\u001b[0;34m(\u001b[0m\u001b[0mlen\u001b[0m\u001b[0;34m(\u001b[0m\u001b[0mxTest1\u001b[0m\u001b[0;34m)\u001b[0m\u001b[0;34m)\u001b[0m\u001b[0;34m:\u001b[0m\u001b[0;34m\u001b[0m\u001b[0;34m\u001b[0m\u001b[0m\n\u001b[0;32m----> 4\u001b[0;31m     \u001b[0mneighbors\u001b[0m \u001b[0;34m=\u001b[0m \u001b[0mknn\u001b[0m\u001b[0;34m(\u001b[0m\u001b[0mxTrain1\u001b[0m\u001b[0;34m,\u001b[0m \u001b[0mxTest1\u001b[0m\u001b[0;34m[\u001b[0m\u001b[0mx\u001b[0m\u001b[0;34m]\u001b[0m\u001b[0;34m,\u001b[0m \u001b[0mk\u001b[0m\u001b[0;34m)\u001b[0m\u001b[0;34m\u001b[0m\u001b[0;34m\u001b[0m\u001b[0m\n\u001b[0m\u001b[1;32m      5\u001b[0m     \u001b[0mresult\u001b[0m \u001b[0;34m=\u001b[0m \u001b[0mgetResponse\u001b[0m\u001b[0;34m(\u001b[0m\u001b[0mneighbors\u001b[0m\u001b[0;34m)\u001b[0m\u001b[0;34m\u001b[0m\u001b[0;34m\u001b[0m\u001b[0m\n\u001b[1;32m      6\u001b[0m     \u001b[0mpredictions\u001b[0m\u001b[0;34m.\u001b[0m\u001b[0mappend\u001b[0m\u001b[0;34m(\u001b[0m\u001b[0mresult\u001b[0m\u001b[0;34m)\u001b[0m\u001b[0;34m\u001b[0m\u001b[0;34m\u001b[0m\u001b[0m\n",
      "\u001b[0;32m/Library/Frameworks/Python.framework/Versions/3.7/lib/python3.7/site-packages/pandas/core/frame.py\u001b[0m in \u001b[0;36m__getitem__\u001b[0;34m(self, key)\u001b[0m\n\u001b[1;32m   2978\u001b[0m             \u001b[0;32mif\u001b[0m \u001b[0mself\u001b[0m\u001b[0;34m.\u001b[0m\u001b[0mcolumns\u001b[0m\u001b[0;34m.\u001b[0m\u001b[0mnlevels\u001b[0m \u001b[0;34m>\u001b[0m \u001b[0;36m1\u001b[0m\u001b[0;34m:\u001b[0m\u001b[0;34m\u001b[0m\u001b[0;34m\u001b[0m\u001b[0m\n\u001b[1;32m   2979\u001b[0m                 \u001b[0;32mreturn\u001b[0m \u001b[0mself\u001b[0m\u001b[0;34m.\u001b[0m\u001b[0m_getitem_multilevel\u001b[0m\u001b[0;34m(\u001b[0m\u001b[0mkey\u001b[0m\u001b[0;34m)\u001b[0m\u001b[0;34m\u001b[0m\u001b[0;34m\u001b[0m\u001b[0m\n\u001b[0;32m-> 2980\u001b[0;31m             \u001b[0mindexer\u001b[0m \u001b[0;34m=\u001b[0m \u001b[0mself\u001b[0m\u001b[0;34m.\u001b[0m\u001b[0mcolumns\u001b[0m\u001b[0;34m.\u001b[0m\u001b[0mget_loc\u001b[0m\u001b[0;34m(\u001b[0m\u001b[0mkey\u001b[0m\u001b[0;34m)\u001b[0m\u001b[0;34m\u001b[0m\u001b[0;34m\u001b[0m\u001b[0m\n\u001b[0m\u001b[1;32m   2981\u001b[0m             \u001b[0;32mif\u001b[0m \u001b[0mis_integer\u001b[0m\u001b[0;34m(\u001b[0m\u001b[0mindexer\u001b[0m\u001b[0;34m)\u001b[0m\u001b[0;34m:\u001b[0m\u001b[0;34m\u001b[0m\u001b[0;34m\u001b[0m\u001b[0m\n\u001b[1;32m   2982\u001b[0m                 \u001b[0mindexer\u001b[0m \u001b[0;34m=\u001b[0m \u001b[0;34m[\u001b[0m\u001b[0mindexer\u001b[0m\u001b[0;34m]\u001b[0m\u001b[0;34m\u001b[0m\u001b[0;34m\u001b[0m\u001b[0m\n",
      "\u001b[0;32m/Library/Frameworks/Python.framework/Versions/3.7/lib/python3.7/site-packages/pandas/core/indexes/base.py\u001b[0m in \u001b[0;36mget_loc\u001b[0;34m(self, key, method, tolerance)\u001b[0m\n\u001b[1;32m   2897\u001b[0m                 \u001b[0;32mreturn\u001b[0m \u001b[0mself\u001b[0m\u001b[0;34m.\u001b[0m\u001b[0m_engine\u001b[0m\u001b[0;34m.\u001b[0m\u001b[0mget_loc\u001b[0m\u001b[0;34m(\u001b[0m\u001b[0mkey\u001b[0m\u001b[0;34m)\u001b[0m\u001b[0;34m\u001b[0m\u001b[0;34m\u001b[0m\u001b[0m\n\u001b[1;32m   2898\u001b[0m             \u001b[0;32mexcept\u001b[0m \u001b[0mKeyError\u001b[0m\u001b[0;34m:\u001b[0m\u001b[0;34m\u001b[0m\u001b[0;34m\u001b[0m\u001b[0m\n\u001b[0;32m-> 2899\u001b[0;31m                 \u001b[0;32mreturn\u001b[0m \u001b[0mself\u001b[0m\u001b[0;34m.\u001b[0m\u001b[0m_engine\u001b[0m\u001b[0;34m.\u001b[0m\u001b[0mget_loc\u001b[0m\u001b[0;34m(\u001b[0m\u001b[0mself\u001b[0m\u001b[0;34m.\u001b[0m\u001b[0m_maybe_cast_indexer\u001b[0m\u001b[0;34m(\u001b[0m\u001b[0mkey\u001b[0m\u001b[0;34m)\u001b[0m\u001b[0;34m)\u001b[0m\u001b[0;34m\u001b[0m\u001b[0;34m\u001b[0m\u001b[0m\n\u001b[0m\u001b[1;32m   2900\u001b[0m         \u001b[0mindexer\u001b[0m \u001b[0;34m=\u001b[0m \u001b[0mself\u001b[0m\u001b[0;34m.\u001b[0m\u001b[0mget_indexer\u001b[0m\u001b[0;34m(\u001b[0m\u001b[0;34m[\u001b[0m\u001b[0mkey\u001b[0m\u001b[0;34m]\u001b[0m\u001b[0;34m,\u001b[0m \u001b[0mmethod\u001b[0m\u001b[0;34m=\u001b[0m\u001b[0mmethod\u001b[0m\u001b[0;34m,\u001b[0m \u001b[0mtolerance\u001b[0m\u001b[0;34m=\u001b[0m\u001b[0mtolerance\u001b[0m\u001b[0;34m)\u001b[0m\u001b[0;34m\u001b[0m\u001b[0;34m\u001b[0m\u001b[0m\n\u001b[1;32m   2901\u001b[0m         \u001b[0;32mif\u001b[0m \u001b[0mindexer\u001b[0m\u001b[0;34m.\u001b[0m\u001b[0mndim\u001b[0m \u001b[0;34m>\u001b[0m \u001b[0;36m1\u001b[0m \u001b[0;32mor\u001b[0m \u001b[0mindexer\u001b[0m\u001b[0;34m.\u001b[0m\u001b[0msize\u001b[0m \u001b[0;34m>\u001b[0m \u001b[0;36m1\u001b[0m\u001b[0;34m:\u001b[0m\u001b[0;34m\u001b[0m\u001b[0;34m\u001b[0m\u001b[0m\n",
      "\u001b[0;32mpandas/_libs/index.pyx\u001b[0m in \u001b[0;36mpandas._libs.index.IndexEngine.get_loc\u001b[0;34m()\u001b[0m\n",
      "\u001b[0;32mpandas/_libs/index.pyx\u001b[0m in \u001b[0;36mpandas._libs.index.IndexEngine.get_loc\u001b[0;34m()\u001b[0m\n",
      "\u001b[0;32mpandas/_libs/hashtable_class_helper.pxi\u001b[0m in \u001b[0;36mpandas._libs.hashtable.PyObjectHashTable.get_item\u001b[0;34m()\u001b[0m\n",
      "\u001b[0;32mpandas/_libs/hashtable_class_helper.pxi\u001b[0m in \u001b[0;36mpandas._libs.hashtable.PyObjectHashTable.get_item\u001b[0;34m()\u001b[0m\n",
      "\u001b[0;31mKeyError\u001b[0m: 0"
     ]
    }
   ],
   "source": [
    "predictions=[]\n",
    "k = 3\n",
    "for x in range(len(xTest1)):\n",
    "    neighbors = knn(xTrain1, xTest1[x], k)\n",
    "    result = getResponse(neighbors)\n",
    "    predictions.append(result)\n",
    "    print(metrics.accuracy_score(yTest1,predictions))"
   ]
  },
  {
   "cell_type": "markdown",
   "metadata": {},
   "source": [
    "### Problem 5 [K FOLD CROSS VALIDATION]"
   ]
  },
  {
   "cell_type": "code",
   "execution_count": 86,
   "metadata": {},
   "outputs": [],
   "source": [
    "from random import seed\n",
    "from random import randrange\n",
    " \n",
    "# Split a dataset into k folds\n",
    "def cross_validation_split(data_x, folds=5):\n",
    "\n",
    "    dataset_split = list()\n",
    "    dataset_copy = list(dataset)\n",
    "    fold_size = int(len(dataset) / folds)\n",
    "    for i in range(folds):\n",
    "        fold = list()\n",
    "        while len(fold) < fold_size:\n",
    "            index = randrange(len(dataset_copy))\n",
    "            fold.append(dataset_copy.pop(index))\n",
    "        dataset_split.append(fold)\n",
    "    return dataset_split"
   ]
  },
  {
   "cell_type": "code",
   "execution_count": 87,
   "metadata": {},
   "outputs": [],
   "source": [
    "i_data = xTrain.values.T.tolist()"
   ]
  },
  {
   "cell_type": "code",
   "execution_count": 91,
   "metadata": {},
   "outputs": [
    {
     "name": "stderr",
     "output_type": "stream",
     "text": [
      "IOPub data rate exceeded.\n",
      "The notebook server will temporarily stop sending output\n",
      "to the client in order to avoid crashing it.\n",
      "To change this limit, set the config variable\n",
      "`--NotebookApp.iopub_data_rate_limit`.\n",
      "\n",
      "Current values:\n",
      "NotebookApp.iopub_data_rate_limit=1000000.0 (bytes/sec)\n",
      "NotebookApp.rate_limit_window=3.0 (secs)\n",
      "\n"
     ]
    }
   ],
   "source": [
    "dataset = i_data\n",
    "folds = cross_validation_split(dataset, 4)\n",
    "print(folds)"
   ]
  },
  {
   "cell_type": "code",
   "execution_count": null,
   "metadata": {},
   "outputs": [],
   "source": []
  },
  {
   "cell_type": "code",
   "execution_count": null,
   "metadata": {},
   "outputs": [],
   "source": []
  }
 ],
 "metadata": {
  "kernelspec": {
   "display_name": "Python 3",
   "language": "python",
   "name": "python3"
  },
  "language_info": {
   "codemirror_mode": {
    "name": "ipython",
    "version": 3
   },
   "file_extension": ".py",
   "mimetype": "text/x-python",
   "name": "python",
   "nbconvert_exporter": "python",
   "pygments_lexer": "ipython3",
   "version": "3.7.3"
  }
 },
 "nbformat": 4,
 "nbformat_minor": 2
}
