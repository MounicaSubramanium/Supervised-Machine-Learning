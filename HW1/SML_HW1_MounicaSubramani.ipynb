{
 "cells": [
  {
   "cell_type": "code",
   "execution_count": 78,
   "metadata": {},
   "outputs": [],
   "source": [
    "import pandas as pd\n",
    "import statistics\n",
    "import numpy as np\n",
    "import matplotlib.pyplot as mp"
   ]
  },
  {
   "cell_type": "code",
   "execution_count": 84,
   "metadata": {},
   "outputs": [
    {
     "name": "stdout",
     "output_type": "stream",
     "text": [
      "      price  bedrooms  bathrooms  sqft_living  sqft_lot  floors  waterfront  \\\n",
      "0  221900.0         3       1.00         1180      5650     1.0           0   \n",
      "1  538000.0         3       2.25         2570      7242     2.0           0   \n",
      "2  180000.0         2       1.00          770     10000     1.0           0   \n",
      "3  604000.0         4       3.00         1960      5000     1.0           0   \n",
      "4  510000.0         3       2.00         1680      8080     1.0           0   \n",
      "\n",
      "   view  condition  grade  sqft_above  sqft_basement  yr_built  yr_renovated  \\\n",
      "0     0          3      7        1180              0      1955             0   \n",
      "1     0          3      7        2170            400      1951          1991   \n",
      "2     0          3      6         770              0      1933             0   \n",
      "3     0          5      7        1050            910      1965             0   \n",
      "4     0          3      8        1680              0      1987             0   \n",
      "\n",
      "       lat     long  sqft_living15  sqft_lot15  \n",
      "0  47.5112 -122.257           1340        5650  \n",
      "1  47.7210 -122.319           1690        7639  \n",
      "2  47.7379 -122.233           2720        8062  \n",
      "3  47.5208 -122.393           1360        5000  \n",
      "4  47.6168 -122.045           1800        7503  \n"
     ]
    }
   ],
   "source": [
    "KChouse = pd.read_csv(\"C:/Users/mouni/Downloads/kc_house_data.csv\")\n",
    "KChouse = KChouse.drop(columns = ['id','zipcode','date'])\n",
    "print(KChouse.head())"
   ]
  },
  {
   "cell_type": "markdown",
   "metadata": {},
   "source": [
    "#### 7a) For each feature, write code to compute the average value, the min and max values, as well as its variance. Which features have the lowest and highest variance?"
   ]
  },
  {
   "cell_type": "code",
   "execution_count": 85,
   "metadata": {},
   "outputs": [
    {
     "name": "stdout",
     "output_type": "stream",
     "text": [
      "Average Value of each feature\n"
     ]
    },
    {
     "data": {
      "text/plain": [
       "price            540182.158793\n",
       "bedrooms              3.370842\n",
       "bathrooms             2.114757\n",
       "sqft_living        2079.899736\n",
       "sqft_lot          15106.967566\n",
       "floors                1.494309\n",
       "waterfront            0.007542\n",
       "view                  0.234303\n",
       "condition             3.409430\n",
       "grade                 7.656873\n",
       "sqft_above         1788.390691\n",
       "sqft_basement       291.509045\n",
       "yr_built           1971.005136\n",
       "yr_renovated         84.402258\n",
       "lat                  47.560053\n",
       "long               -122.213896\n",
       "sqft_living15      1986.552492\n",
       "sqft_lot15        12768.455652\n",
       "dtype: float64"
      ]
     },
     "execution_count": 85,
     "metadata": {},
     "output_type": "execute_result"
    }
   ],
   "source": [
    "print(\"Average Value of each feature\")\n",
    "KChouse.mean()"
   ]
  },
  {
   "cell_type": "code",
   "execution_count": 86,
   "metadata": {},
   "outputs": [
    {
     "name": "stdout",
     "output_type": "stream",
     "text": [
      "Minimum Value of each feature\n"
     ]
    },
    {
     "data": {
      "text/plain": [
       "price            75000.0000\n",
       "bedrooms             0.0000\n",
       "bathrooms            0.0000\n",
       "sqft_living        290.0000\n",
       "sqft_lot           520.0000\n",
       "floors               1.0000\n",
       "waterfront           0.0000\n",
       "view                 0.0000\n",
       "condition            1.0000\n",
       "grade                1.0000\n",
       "sqft_above         290.0000\n",
       "sqft_basement        0.0000\n",
       "yr_built          1900.0000\n",
       "yr_renovated         0.0000\n",
       "lat                 47.1559\n",
       "long              -122.5190\n",
       "sqft_living15      399.0000\n",
       "sqft_lot15         651.0000\n",
       "dtype: float64"
      ]
     },
     "execution_count": 86,
     "metadata": {},
     "output_type": "execute_result"
    }
   ],
   "source": [
    "print(\"Minimum Value of each feature\")\n",
    "KChouse.min()"
   ]
  },
  {
   "cell_type": "code",
   "execution_count": 87,
   "metadata": {},
   "outputs": [
    {
     "name": "stdout",
     "output_type": "stream",
     "text": [
      "Maximum Value of each feature\n"
     ]
    },
    {
     "data": {
      "text/plain": [
       "price            7.700000e+06\n",
       "bedrooms         3.300000e+01\n",
       "bathrooms        8.000000e+00\n",
       "sqft_living      1.354000e+04\n",
       "sqft_lot         1.651359e+06\n",
       "floors           3.500000e+00\n",
       "waterfront       1.000000e+00\n",
       "view             4.000000e+00\n",
       "condition        5.000000e+00\n",
       "grade            1.300000e+01\n",
       "sqft_above       9.410000e+03\n",
       "sqft_basement    4.820000e+03\n",
       "yr_built         2.015000e+03\n",
       "yr_renovated     2.015000e+03\n",
       "lat              4.777760e+01\n",
       "long            -1.213150e+02\n",
       "sqft_living15    6.210000e+03\n",
       "sqft_lot15       8.712000e+05\n",
       "dtype: float64"
      ]
     },
     "execution_count": 87,
     "metadata": {},
     "output_type": "execute_result"
    }
   ],
   "source": [
    "print(\"Maximum Value of each feature\")\n",
    "KChouse.max()"
   ]
  },
  {
   "cell_type": "code",
   "execution_count": 88,
   "metadata": {},
   "outputs": [
    {
     "name": "stdout",
     "output_type": "stream",
     "text": [
      "Variance of each feature\n"
     ]
    },
    {
     "data": {
      "text/plain": [
       "price            1.349550e+11\n",
       "bedrooms         8.650150e-01\n",
       "bathrooms        5.931513e-01\n",
       "sqft_living      8.435337e+05\n",
       "sqft_lot         1.715659e+09\n",
       "floors           2.915880e-01\n",
       "waterfront       7.485226e-03\n",
       "view             5.872426e-01\n",
       "condition        4.234665e-01\n",
       "grade            1.381703e+00\n",
       "sqft_above       6.857347e+05\n",
       "sqft_basement    1.958727e+05\n",
       "yr_built         8.627973e+02\n",
       "yr_renovated     1.613462e+05\n",
       "lat              1.919990e-02\n",
       "long             1.983262e-02\n",
       "sqft_living15    4.697612e+05\n",
       "sqft_lot15       7.455182e+08\n",
       "dtype: float64"
      ]
     },
     "execution_count": 88,
     "metadata": {},
     "output_type": "execute_result"
    }
   ],
   "source": [
    "print(\"Variance of each feature\")\n",
    "var = KChouse.var()\n",
    "var"
   ]
  },
  {
   "cell_type": "code",
   "execution_count": 89,
   "metadata": {},
   "outputs": [
    {
     "name": "stdout",
     "output_type": "stream",
     "text": [
      "Feature with highest variance\n"
     ]
    },
    {
     "data": {
      "text/plain": [
       "'price'"
      ]
     },
     "execution_count": 89,
     "metadata": {},
     "output_type": "execute_result"
    }
   ],
   "source": [
    "print(\"Feature with highest variance\")\n",
    "var.idxmax(axis =1)"
   ]
  },
  {
   "cell_type": "code",
   "execution_count": 90,
   "metadata": {},
   "outputs": [
    {
     "name": "stdout",
     "output_type": "stream",
     "text": [
      "Feature with lowest variance\n"
     ]
    },
    {
     "data": {
      "text/plain": [
       "'waterfront'"
      ]
     },
     "execution_count": 90,
     "metadata": {},
     "output_type": "execute_result"
    }
   ],
   "source": [
    "print(\"Feature with lowest variance\")\n",
    "var.idxmin(axis =1)"
   ]
  },
  {
   "cell_type": "markdown",
   "metadata": {},
   "source": [
    "#### 7b) Compute the correlation coefficient of each feature with the response. Which feature are positively correlated (i.e., have positive correlation coefficient) and which ones are negatively correlated with the response? Which feature has highest correlation with the response (either positive or negative)?\n"
   ]
  },
  {
   "cell_type": "code",
   "execution_count": 92,
   "metadata": {},
   "outputs": [
    {
     "name": "stdout",
     "output_type": "stream",
     "text": [
      "Correlation matrix for the KC housing dataset\n",
      "                price  bedrooms  bathrooms  sqft_living  sqft_lot    floors  \\\n",
      "price        1.000000  0.308338   0.525134     0.702044  0.089655  0.256786   \n",
      "bedrooms     0.308338  1.000000   0.515884     0.576671  0.031703  0.175429   \n",
      "bathrooms    0.525134  0.515884   1.000000     0.754665  0.087740  0.500653   \n",
      "sqft_living  0.702044  0.576671   0.754665     1.000000  0.172826  0.353949   \n",
      "sqft_lot     0.089655  0.031703   0.087740     0.172826  1.000000 -0.005201   \n",
      "\n",
      "             waterfront      view  condition     grade  sqft_above  \\\n",
      "price          0.266331  0.397346   0.036392  0.667463    0.605566   \n",
      "bedrooms      -0.006582  0.079532   0.028472  0.356967    0.477600   \n",
      "bathrooms      0.063744  0.187737  -0.124982  0.664983    0.685342   \n",
      "sqft_living    0.103818  0.284611  -0.058753  0.762704    0.876597   \n",
      "sqft_lot       0.021604  0.074710  -0.008958  0.113621    0.183512   \n",
      "\n",
      "             sqft_basement  yr_built  yr_renovated       lat      long  \\\n",
      "price             0.323837  0.053982      0.126442  0.306919  0.021571   \n",
      "bedrooms          0.303093  0.154178      0.018841 -0.008931  0.129473   \n",
      "bathrooms         0.283770  0.506019      0.050739  0.024573  0.223042   \n",
      "sqft_living       0.435043  0.318049      0.055363  0.052529  0.240223   \n",
      "sqft_lot          0.015286  0.053080      0.007644 -0.085683  0.229521   \n",
      "\n",
      "             sqft_living15  sqft_lot15  \n",
      "price             0.585374    0.082456  \n",
      "bedrooms          0.391638    0.029244  \n",
      "bathrooms         0.568634    0.087175  \n",
      "sqft_living       0.756420    0.183286  \n",
      "sqft_lot          0.144608    0.718557  \n"
     ]
    }
   ],
   "source": [
    "print(\"Correlation matrix for the KC housing dataset\")\n",
    "cor_mat = KChouse.corr()\n",
    "print(cor_mat.head())"
   ]
  },
  {
   "cell_type": "code",
   "execution_count": 96,
   "metadata": {},
   "outputs": [
    {
     "name": "stdout",
     "output_type": "stream",
     "text": [
      "drop price as it has to be predicted\n",
      "\n",
      "       bedrooms  bathrooms  sqft_living  sqft_lot    floors  waterfront  \\\n",
      "price  0.308338   0.525134     0.702044  0.089655  0.256786    0.266331   \n",
      "\n",
      "           view  condition     grade  sqft_above  sqft_basement  yr_built  \\\n",
      "price  0.397346   0.036392  0.667463    0.605566       0.323837  0.053982   \n",
      "\n",
      "       yr_renovated       lat      long  sqft_living15  sqft_lot15  \n",
      "price      0.126442  0.306919  0.021571       0.585374    0.082456  \n"
     ]
    }
   ],
   "source": [
    "\n",
    "corr_with_price = cor_mat[:1]\n",
    "\n",
    "print(\"drop price as it has to be predicted\\n\")\n",
    "KC_price_dropped = corr_with_price.drop(columns = 'price')\n",
    "\n",
    "print(KC_price_dropped)"
   ]
  },
  {
   "cell_type": "markdown",
   "metadata": {},
   "source": [
    "Every feature in the data set is positively correlated and there is no negative correlation."
   ]
  },
  {
   "cell_type": "code",
   "execution_count": 97,
   "metadata": {},
   "outputs": [
    {
     "name": "stdout",
     "output_type": "stream",
     "text": [
      "Feature that has highest correlation with the response\n"
     ]
    },
    {
     "data": {
      "text/plain": [
       "price    sqft_living\n",
       "dtype: object"
      ]
     },
     "execution_count": 97,
     "metadata": {},
     "output_type": "execute_result"
    }
   ],
   "source": [
    "print(\"Feature that has highest correlation with the response\")\n",
    "KC_price_dropped.idxmax(axis = 1, skipna = True)"
   ]
  },
  {
   "cell_type": "markdown",
   "metadata": {},
   "source": [
    "#### 7c) Let X be a random variable with normal distribution N(0, 2). Sample at random 50 points from the same normal distribution. Define Y = 3 + 2X + error, where error is normal noise drawn from N(0, σ). Plot Y as a function of X for several values of σ ∈ {0, 1, 4} and compute the correlation coefficient for each case."
   ]
  },
  {
   "cell_type": "code",
   "execution_count": 60,
   "metadata": {},
   "outputs": [],
   "source": [
    "x = np.random.normal(0,2,50)\n",
    "noise1 = np.random.normal(0,0,50)\n",
    "noise2 = np.random.normal(0,1,50)\n",
    "noise3 = np.random.normal(0,4,50)"
   ]
  },
  {
   "cell_type": "code",
   "execution_count": 58,
   "metadata": {},
   "outputs": [
    {
     "data": {
      "text/plain": [
       "array([-3.11750605,  1.57799316, -0.75875675,  1.01889526,  0.315232  ,\n",
       "       -2.20606866,  1.71517155, -0.98826098, -0.7299293 , -0.8524771 ,\n",
       "       -1.10693562, -0.15371256, -0.06583069,  1.8901162 ,  0.53431469,\n",
       "        3.78891958, -1.55956892,  3.98209523,  2.19238732,  2.07425095,\n",
       "        1.04666605, -1.77791311,  1.16934276, -2.41750786,  0.17325692,\n",
       "       -2.54949285,  1.83500079,  1.8584326 , -1.03183115, -0.04868496,\n",
       "       -2.98507745, -1.14446211, -0.29210313, -0.73728669, -0.47872947,\n",
       "        3.34917929, -0.3304718 , -0.55897856, -4.9794456 , -0.31600176,\n",
       "        1.11453659,  0.00631809, -2.16213946, -0.13416733, -1.31088693,\n",
       "        0.7420693 , -1.4762786 ,  1.98950409, -1.22014924,  0.16765788])"
      ]
     },
     "execution_count": 58,
     "metadata": {},
     "output_type": "execute_result"
    }
   ],
   "source": [
    "x"
   ]
  },
  {
   "cell_type": "code",
   "execution_count": 62,
   "metadata": {},
   "outputs": [],
   "source": [
    "y1 = 3 + 2*x + noise1\n",
    "y2 = 3 + 2*x + noise2\n",
    "y3 = 3 + 2*x + noise3"
   ]
  },
  {
   "cell_type": "code",
   "execution_count": 80,
   "metadata": {},
   "outputs": [
    {
     "data": {
      "text/plain": [
       "<matplotlib.collections.PathCollection at 0x2255b312d30>"
      ]
     },
     "execution_count": 80,
     "metadata": {},
     "output_type": "execute_result"
    },
    {
     "data": {
      "image/png": "[encoded data removed]",
      "text/plain": [
       "<Figure size 432x288 with 1 Axes>"
      ]
     },
     "metadata": {
      "needs_background": "light"
     },
     "output_type": "display_data"
    }
   ],
   "source": [
    "xy1_df = {'X':x, 'Y':y1}\n",
    "to_df1 = pd.DataFrame(xy1_df)\n",
    "to_df1.corr()\n",
    "mp.scatter(x,y1)"
   ]
  },
  {
   "cell_type": "code",
   "execution_count": 81,
   "metadata": {},
   "outputs": [
    {
     "data": {
      "text/plain": [
       "<matplotlib.collections.PathCollection at 0x2255b4f4518>"
      ]
     },
     "execution_count": 81,
     "metadata": {},
     "output_type": "execute_result"
    },
    {
     "data": {
      "image/png": "[encoded data removed]",
      "text/plain": [
       "<Figure size 432x288 with 1 Axes>"
      ]
     },
     "metadata": {
      "needs_background": "light"
     },
     "output_type": "display_data"
    }
   ],
   "source": [
    "xy2_df = {'X':x, 'Y':y1}\n",
    "to_df2 = pd.DataFrame(xy2_df)\n",
    "\n",
    "to_df2.corr()\n",
    "mp.scatter(x,y2)"
   ]
  },
  {
   "cell_type": "code",
   "execution_count": 82,
   "metadata": {},
   "outputs": [
    {
     "data": {
      "text/plain": [
       "<matplotlib.collections.PathCollection at 0x2255b59b198>"
      ]
     },
     "execution_count": 82,
     "metadata": {},
     "output_type": "execute_result"
    },
    {
     "data": {
      "image/png": "[encoded data removed]",
      "text/plain": [
       "<Figure size 432x288 with 1 Axes>"
      ]
     },
     "metadata": {
      "needs_background": "light"
     },
     "output_type": "display_data"
    }
   ],
   "source": [
    "xy3_df = {'X':x, 'Y':y3}\n",
    "to_df3 = pd.DataFrame(xy3_df)\n",
    "to_df3.corr()\n",
    "mp.scatter(x,y3)\n"
   ]
  }
 ],
 "metadata": {
  "kernelspec": {
   "display_name": "Python 3",
   "language": "python",
   "name": "python3"
  },
  "language_info": {
   "codemirror_mode": {
    "name": "ipython",
    "version": 3
   },
   "file_extension": ".py",
   "mimetype": "text/x-python",
   "name": "python",
   "nbconvert_exporter": "python",
   "pygments_lexer": "ipython3",
   "version": "3.7.3"
  }
 },
 "nbformat": 4,
 "nbformat_minor": 2
}
