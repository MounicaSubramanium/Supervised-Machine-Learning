{
 "cells": [
  {
   "cell_type": "code",
   "execution_count": 74,
   "metadata": {},
   "outputs": [],
   "source": [
    "import pandas as pd\n",
    "import matplotlib.pyplot as plt\n",
    "import numpy as np\n",
    "\n",
    "import seaborn as sns\n",
    "\n",
    "# from sklearn import linear_model\n",
    "from sklearn.metrics import mean_squared_error\n",
    "from sklearn import preprocessing\n",
    "\n",
    "from sklearn.model_selection import train_test_split, cross_val_score\n",
    "from sklearn.linear_model import LinearRegression\n",
    "from sklearn.preprocessing import StandardScaler"
   ]
  },
  {
   "cell_type": "code",
   "execution_count": 58,
   "metadata": {},
   "outputs": [],
   "source": [
    "# read in data\n",
    "house_data = pd.read_csv('kc_house_data.csv')\n",
    "KChouse_train = pd.read_csv('train.csv')\n",
    "KChouse_test = pd.read_csv('test.csv')\n",
    "\n",
    "# ignore the columns id and date, as well as the categorical column zipcode.\n",
    "house_data = house_data.drop(columns = ['id','zipcode','date'])\n",
    "KChouse_train = KChouse_test.drop(columns = ['id','zipcode','date'])\n",
    "KChouse_test = KChouse_test.drop(columns = ['id','zipcode','date'])"
   ]
  },
  {
   "cell_type": "code",
   "execution_count": 59,
   "metadata": {},
   "outputs": [
    {
     "data": {
      "text/html": [
       "<div>\n",
       "<style scoped>\n",
       "    .dataframe tbody tr th:only-of-type {\n",
       "        vertical-align: middle;\n",
       "    }\n",
       "\n",
       "    .dataframe tbody tr th {\n",
       "        vertical-align: top;\n",
       "    }\n",
       "\n",
       "    .dataframe thead th {\n",
       "        text-align: right;\n",
       "    }\n",
       "</style>\n",
       "<table border=\"1\" class=\"dataframe\">\n",
       "  <thead>\n",
       "    <tr style=\"text-align: right;\">\n",
       "      <th></th>\n",
       "      <th>Unnamed: 0</th>\n",
       "      <th>price</th>\n",
       "      <th>bedrooms</th>\n",
       "      <th>bathrooms</th>\n",
       "      <th>sqft_living</th>\n",
       "      <th>sqft_lot</th>\n",
       "      <th>floors</th>\n",
       "      <th>waterfront</th>\n",
       "      <th>view</th>\n",
       "      <th>condition</th>\n",
       "      <th>grade</th>\n",
       "      <th>sqft_above</th>\n",
       "      <th>sqft_basement</th>\n",
       "      <th>yr_built</th>\n",
       "      <th>yr_renovated</th>\n",
       "      <th>lat</th>\n",
       "      <th>long</th>\n",
       "      <th>sqft_living15</th>\n",
       "      <th>sqft_lot15</th>\n",
       "    </tr>\n",
       "  </thead>\n",
       "  <tbody>\n",
       "    <tr>\n",
       "      <th>0</th>\n",
       "      <td>1001</td>\n",
       "      <td>700000.0</td>\n",
       "      <td>4</td>\n",
       "      <td>2.00</td>\n",
       "      <td>1830</td>\n",
       "      <td>4590</td>\n",
       "      <td>2.0</td>\n",
       "      <td>0</td>\n",
       "      <td>0</td>\n",
       "      <td>3</td>\n",
       "      <td>8</td>\n",
       "      <td>1830</td>\n",
       "      <td>0</td>\n",
       "      <td>1908</td>\n",
       "      <td>0</td>\n",
       "      <td>47.6593</td>\n",
       "      <td>-122.327</td>\n",
       "      <td>1650</td>\n",
       "      <td>4590</td>\n",
       "    </tr>\n",
       "    <tr>\n",
       "      <th>1</th>\n",
       "      <td>1002</td>\n",
       "      <td>270000.0</td>\n",
       "      <td>3</td>\n",
       "      <td>2.00</td>\n",
       "      <td>1560</td>\n",
       "      <td>8853</td>\n",
       "      <td>1.0</td>\n",
       "      <td>0</td>\n",
       "      <td>0</td>\n",
       "      <td>3</td>\n",
       "      <td>7</td>\n",
       "      <td>1560</td>\n",
       "      <td>0</td>\n",
       "      <td>1967</td>\n",
       "      <td>0</td>\n",
       "      <td>47.4312</td>\n",
       "      <td>-122.171</td>\n",
       "      <td>1610</td>\n",
       "      <td>8750</td>\n",
       "    </tr>\n",
       "    <tr>\n",
       "      <th>2</th>\n",
       "      <td>1003</td>\n",
       "      <td>258000.0</td>\n",
       "      <td>4</td>\n",
       "      <td>1.75</td>\n",
       "      <td>1730</td>\n",
       "      <td>8320</td>\n",
       "      <td>1.0</td>\n",
       "      <td>0</td>\n",
       "      <td>0</td>\n",
       "      <td>3</td>\n",
       "      <td>7</td>\n",
       "      <td>1230</td>\n",
       "      <td>500</td>\n",
       "      <td>1977</td>\n",
       "      <td>0</td>\n",
       "      <td>47.3270</td>\n",
       "      <td>-122.361</td>\n",
       "      <td>1840</td>\n",
       "      <td>9800</td>\n",
       "    </tr>\n",
       "    <tr>\n",
       "      <th>3</th>\n",
       "      <td>1004</td>\n",
       "      <td>530000.0</td>\n",
       "      <td>3</td>\n",
       "      <td>2.50</td>\n",
       "      <td>1930</td>\n",
       "      <td>7214</td>\n",
       "      <td>2.0</td>\n",
       "      <td>0</td>\n",
       "      <td>0</td>\n",
       "      <td>3</td>\n",
       "      <td>8</td>\n",
       "      <td>1930</td>\n",
       "      <td>0</td>\n",
       "      <td>2005</td>\n",
       "      <td>0</td>\n",
       "      <td>47.7191</td>\n",
       "      <td>-122.309</td>\n",
       "      <td>1930</td>\n",
       "      <td>7266</td>\n",
       "    </tr>\n",
       "    <tr>\n",
       "      <th>4</th>\n",
       "      <td>1005</td>\n",
       "      <td>245000.0</td>\n",
       "      <td>3</td>\n",
       "      <td>2.25</td>\n",
       "      <td>1422</td>\n",
       "      <td>3677</td>\n",
       "      <td>2.0</td>\n",
       "      <td>0</td>\n",
       "      <td>0</td>\n",
       "      <td>3</td>\n",
       "      <td>7</td>\n",
       "      <td>1422</td>\n",
       "      <td>0</td>\n",
       "      <td>2012</td>\n",
       "      <td>0</td>\n",
       "      <td>47.3204</td>\n",
       "      <td>-122.178</td>\n",
       "      <td>1677</td>\n",
       "      <td>3677</td>\n",
       "    </tr>\n",
       "  </tbody>\n",
       "</table>\n",
       "</div>"
      ],
      "text/plain": [
       "   Unnamed: 0     price  bedrooms  bathrooms  sqft_living  sqft_lot  floors  \\\n",
       "0        1001  700000.0         4       2.00         1830      4590     2.0   \n",
       "1        1002  270000.0         3       2.00         1560      8853     1.0   \n",
       "2        1003  258000.0         4       1.75         1730      8320     1.0   \n",
       "3        1004  530000.0         3       2.50         1930      7214     2.0   \n",
       "4        1005  245000.0         3       2.25         1422      3677     2.0   \n",
       "\n",
       "   waterfront  view  condition  grade  sqft_above  sqft_basement  yr_built  \\\n",
       "0           0     0          3      8        1830              0      1908   \n",
       "1           0     0          3      7        1560              0      1967   \n",
       "2           0     0          3      7        1230            500      1977   \n",
       "3           0     0          3      8        1930              0      2005   \n",
       "4           0     0          3      7        1422              0      2012   \n",
       "\n",
       "   yr_renovated      lat     long  sqft_living15  sqft_lot15  \n",
       "0             0  47.6593 -122.327           1650        4590  \n",
       "1             0  47.4312 -122.171           1610        8750  \n",
       "2             0  47.3270 -122.361           1840        9800  \n",
       "3             0  47.7191 -122.309           1930        7266  \n",
       "4             0  47.3204 -122.178           1677        3677  "
      ]
     },
     "execution_count": 59,
     "metadata": {},
     "output_type": "execute_result"
    }
   ],
   "source": [
    "\n",
    "KChouse_train.head()\n",
    "# KChouse_train.min()"
   ]
  },
  {
   "cell_type": "code",
   "execution_count": 69,
   "metadata": {},
   "outputs": [
    {
     "data": {
      "text/plain": [
       "price            1.000000\n",
       "sqft_living      0.688479\n",
       "grade            0.622621\n",
       "sqft_above       0.585753\n",
       "sqft_living15    0.573482\n",
       "bathrooms        0.537267\n",
       "view             0.445281\n",
       "waterfront       0.330124\n",
       "sqft_basement    0.317471\n",
       "bedrooms         0.307211\n",
       "floors           0.299174\n",
       "lat              0.246722\n",
       "yr_renovated     0.082468\n",
       "sqft_lot15       0.070740\n",
       "yr_built         0.057185\n",
       "sqft_lot         0.045240\n",
       "condition        0.041576\n",
       "long             0.024070\n",
       "Unnamed: 0      -0.007521\n",
       "Name: price, dtype: float64"
      ]
     },
     "execution_count": 69,
     "metadata": {},
     "output_type": "execute_result"
    }
   ],
   "source": [
    "KChouse_train.corr()['price'].sort_values(ascending=False)"
   ]
  },
  {
   "cell_type": "code",
   "execution_count": 75,
   "metadata": {},
   "outputs": [],
   "source": [
    "# correlation = KChouse_train.corr()\n",
    "# plt.figure(figsize=(14, 12))\n",
    "# heatmap = sns.heatmap(correlation, annot=True, linewidths=0, vmin=-1, cmap=\"RdBu_r\")"
   ]
  },
  {
   "cell_type": "code",
   "execution_count": 77,
   "metadata": {},
   "outputs": [
    {
     "name": "stdout",
     "output_type": "stream",
     "text": [
      "Cross-validation scores: [0.5733085  0.73067805 0.41798039 0.69413526 0.58123951 0.64348884\n",
      " 0.58483475 0.67613262 0.69336563 0.5747077 ]\n",
      "Average cross-validation score: 0.62\n"
     ]
    }
   ],
   "source": [
    "X_train = KChouse_train.drop(['price'], axis=1)\n",
    "y_train = KChouse_train[['price']]\n",
    "\n",
    "model = LinearRegression()\n",
    "\n",
    "scores = cross_val_score(model, X_train, y_train, cv=10)\n",
    "print(\"Cross-validation scores: {}\".format(scores))\n",
    "print(\"Average cross-validation score: {:.2f}\".format(scores.mean()))"
   ]
  },
  {
   "cell_type": "code",
   "execution_count": 81,
   "metadata": {},
   "outputs": [
    {
     "data": {
      "text/plain": [
       "array([[-1.73031962,  0.38774154,  0.61971096, ..., -0.83161535,\n",
       "        -0.49282611, -0.32497811],\n",
       "       [-1.72685552, -0.66534862, -0.45245333, ...,  0.32371455,\n",
       "        -0.55042162, -0.17705032],\n",
       "       [-1.72339142, -0.69473718,  0.61971096, ..., -1.08341802,\n",
       "        -0.21924741, -0.13971278],\n",
       "       ...,\n",
       "       [ 1.72339142, -0.88576284, -0.45245333, ..., -0.00955369,\n",
       "        -1.34235996, -0.12001278],\n",
       "       [ 1.72685552, -0.18778448,  0.61971096, ...,  1.31611331,\n",
       "        -0.26244405, -0.04256405],\n",
       "       [ 1.73031962,  0.4428451 ,  0.61971096, ...,  0.46442781,\n",
       "         1.06225281, -0.13615682]])"
      ]
     },
     "execution_count": 81,
     "metadata": {},
     "output_type": "execute_result"
    }
   ],
   "source": [
    "data_scaled"
   ]
  },
  {
   "cell_type": "code",
   "execution_count": 78,
   "metadata": {},
   "outputs": [],
   "source": [
    "scaler = StandardScaler() \n",
    "data_scaled = scaler.fit_transform(KChouse_train)"
   ]
  },
  {
   "cell_type": "code",
   "execution_count": 79,
   "metadata": {},
   "outputs": [
    {
     "name": "stdout",
     "output_type": "stream",
     "text": [
      "[ 0.00000000e+00 -5.86197757e-17  5.32907052e-17  1.55431223e-16\n",
      " -1.19015908e-16 -1.77635684e-17 -3.73034936e-17 -2.84217094e-17\n",
      " -8.79296636e-17  1.77635684e-16 -4.17443857e-16 -1.06581410e-16\n",
      " -1.26121336e-16  1.56319402e-16  1.77635684e-17  2.24460450e-14\n",
      " -2.21964669e-14  1.35003120e-16  7.10542736e-18]\n",
      "[1. 1. 1. 1. 1. 1. 1. 1. 1. 1. 1. 1. 1. 1. 1. 1. 1. 1. 1.]\n"
     ]
    }
   ],
   "source": [
    "print(data_scaled.mean(axis=0))\n",
    "print(data_scaled.std(axis=0))"
   ]
  },
  {
   "cell_type": "code",
   "execution_count": 80,
   "metadata": {},
   "outputs": [
    {
     "ename": "AttributeError",
     "evalue": "'numpy.ndarray' object has no attribute 'drop'",
     "output_type": "error",
     "traceback": [
      "\u001b[1;31m---------------------------------------------------------------------------\u001b[0m",
      "\u001b[1;31mAttributeError\u001b[0m                            Traceback (most recent call last)",
      "\u001b[1;32m<ipython-input-80-435b2730dd81>\u001b[0m in \u001b[0;36m<module>\u001b[1;34m\u001b[0m\n\u001b[1;32m----> 1\u001b[1;33m \u001b[0mX_train_scaled\u001b[0m \u001b[1;33m=\u001b[0m \u001b[0mdata_scaled\u001b[0m\u001b[1;33m.\u001b[0m\u001b[0mdrop\u001b[0m\u001b[1;33m(\u001b[0m\u001b[1;33m[\u001b[0m\u001b[1;34m'price'\u001b[0m\u001b[1;33m]\u001b[0m\u001b[1;33m,\u001b[0m \u001b[0maxis\u001b[0m\u001b[1;33m=\u001b[0m\u001b[1;36m1\u001b[0m\u001b[1;33m)\u001b[0m\u001b[1;33m\u001b[0m\u001b[1;33m\u001b[0m\u001b[0m\n\u001b[0m\u001b[0;32m      2\u001b[0m \u001b[0my_train_scaled\u001b[0m \u001b[1;33m=\u001b[0m \u001b[0mdata_scaled\u001b[0m\u001b[1;33m[\u001b[0m\u001b[1;33m[\u001b[0m\u001b[1;34m'price'\u001b[0m\u001b[1;33m]\u001b[0m\u001b[1;33m]\u001b[0m\u001b[1;33m\u001b[0m\u001b[1;33m\u001b[0m\u001b[0m\n\u001b[0;32m      3\u001b[0m \u001b[1;33m\u001b[0m\u001b[0m\n\u001b[0;32m      4\u001b[0m \u001b[0mmodel\u001b[0m \u001b[1;33m=\u001b[0m \u001b[0mLinearRegression\u001b[0m\u001b[1;33m(\u001b[0m\u001b[1;33m)\u001b[0m\u001b[1;33m\u001b[0m\u001b[1;33m\u001b[0m\u001b[0m\n\u001b[0;32m      5\u001b[0m \u001b[1;33m\u001b[0m\u001b[0m\n",
      "\u001b[1;31mAttributeError\u001b[0m: 'numpy.ndarray' object has no attribute 'drop'"
     ]
    }
   ],
   "source": [
    "X_train_scaled = data_scaled.drop(['price'], axis=1)\n",
    "y_train_scaled = data_scaled[['price']]\n",
    "\n",
    "model = LinearRegression()\n",
    "\n",
    "scores = cross_val_score(model, X_train_scaled, y_train_scaled, cv=10)\n",
    "print(\"Cross-validation scores: {}\".format(scores))\n",
    "print(\"Average cross-validation score: {:.2f}\".format(scores.mean()))"
   ]
  },
  {
   "cell_type": "code",
   "execution_count": null,
   "metadata": {},
   "outputs": [],
   "source": []
  },
  {
   "cell_type": "code",
   "execution_count": null,
   "metadata": {},
   "outputs": [],
   "source": []
  },
  {
   "cell_type": "markdown",
   "metadata": {},
   "source": [
    "From previous Assignment, we know that sqft_living has highest correlation with response variable (price)"
   ]
  },
  {
   "cell_type": "code",
   "execution_count": null,
   "metadata": {},
   "outputs": [],
   "source": []
  },
  {
   "cell_type": "code",
   "execution_count": 60,
   "metadata": {},
   "outputs": [
    {
     "data": {
      "text/plain": [
       "LinearRegression(copy_X=True, fit_intercept=True, n_jobs=None, normalize=False)"
      ]
     },
     "execution_count": 60,
     "metadata": {},
     "output_type": "execute_result"
    }
   ],
   "source": [
    "lr = linear_model.LinearRegression()\n",
    "\n",
    "X_train = np.array(KChouse_train['sqft_living'], dtype=pd.Series).reshape(-1,1)\n",
    "y_train = np.array(KChouse_train['price'], dtype=pd.Series)\n",
    "\n",
    "lr.fit(X_train,y_train)\n"
   ]
  },
  {
   "cell_type": "code",
   "execution_count": 61,
   "metadata": {},
   "outputs": [],
   "source": [
    "\n",
    "X_test = np.array(KChouse_test['sqft_living'], dtype=pd.Series).reshape(-1,1)\n",
    "y_test = np.array(KChouse_test['price'], dtype=pd.Series)\n",
    "\n",
    "pred = lr.predict(X_test)\n",
    "\n"
   ]
  },
  {
   "cell_type": "code",
   "execution_count": 62,
   "metadata": {},
   "outputs": [
    {
     "name": "stdout",
     "output_type": "stream",
     "text": [
      "Average Price for Test Data: 541676.554\n",
      "Intercept: -86805.46777441876\n",
      "Coefficient: [299.63086032]\n",
      "Root mean square error: 296138.022\n",
      "Root mean square error: 0.474\n",
      "Root mean square error: 0.474\n"
     ]
    }
   ],
   "source": [
    "rmsesm = float(format(np.sqrt(mean_squared_error(y_test,pred)),'.3f'))\n",
    "\n",
    "rtrsm = float(format(lr.score(X_train, y_train),'.3f'))\n",
    "\n",
    "rtesm = float(format(lr.score(X_test, y_test),'.3f'))\n",
    "\n",
    "# cv = float(format(cross_val_score(lr,df[['sqft_living']],df['price'],cv=5).mean(),'.3f'))\n",
    "\n",
    "print (\"Average Price for Test Data: {:.3f}\".format(y_test.mean()))\n",
    "print('Intercept: {}'.format(lr.intercept_))\n",
    "print('Coefficient: {}'.format(lr.coef_))\n",
    "\n",
    "print('Root mean square error:', rmsesm)\n",
    "\n",
    "print('Root mean square error:', rtrsm)\n",
    "\n",
    "print('Root mean square error:', rtesm)\n",
    "\n",
    "# r = evaluation.shape[0]\n",
    "# evaluation.loc[r] = ['Simple Linear Regression','-',rmsesm,rtrsm,'-',rtesm,'-',cv]\n",
    "# evaluation"
   ]
  },
  {
   "cell_type": "code",
   "execution_count": 63,
   "metadata": {},
   "outputs": [],
   "source": [
    "# min max normalize features\n",
    "min_max_scaler = preprocessing.MinMaxScaler()"
   ]
  },
  {
   "cell_type": "code",
   "execution_count": 66,
   "metadata": {},
   "outputs": [],
   "source": [
    "KChouse_train = KChouse_train.reset_index(drop=True)"
   ]
  },
  {
   "cell_type": "code",
   "execution_count": 67,
   "metadata": {},
   "outputs": [],
   "source": [
    "KChouse_train['price'] = min_max_scaler.fit_transform(pd.DataFrame(KChouse_train['price']))\n",
    "KChouse_train['bedrooms'] = min_max_scaler.fit_transform(pd.DataFrame(KChouse_train['bedrooms']))\n",
    "KChouse_train['bathrooms'] = min_max_scaler.fit_transform(pd.DataFrame(KChouse_train['bathrooms']))\n",
    "KChouse_train['sqft_living'] = min_max_scaler.fit_transform(pd.DataFrame(KChouse_train['sqft_living']))\n",
    "KChouse_train['sqft_lot'] = min_max_scaler.fit_transform(pd.DataFrame(KChouse_train['sqft_lot']))\n",
    "KChouse_train['floors'] = min_max_scaler.fit_transform(pd.DataFrame(KChouse_train['floors']))\n",
    "KChouse_train['waterfront'] = min_max_scaler.fit_transform(pd.DataFrame(KChouse_train['waterfront']))\n",
    "KChouse_train['view'] = min_max_scaler.fit_transform(pd.DataFrame(KChouse_train['view']))\n",
    "KChouse_train['condition'] = min_max_scaler.fit_transform(pd.DataFrame(KChouse_train['condition']))\n",
    "KChouse_train['grade'] = min_max_scaler.fit_transform(pd.DataFrame(KChouse_train['grade']))\n",
    "KChouse_train['sqft_above'] = min_max_scaler.fit_transform(pd.DataFrame(KChouse_train['sqft_above']))\n",
    "KChouse_train['sqft_basement'] = min_max_scaler.fit_transform(pd.DataFrame(KChouse_train['sqft_basement']))\n",
    "KChouse_train['yr_built'] = min_max_scaler.fit_transform(pd.DataFrame(KChouse_train['yr_built']))\n",
    "KChouse_train['yr_renovated'] = min_max_scaler.fit_transform(pd.DataFrame(KChouse_train['yr_renovated']))\n",
    "\n",
    "KChouse_train['sqft_living15'] = min_max_scaler.fit_transform(pd.DataFrame(KChouse_train['sqft_living15']))\n",
    "KChouse_train['sqft_lot15'] = min_max_scaler.fit_transform(pd.DataFrame(KChouse_train['sqft_lot15']))"
   ]
  },
  {
   "cell_type": "code",
   "execution_count": 68,
   "metadata": {},
   "outputs": [
    {
     "data": {
      "text/html": [
       "<div>\n",
       "<style scoped>\n",
       "    .dataframe tbody tr th:only-of-type {\n",
       "        vertical-align: middle;\n",
       "    }\n",
       "\n",
       "    .dataframe tbody tr th {\n",
       "        vertical-align: top;\n",
       "    }\n",
       "\n",
       "    .dataframe thead th {\n",
       "        text-align: right;\n",
       "    }\n",
       "</style>\n",
       "<table border=\"1\" class=\"dataframe\">\n",
       "  <thead>\n",
       "    <tr style=\"text-align: right;\">\n",
       "      <th></th>\n",
       "      <th>Unnamed: 0</th>\n",
       "      <th>price</th>\n",
       "      <th>bedrooms</th>\n",
       "      <th>bathrooms</th>\n",
       "      <th>sqft_living</th>\n",
       "      <th>sqft_lot</th>\n",
       "      <th>floors</th>\n",
       "      <th>waterfront</th>\n",
       "      <th>view</th>\n",
       "      <th>condition</th>\n",
       "      <th>grade</th>\n",
       "      <th>sqft_above</th>\n",
       "      <th>sqft_basement</th>\n",
       "      <th>yr_built</th>\n",
       "      <th>yr_renovated</th>\n",
       "      <th>lat</th>\n",
       "      <th>long</th>\n",
       "      <th>sqft_living15</th>\n",
       "      <th>sqft_lot15</th>\n",
       "    </tr>\n",
       "  </thead>\n",
       "  <tbody>\n",
       "    <tr>\n",
       "      <th>0</th>\n",
       "      <td>1001</td>\n",
       "      <td>0.118483</td>\n",
       "      <td>0.428571</td>\n",
       "      <td>0.333333</td>\n",
       "      <td>0.183620</td>\n",
       "      <td>0.002247</td>\n",
       "      <td>0.5</td>\n",
       "      <td>0.0</td>\n",
       "      <td>0.0</td>\n",
       "      <td>0.5</td>\n",
       "      <td>0.555556</td>\n",
       "      <td>0.221338</td>\n",
       "      <td>0.000000</td>\n",
       "      <td>0.069565</td>\n",
       "      <td>0.0</td>\n",
       "      <td>47.6593</td>\n",
       "      <td>-122.327</td>\n",
       "      <td>0.199226</td>\n",
       "      <td>0.008252</td>\n",
       "    </tr>\n",
       "    <tr>\n",
       "      <th>1</th>\n",
       "      <td>1002</td>\n",
       "      <td>0.036967</td>\n",
       "      <td>0.285714</td>\n",
       "      <td>0.333333</td>\n",
       "      <td>0.147952</td>\n",
       "      <td>0.004830</td>\n",
       "      <td>0.0</td>\n",
       "      <td>0.0</td>\n",
       "      <td>0.0</td>\n",
       "      <td>0.5</td>\n",
       "      <td>0.444444</td>\n",
       "      <td>0.178344</td>\n",
       "      <td>0.000000</td>\n",
       "      <td>0.582609</td>\n",
       "      <td>0.0</td>\n",
       "      <td>47.4312</td>\n",
       "      <td>-122.171</td>\n",
       "      <td>0.191489</td>\n",
       "      <td>0.018052</td>\n",
       "    </tr>\n",
       "    <tr>\n",
       "      <th>2</th>\n",
       "      <td>1003</td>\n",
       "      <td>0.034692</td>\n",
       "      <td>0.428571</td>\n",
       "      <td>0.291667</td>\n",
       "      <td>0.170410</td>\n",
       "      <td>0.004507</td>\n",
       "      <td>0.0</td>\n",
       "      <td>0.0</td>\n",
       "      <td>0.0</td>\n",
       "      <td>0.5</td>\n",
       "      <td>0.444444</td>\n",
       "      <td>0.125796</td>\n",
       "      <td>0.209205</td>\n",
       "      <td>0.669565</td>\n",
       "      <td>0.0</td>\n",
       "      <td>47.3270</td>\n",
       "      <td>-122.361</td>\n",
       "      <td>0.235977</td>\n",
       "      <td>0.020526</td>\n",
       "    </tr>\n",
       "    <tr>\n",
       "      <th>3</th>\n",
       "      <td>1004</td>\n",
       "      <td>0.086256</td>\n",
       "      <td>0.285714</td>\n",
       "      <td>0.416667</td>\n",
       "      <td>0.196830</td>\n",
       "      <td>0.003837</td>\n",
       "      <td>0.5</td>\n",
       "      <td>0.0</td>\n",
       "      <td>0.0</td>\n",
       "      <td>0.5</td>\n",
       "      <td>0.555556</td>\n",
       "      <td>0.237261</td>\n",
       "      <td>0.000000</td>\n",
       "      <td>0.913043</td>\n",
       "      <td>0.0</td>\n",
       "      <td>47.7191</td>\n",
       "      <td>-122.309</td>\n",
       "      <td>0.253385</td>\n",
       "      <td>0.014556</td>\n",
       "    </tr>\n",
       "    <tr>\n",
       "      <th>4</th>\n",
       "      <td>1005</td>\n",
       "      <td>0.032227</td>\n",
       "      <td>0.285714</td>\n",
       "      <td>0.375000</td>\n",
       "      <td>0.129723</td>\n",
       "      <td>0.001694</td>\n",
       "      <td>0.5</td>\n",
       "      <td>0.0</td>\n",
       "      <td>0.0</td>\n",
       "      <td>0.5</td>\n",
       "      <td>0.444444</td>\n",
       "      <td>0.156369</td>\n",
       "      <td>0.000000</td>\n",
       "      <td>0.973913</td>\n",
       "      <td>0.0</td>\n",
       "      <td>47.3204</td>\n",
       "      <td>-122.178</td>\n",
       "      <td>0.204449</td>\n",
       "      <td>0.006101</td>\n",
       "    </tr>\n",
       "  </tbody>\n",
       "</table>\n",
       "</div>"
      ],
      "text/plain": [
       "   Unnamed: 0     price  bedrooms  bathrooms  sqft_living  sqft_lot  floors  \\\n",
       "0        1001  0.118483  0.428571   0.333333     0.183620  0.002247     0.5   \n",
       "1        1002  0.036967  0.285714   0.333333     0.147952  0.004830     0.0   \n",
       "2        1003  0.034692  0.428571   0.291667     0.170410  0.004507     0.0   \n",
       "3        1004  0.086256  0.285714   0.416667     0.196830  0.003837     0.5   \n",
       "4        1005  0.032227  0.285714   0.375000     0.129723  0.001694     0.5   \n",
       "\n",
       "   waterfront  view  condition     grade  sqft_above  sqft_basement  yr_built  \\\n",
       "0         0.0   0.0        0.5  0.555556    0.221338       0.000000  0.069565   \n",
       "1         0.0   0.0        0.5  0.444444    0.178344       0.000000  0.582609   \n",
       "2         0.0   0.0        0.5  0.444444    0.125796       0.209205  0.669565   \n",
       "3         0.0   0.0        0.5  0.555556    0.237261       0.000000  0.913043   \n",
       "4         0.0   0.0        0.5  0.444444    0.156369       0.000000  0.973913   \n",
       "\n",
       "   yr_renovated      lat     long  sqft_living15  sqft_lot15  \n",
       "0           0.0  47.6593 -122.327       0.199226    0.008252  \n",
       "1           0.0  47.4312 -122.171       0.191489    0.018052  \n",
       "2           0.0  47.3270 -122.361       0.235977    0.020526  \n",
       "3           0.0  47.7191 -122.309       0.253385    0.014556  \n",
       "4           0.0  47.3204 -122.178       0.204449    0.006101  "
      ]
     },
     "execution_count": 68,
     "metadata": {},
     "output_type": "execute_result"
    }
   ],
   "source": [
    "KChouse_train.head()"
   ]
  }
 ],
 "metadata": {
  "kernelspec": {
   "display_name": "Python 3",
   "language": "python",
   "name": "python3"
  },
  "language_info": {
   "codemirror_mode": {
    "name": "ipython",
    "version": 3
   },
   "file_extension": ".py",
   "mimetype": "text/x-python",
   "name": "python",
   "nbconvert_exporter": "python",
   "pygments_lexer": "ipython3",
   "version": "3.7.3"
  }
 },
 "nbformat": 4,
 "nbformat_minor": 2
}
