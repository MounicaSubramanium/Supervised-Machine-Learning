{
 "cells": [
  {
   "cell_type": "markdown",
   "metadata": {},
   "source": [
    "<h2><center>ASSIGNMENT 2</center></h2>\n",
    "<h3><center>Mounica Subramani</center></h3>"
   ]
  },
  {
   "cell_type": "markdown",
   "metadata": {},
   "source": [
    "### Problem 1 [Linear regression]"
   ]
  },
  {
   "cell_type": "code",
   "execution_count": 8,
   "metadata": {},
   "outputs": [
    {
     "name": "stdout",
     "output_type": "stream",
     "text": [
      "Collecting statsmodels\n",
      "\u001b[?25l  Downloading https://files.pythonhosted.org/packages/b5/b8/50f9b86bbd87b1de961f439c2b93dfc41dd0cb9d65f6b7d824b287b50b21/statsmodels-0.10.1-cp37-cp37m-macosx_10_6_intel.macosx_10_9_intel.macosx_10_9_x86_64.macosx_10_10_intel.macosx_10_10_x86_64.whl (10.5MB)\n",
      "\u001b[K     |████████████████████████████████| 10.5MB 2.2MB/s eta 0:00:01\n",
      "\u001b[?25hRequirement already satisfied: pandas>=0.19 in /Library/Frameworks/Python.framework/Versions/3.7/lib/python3.7/site-packages (from statsmodels) (0.25.1)\n",
      "Collecting patsy>=0.4.0 (from statsmodels)\n",
      "\u001b[?25l  Downloading https://files.pythonhosted.org/packages/ea/0c/5f61f1a3d4385d6bf83b83ea495068857ff8dfb89e74824c6e9eb63286d8/patsy-0.5.1-py2.py3-none-any.whl (231kB)\n",
      "\u001b[K     |████████████████████████████████| 235kB 16.1MB/s eta 0:00:01\n",
      "\u001b[?25hRequirement already satisfied: numpy>=1.11 in /Library/Frameworks/Python.framework/Versions/3.7/lib/python3.7/site-packages (from statsmodels) (1.17.1)\n",
      "Requirement already satisfied: scipy>=0.18 in /Library/Frameworks/Python.framework/Versions/3.7/lib/python3.7/site-packages (from statsmodels) (1.3.1)\n",
      "Requirement already satisfied: pytz>=2017.2 in /Library/Frameworks/Python.framework/Versions/3.7/lib/python3.7/site-packages (from pandas>=0.19->statsmodels) (2019.2)\n",
      "Requirement already satisfied: python-dateutil>=2.6.1 in /Library/Frameworks/Python.framework/Versions/3.7/lib/python3.7/site-packages (from pandas>=0.19->statsmodels) (2.8.0)\n",
      "Requirement already satisfied: six in /Library/Frameworks/Python.framework/Versions/3.7/lib/python3.7/site-packages (from patsy>=0.4.0->statsmodels) (1.12.0)\n",
      "Installing collected packages: patsy, statsmodels\n",
      "Successfully installed patsy-0.5.1 statsmodels-0.10.1\n"
     ]
    }
   ],
   "source": [
    "!pip install statsmodels"
   ]
  },
  {
   "cell_type": "code",
   "execution_count": 250,
   "metadata": {},
   "outputs": [],
   "source": [
    "import pandas as pd\n",
    "import matplotlib.pyplot as plt\n",
    "import numpy as np\n",
    "\n",
    "import seaborn as sns\n",
    "\n",
    "from sklearn.metrics import mean_squared_error\n",
    "from sklearn import preprocessing\n",
    "\n",
    "from sklearn.model_selection import train_test_split, cross_val_score\n",
    "from sklearn.linear_model import LinearRegression\n",
    "from sklearn.preprocessing import StandardScaler\n",
    "from sklearn.metrics import mean_squared_error\n",
    "from math import sqrt\n",
    "\n",
    "from numpy.linalg import inv\n",
    "\n",
    "from statsmodels.regression.linear_model import OLS"
   ]
  },
  {
   "cell_type": "code",
   "execution_count": 2,
   "metadata": {},
   "outputs": [],
   "source": [
    "# read in data\n",
    "KChouse_train = pd.read_csv('train.csv')\n",
    "KChouse_test = pd.read_csv('test.csv')\n",
    "\n",
    "# ignore the columns id, date, unnamed column as well as the categorical column zipcode.\n",
    "KChouse_train = KChouse_train.drop(columns = ['zipcode','Unnamed: 0'])\n",
    "KChouse_test = KChouse_test.drop(columns = ['id','zipcode','date','Unnamed: 0'])"
   ]
  },
  {
   "cell_type": "code",
   "execution_count": 11,
   "metadata": {},
   "outputs": [
    {
     "data": {
      "text/html": [
       "<div>\n",
       "<style scoped>\n",
       "    .dataframe tbody tr th:only-of-type {\n",
       "        vertical-align: middle;\n",
       "    }\n",
       "\n",
       "    .dataframe tbody tr th {\n",
       "        vertical-align: top;\n",
       "    }\n",
       "\n",
       "    .dataframe thead th {\n",
       "        text-align: right;\n",
       "    }\n",
       "</style>\n",
       "<table border=\"1\" class=\"dataframe\">\n",
       "  <thead>\n",
       "    <tr style=\"text-align: right;\">\n",
       "      <th></th>\n",
       "      <th>price</th>\n",
       "      <th>bedrooms</th>\n",
       "      <th>bathrooms</th>\n",
       "      <th>sqft_living</th>\n",
       "      <th>sqft_lot</th>\n",
       "      <th>floors</th>\n",
       "      <th>waterfront</th>\n",
       "      <th>view</th>\n",
       "      <th>condition</th>\n",
       "      <th>grade</th>\n",
       "      <th>sqft_above</th>\n",
       "      <th>sqft_basement</th>\n",
       "      <th>yr_built</th>\n",
       "      <th>yr_renovated</th>\n",
       "      <th>lat</th>\n",
       "      <th>long</th>\n",
       "      <th>sqft_living15</th>\n",
       "      <th>sqft_lot15</th>\n",
       "    </tr>\n",
       "  </thead>\n",
       "  <tbody>\n",
       "    <tr>\n",
       "      <td>0</td>\n",
       "      <td>221900.0</td>\n",
       "      <td>3</td>\n",
       "      <td>1.00</td>\n",
       "      <td>1180</td>\n",
       "      <td>5650</td>\n",
       "      <td>1.0</td>\n",
       "      <td>0</td>\n",
       "      <td>0</td>\n",
       "      <td>3</td>\n",
       "      <td>7</td>\n",
       "      <td>1180</td>\n",
       "      <td>0</td>\n",
       "      <td>1955</td>\n",
       "      <td>0</td>\n",
       "      <td>47.5112</td>\n",
       "      <td>-122.257</td>\n",
       "      <td>1340</td>\n",
       "      <td>5650</td>\n",
       "    </tr>\n",
       "    <tr>\n",
       "      <td>1</td>\n",
       "      <td>538000.0</td>\n",
       "      <td>3</td>\n",
       "      <td>2.25</td>\n",
       "      <td>2570</td>\n",
       "      <td>7242</td>\n",
       "      <td>2.0</td>\n",
       "      <td>0</td>\n",
       "      <td>0</td>\n",
       "      <td>3</td>\n",
       "      <td>7</td>\n",
       "      <td>2170</td>\n",
       "      <td>400</td>\n",
       "      <td>1951</td>\n",
       "      <td>1991</td>\n",
       "      <td>47.7210</td>\n",
       "      <td>-122.319</td>\n",
       "      <td>1690</td>\n",
       "      <td>7639</td>\n",
       "    </tr>\n",
       "    <tr>\n",
       "      <td>2</td>\n",
       "      <td>180000.0</td>\n",
       "      <td>2</td>\n",
       "      <td>1.00</td>\n",
       "      <td>770</td>\n",
       "      <td>10000</td>\n",
       "      <td>1.0</td>\n",
       "      <td>0</td>\n",
       "      <td>0</td>\n",
       "      <td>3</td>\n",
       "      <td>6</td>\n",
       "      <td>770</td>\n",
       "      <td>0</td>\n",
       "      <td>1933</td>\n",
       "      <td>0</td>\n",
       "      <td>47.7379</td>\n",
       "      <td>-122.233</td>\n",
       "      <td>2720</td>\n",
       "      <td>8062</td>\n",
       "    </tr>\n",
       "    <tr>\n",
       "      <td>3</td>\n",
       "      <td>604000.0</td>\n",
       "      <td>4</td>\n",
       "      <td>3.00</td>\n",
       "      <td>1960</td>\n",
       "      <td>5000</td>\n",
       "      <td>1.0</td>\n",
       "      <td>0</td>\n",
       "      <td>0</td>\n",
       "      <td>5</td>\n",
       "      <td>7</td>\n",
       "      <td>1050</td>\n",
       "      <td>910</td>\n",
       "      <td>1965</td>\n",
       "      <td>0</td>\n",
       "      <td>47.5208</td>\n",
       "      <td>-122.393</td>\n",
       "      <td>1360</td>\n",
       "      <td>5000</td>\n",
       "    </tr>\n",
       "    <tr>\n",
       "      <td>4</td>\n",
       "      <td>510000.0</td>\n",
       "      <td>3</td>\n",
       "      <td>2.00</td>\n",
       "      <td>1680</td>\n",
       "      <td>8080</td>\n",
       "      <td>1.0</td>\n",
       "      <td>0</td>\n",
       "      <td>0</td>\n",
       "      <td>3</td>\n",
       "      <td>8</td>\n",
       "      <td>1680</td>\n",
       "      <td>0</td>\n",
       "      <td>1987</td>\n",
       "      <td>0</td>\n",
       "      <td>47.6168</td>\n",
       "      <td>-122.045</td>\n",
       "      <td>1800</td>\n",
       "      <td>7503</td>\n",
       "    </tr>\n",
       "  </tbody>\n",
       "</table>\n",
       "</div>"
      ],
      "text/plain": [
       "      price  bedrooms  bathrooms  sqft_living  sqft_lot  floors  waterfront  \\\n",
       "0  221900.0         3       1.00         1180      5650     1.0           0   \n",
       "1  538000.0         3       2.25         2570      7242     2.0           0   \n",
       "2  180000.0         2       1.00          770     10000     1.0           0   \n",
       "3  604000.0         4       3.00         1960      5000     1.0           0   \n",
       "4  510000.0         3       2.00         1680      8080     1.0           0   \n",
       "\n",
       "   view  condition  grade  sqft_above  sqft_basement  yr_built  yr_renovated  \\\n",
       "0     0          3      7        1180              0      1955             0   \n",
       "1     0          3      7        2170            400      1951          1991   \n",
       "2     0          3      6         770              0      1933             0   \n",
       "3     0          5      7        1050            910      1965             0   \n",
       "4     0          3      8        1680              0      1987             0   \n",
       "\n",
       "       lat     long  sqft_living15  sqft_lot15  \n",
       "0  47.5112 -122.257           1340        5650  \n",
       "1  47.7210 -122.319           1690        7639  \n",
       "2  47.7379 -122.233           2720        8062  \n",
       "3  47.5208 -122.393           1360        5000  \n",
       "4  47.6168 -122.045           1800        7503  "
      ]
     },
     "execution_count": 11,
     "metadata": {},
     "output_type": "execute_result"
    }
   ],
   "source": [
    "\n",
    "KChouse_train.head()"
   ]
  },
  {
   "cell_type": "code",
   "execution_count": 7,
   "metadata": {},
   "outputs": [
    {
     "data": {
      "text/plain": [
       "price            1.000000\n",
       "sqft_living      0.704776\n",
       "grade            0.647349\n",
       "sqft_living15    0.645106\n",
       "sqft_above       0.582407\n",
       "bathrooms        0.487157\n",
       "view             0.445316\n",
       "sqft_basement    0.367365\n",
       "lat              0.365770\n",
       "waterfront       0.317143\n",
       "bedrooms         0.307058\n",
       "floors           0.239935\n",
       "sqft_lot15       0.161746\n",
       "sqft_lot         0.146645\n",
       "yr_renovated     0.146348\n",
       "condition        0.073961\n",
       "long             0.032846\n",
       "yr_built         0.016055\n",
       "Name: price, dtype: float64"
      ]
     },
     "execution_count": 7,
     "metadata": {},
     "output_type": "execute_result"
    }
   ],
   "source": [
    "# correlation coefficients of features/variables\n",
    "KChouse_train.corr()['price'].sort_values(ascending=False)"
   ]
  },
  {
   "cell_type": "markdown",
   "metadata": {},
   "source": [
    "(a) Use an existing package to train a multiple linear regression model on the training set using all the\n",
    "features (except the ones excluded above). Report the coefficients of the linear regression models and\n",
    "the MSE metric on the training data"
   ]
  },
  {
   "cell_type": "code",
   "execution_count": 8,
   "metadata": {},
   "outputs": [
    {
     "name": "stdout",
     "output_type": "stream",
     "text": [
      "Cross-validation scores: [0.67837004 0.70416297 0.6125577  0.72692348 0.55953864 0.79355793\n",
      " 0.71355718 0.7597062  0.67484746 0.72691946]\n",
      "Average cross-validation score: 0.70\n"
     ]
    }
   ],
   "source": [
    "# Linear regression model\n",
    "X_train = KChouse_train.drop(['price'], axis=1)\n",
    "y_train = KChouse_train[['price']]\n",
    "\n",
    "model = LinearRegression()\n",
    "\n",
    "scores = cross_val_score(model, X_train, y_train, cv=10)\n",
    "print(\"Cross-validation scores: {}\".format(scores))\n",
    "print(\"Average cross-validation score: {:.2f}\".format(scores.mean()))\n",
    "# print(\"X_train.shape:\",X_train.shape)"
   ]
  },
  {
   "cell_type": "code",
   "execution_count": 9,
   "metadata": {},
   "outputs": [],
   "source": [
    "model_fitted = model.fit(X_train, y_train)"
   ]
  },
  {
   "cell_type": "code",
   "execution_count": 10,
   "metadata": {},
   "outputs": [],
   "source": [
    "predictions = model_fitted.predict(X_train)\n",
    "# predictions"
   ]
  },
  {
   "cell_type": "code",
   "execution_count": 11,
   "metadata": {
    "scrolled": true
   },
   "outputs": [
    {
     "name": "stdout",
     "output_type": "stream",
     "text": [
      "Mean squared error for train data: 31486167775.794903\n"
     ]
    }
   ],
   "source": [
    "print(\"Mean squared error for train data:\",mean_squared_error(y_train,predictions))"
   ]
  },
  {
   "cell_type": "markdown",
   "metadata": {},
   "source": [
    "(b) Perform feature standardization so that each feature (including the response) has mean 0 and variance\n",
    "of 1. Train again a linear regression model on the training data and report the MSE on the training\n",
    "data."
   ]
  },
  {
   "cell_type": "markdown",
   "metadata": {},
   "source": [
    "#### Scaling data so that each feature has mean 0 and standard deviation 1."
   ]
  },
  {
   "cell_type": "code",
   "execution_count": 12,
   "metadata": {},
   "outputs": [],
   "source": [
    "scaler = StandardScaler() \n",
    "data_scaled = scaler.fit_transform(KChouse_train)\n",
    "data_scaled_test = scaler.fit_transform(KChouse_test)"
   ]
  },
  {
   "cell_type": "code",
   "execution_count": 13,
   "metadata": {},
   "outputs": [
    {
     "data": {
      "text/plain": [
       "array([[-0.87974769, -0.40982347, -1.44988843, ..., -0.35519332,\n",
       "        -0.96563661, -0.3128578 ],\n",
       "       [ 0.05182493, -0.40982347,  0.28318404, ..., -0.7998304 ,\n",
       "        -0.44332966, -0.23355563],\n",
       "       [-1.00323042, -1.58410276, -1.44988843, ..., -0.18307573,\n",
       "         1.09374507, -0.21669046],\n",
       "       ...,\n",
       "       [ 0.0975047 , -1.58410276, -1.44988843, ..., -0.86437449,\n",
       "        -1.02532883, -0.4185143 ],\n",
       "       [-0.97390696, -1.58410276, -1.44988843, ...,  1.07911986,\n",
       "        -0.80148299, -0.40352304],\n",
       "       [-0.68199849, -0.40982347, -0.06343045, ..., -0.46993837,\n",
       "         0.39236146, -0.15736334]])"
      ]
     },
     "execution_count": 13,
     "metadata": {},
     "output_type": "execute_result"
    }
   ],
   "source": [
    "data_scaled"
   ]
  },
  {
   "cell_type": "code",
   "execution_count": 14,
   "metadata": {
    "scrolled": true
   },
   "outputs": [],
   "source": [
    "df = pd.DataFrame(data=data_scaled[:,0:],\n",
    "                  index=data_scaled[:,0],\n",
    "                  columns=['price', 'bedrooms', 'bathrooms', 'sqft_living',\n",
    "       'sqft_lot', 'floors', 'waterfront', 'view', 'condition', 'grade',\n",
    "       'sqft_above', 'sqft_basement', 'yr_built', 'yr_renovated', 'lat',\n",
    "       'long', 'sqft_living15', 'sqft_lot15'])"
   ]
  },
  {
   "cell_type": "code",
   "execution_count": 15,
   "metadata": {},
   "outputs": [
    {
     "data": {
      "text/plain": [
       "(1000, 18)"
      ]
     },
     "execution_count": 15,
     "metadata": {},
     "output_type": "execute_result"
    }
   ],
   "source": [
    "df = df.reset_index(drop=True)\n",
    "df.shape"
   ]
  },
  {
   "cell_type": "code",
   "execution_count": 16,
   "metadata": {},
   "outputs": [
    {
     "name": "stdout",
     "output_type": "stream",
     "text": [
      "Cross-validation scores: [0.67837004 0.70416297 0.6125577  0.72692348 0.55953864 0.79355793\n",
      " 0.71355718 0.7597062  0.67484746 0.72691946]\n",
      "Average cross-validation score: 0.70\n"
     ]
    }
   ],
   "source": [
    "\n",
    "X_train_scaled = df.drop(['price'], axis=1)\n",
    "y_train_scaled = df[['price']]\n",
    "\n",
    "model1 = LinearRegression()\n",
    "\n",
    "scores = cross_val_score(model1, X_train_scaled, y_train_scaled, cv=10)\n",
    "print(\"Cross-validation scores: {}\".format(scores))\n",
    "print(\"Average cross-validation score: {:.2f}\".format(scores.mean()))"
   ]
  },
  {
   "cell_type": "code",
   "execution_count": 17,
   "metadata": {},
   "outputs": [],
   "source": [
    "model_fitted1 = model1.fit(X_train_scaled, y_train_scaled)"
   ]
  },
  {
   "cell_type": "code",
   "execution_count": 18,
   "metadata": {},
   "outputs": [],
   "source": [
    "predictions_scaled = model_fitted1.predict(X_train_scaled)\n",
    "# predictions_scaled"
   ]
  },
  {
   "cell_type": "code",
   "execution_count": 19,
   "metadata": {},
   "outputs": [
    {
     "data": {
      "text/plain": [
       "array([[-0.03690325,  0.05460245,  0.16724347,  0.03206976,  0.0237055 ,\n",
       "         0.18785555,  0.14204967,  0.03820676,  0.27181372,  0.14231485,\n",
       "         0.07997506, -0.19934981,  0.05090017,  0.23097972, -0.00305083,\n",
       "         0.13432109, -0.03810604]])"
      ]
     },
     "execution_count": 19,
     "metadata": {},
     "output_type": "execute_result"
    }
   ],
   "source": [
    "model_fitted1.coef_"
   ]
  },
  {
   "cell_type": "code",
   "execution_count": 20,
   "metadata": {},
   "outputs": [
    {
     "name": "stdout",
     "output_type": "stream",
     "text": [
      "Mean squared error for scaled train data: 0.2734665681293983\n"
     ]
    }
   ],
   "source": [
    "print(\"Mean squared error for scaled train data:\",mean_squared_error(y_train_scaled,predictions_scaled))"
   ]
  },
  {
   "cell_type": "markdown",
   "metadata": {},
   "source": [
    "(c) Evaluate both models on the testing set. Report the MSE on the testing set"
   ]
  },
  {
   "cell_type": "markdown",
   "metadata": {},
   "source": [
    "##### Linear regression model on unscaled test data"
   ]
  },
  {
   "cell_type": "code",
   "execution_count": 21,
   "metadata": {},
   "outputs": [
    {
     "name": "stdout",
     "output_type": "stream",
     "text": [
      "Cross-validation scores: [0.572243   0.7302379  0.4195207  0.69421544 0.58056117 0.64406129\n",
      " 0.58310599 0.67480098 0.69470867 0.5749148 ]\n",
      "Average cross-validation score: 0.62\n"
     ]
    }
   ],
   "source": [
    "X_test = KChouse_test.drop(['price'], axis=1)\n",
    "y_test = KChouse_test[['price']]\n",
    "\n",
    "model2 = LinearRegression()\n",
    "\n",
    "scores = cross_val_score(model2, X_test, y_test, cv=10)\n",
    "print(\"Cross-validation scores: {}\".format(scores))\n",
    "print(\"Average cross-validation score: {:.2f}\".format(scores.mean()))"
   ]
  },
  {
   "cell_type": "code",
   "execution_count": 22,
   "metadata": {},
   "outputs": [],
   "source": [
    "model_fitted2 = model2.fit(X_test, y_test)"
   ]
  },
  {
   "cell_type": "code",
   "execution_count": 23,
   "metadata": {},
   "outputs": [],
   "source": [
    "predictions2 = model_fitted2.predict(X_test)\n",
    "# predictions"
   ]
  },
  {
   "cell_type": "code",
   "execution_count": 24,
   "metadata": {},
   "outputs": [
    {
     "data": {
      "text/plain": [
       "array([[-5.09706680e+04,  4.53522145e+04,  1.29557364e+02,\n",
       "         4.60107448e-01, -4.08290867e+03,  6.67916885e+05,\n",
       "         6.41825495e+04,  3.74395531e+04,  8.69134817e+04,\n",
       "         7.58952045e+01,  5.36621580e+01, -2.59297980e+03,\n",
       "        -5.13466279e+00,  5.67370348e+05, -7.67745545e+04,\n",
       "         3.41095820e+01, -8.48109171e-01]])"
      ]
     },
     "execution_count": 24,
     "metadata": {},
     "output_type": "execute_result"
    }
   ],
   "source": [
    "model_fitted2.coef_"
   ]
  },
  {
   "cell_type": "code",
   "execution_count": 25,
   "metadata": {},
   "outputs": [
    {
     "name": "stdout",
     "output_type": "stream",
     "text": [
      "Mean squared error for non scaled test data: 54185036855.79512\n"
     ]
    }
   ],
   "source": [
    "print(\"Mean squared error for non scaled test data:\",mean_squared_error(y_test,predictions2))"
   ]
  },
  {
   "cell_type": "markdown",
   "metadata": {},
   "source": [
    "##### Linear regression on scaled test data"
   ]
  },
  {
   "cell_type": "code",
   "execution_count": 26,
   "metadata": {},
   "outputs": [],
   "source": [
    "df_scaled = pd.DataFrame(data=data_scaled_test[1:,0:],\n",
    "                  index=data_scaled_test[1:,0],\n",
    "                  columns=['price', 'bedrooms', 'bathrooms', 'sqft_living',\n",
    "       'sqft_lot', 'floors', 'waterfront', 'view', 'condition', 'grade',\n",
    "       'sqft_above', 'sqft_basement', 'yr_built', 'yr_renovated', 'lat',\n",
    "       'long', 'sqft_living15', 'sqft_lot15'])\n",
    "\n",
    "df_scaled = df_scaled.reset_index(drop=True)"
   ]
  },
  {
   "cell_type": "code",
   "execution_count": 27,
   "metadata": {},
   "outputs": [
    {
     "name": "stdout",
     "output_type": "stream",
     "text": [
      "Cross-validation scores: [0.61750399 0.72177335 0.41520807 0.69590594 0.58111104 0.63899562\n",
      " 0.58430498 0.67685041 0.6919166  0.57445912]\n",
      "Average cross-validation score: 0.62\n"
     ]
    }
   ],
   "source": [
    "X_test_scaled = df_scaled.drop(['price'], axis=1)\n",
    "y_test_scaled = df_scaled[['price']]\n",
    "\n",
    "model3 = LinearRegression()\n",
    "\n",
    "scores = cross_val_score(model3, X_test_scaled, y_test_scaled, cv=10)\n",
    "print(\"Cross-validation scores: {}\".format(scores))\n",
    "print(\"Average cross-validation score: {:.2f}\".format(scores.mean()))"
   ]
  },
  {
   "cell_type": "code",
   "execution_count": 28,
   "metadata": {},
   "outputs": [],
   "source": [
    "model_fitted3 = model3.fit(X_test_scaled, y_test_scaled)"
   ]
  },
  {
   "cell_type": "code",
   "execution_count": 29,
   "metadata": {},
   "outputs": [],
   "source": [
    "predictions_scaled1 = model_fitted3.predict(X_test_scaled)\n",
    "# predictions_scaled1"
   ]
  },
  {
   "cell_type": "code",
   "execution_count": 30,
   "metadata": {},
   "outputs": [
    {
     "data": {
      "text/plain": [
       "array([[-0.11656073,  0.08800974,  0.23817802,  0.0661224 , -0.00525078,\n",
       "         0.1852539 ,  0.12709521,  0.06128675,  0.25616884,  0.21405969,\n",
       "         0.08813423, -0.17705287, -0.00531226,  0.19009029, -0.02545619,\n",
       "         0.05815344, -0.0584464 ]])"
      ]
     },
     "execution_count": 30,
     "metadata": {},
     "output_type": "execute_result"
    }
   ],
   "source": [
    "model_fitted3.coef_"
   ]
  },
  {
   "cell_type": "code",
   "execution_count": 31,
   "metadata": {},
   "outputs": [
    {
     "name": "stdout",
     "output_type": "stream",
     "text": [
      "Mean squared errorfor scaled test data: 0.3253062062957616\n"
     ]
    }
   ],
   "source": [
    "print(\"Mean squared errorfor scaled test data:\",mean_squared_error(y_test_scaled,predictions_scaled1))"
   ]
  },
  {
   "cell_type": "markdown",
   "metadata": {},
   "source": [
    "(d) Interpret the results in your own words. Which features contribute mostly to the linear regression\n",
    "model? Is the model fitting the data well? How large is the model error?"
   ]
  },
  {
   "cell_type": "code",
   "execution_count": null,
   "metadata": {},
   "outputs": [],
   "source": []
  },
  {
   "cell_type": "markdown",
   "metadata": {},
   "source": [
    "### Problem 2 [Closed-form solution for linear regression]"
   ]
  },
  {
   "cell_type": "markdown",
   "metadata": {},
   "source": [
    "(a) Implement simple linear regression using the closed form and train a model for one feature (sqft living)\n",
    "using the training set. Write code to predict a response for a new single-dimensional data point in the\n",
    "testing set."
   ]
  },
  {
   "cell_type": "markdown",
   "metadata": {},
   "source": [
    "#### Simple linear regression with one feature(sqft living)"
   ]
  },
  {
   "cell_type": "code",
   "execution_count": 32,
   "metadata": {
    "scrolled": true
   },
   "outputs": [
    {
     "name": "stderr",
     "output_type": "stream",
     "text": [
      "/Library/Frameworks/Python.framework/Versions/3.7/lib/python3.7/site-packages/ipykernel_launcher.py:6: SettingWithCopyWarning: \n",
      "A value is trying to be set on a copy of a slice from a DataFrame.\n",
      "Try using .loc[row_indexer,col_indexer] = value instead\n",
      "\n",
      "See the caveats in the documentation: http://pandas.pydata.org/pandas-docs/stable/user_guide/indexing.html#returning-a-view-versus-a-copy\n",
      "  \n",
      "/Library/Frameworks/Python.framework/Versions/3.7/lib/python3.7/site-packages/ipykernel_launcher.py:8: SettingWithCopyWarning: \n",
      "A value is trying to be set on a copy of a slice from a DataFrame.\n",
      "Try using .loc[row_indexer,col_indexer] = value instead\n",
      "\n",
      "See the caveats in the documentation: http://pandas.pydata.org/pandas-docs/stable/user_guide/indexing.html#returning-a-view-versus-a-copy\n",
      "  \n"
     ]
    }
   ],
   "source": [
    "# obtain the feature matrix \n",
    "KChouse_train1 = df.drop(columns = ['price'])\n",
    "KChouse_test1 = df_scaled.drop(columns = ['price'])\n",
    "\n",
    "X = KChouse_train1[['sqft_living15']]\n",
    "X['ones'] = 1\n",
    "X_test = KChouse_test1[['sqft_living15']]\n",
    "X_test['ones'] = 1\n",
    "\n",
    "# obtain the target variable \n",
    "y = df[['price']]\n",
    "y_test = df_scaled[['price']]\n",
    "\n",
    "# calculate coefficients using closed-form solution\n",
    "coeffs_CF = inv(X.transpose().dot(X)).dot(X.transpose()).dot(y)\n",
    "\n",
    "y_prediction = X.dot(coeffs_CF)\n",
    "y_test_prediction = X_test.dot(coeffs_CF)\n"
   ]
  },
  {
   "cell_type": "code",
   "execution_count": 33,
   "metadata": {},
   "outputs": [
    {
     "data": {
      "text/html": [
       "<div>\n",
       "<style scoped>\n",
       "    .dataframe tbody tr th:only-of-type {\n",
       "        vertical-align: middle;\n",
       "    }\n",
       "\n",
       "    .dataframe tbody tr th {\n",
       "        vertical-align: top;\n",
       "    }\n",
       "\n",
       "    .dataframe thead th {\n",
       "        text-align: right;\n",
       "    }\n",
       "</style>\n",
       "<table border=\"1\" class=\"dataframe\">\n",
       "  <thead>\n",
       "    <tr style=\"text-align: right;\">\n",
       "      <th></th>\n",
       "      <th>Features</th>\n",
       "      <th>coeffs_CF</th>\n",
       "    </tr>\n",
       "  </thead>\n",
       "  <tbody>\n",
       "    <tr>\n",
       "      <td>0</td>\n",
       "      <td>sqft_living15</td>\n",
       "      <td>6.451060e-01</td>\n",
       "    </tr>\n",
       "    <tr>\n",
       "      <td>1</td>\n",
       "      <td>ones</td>\n",
       "      <td>1.101549e-16</td>\n",
       "    </tr>\n",
       "  </tbody>\n",
       "</table>\n",
       "</div>"
      ],
      "text/plain": [
       "        Features     coeffs_CF\n",
       "0  sqft_living15  6.451060e-01\n",
       "1           ones  1.101549e-16"
      ]
     },
     "execution_count": 33,
     "metadata": {},
     "output_type": "execute_result"
    }
   ],
   "source": [
    "# extract the feature names into list\n",
    "\n",
    "feature_names = list(X.columns)\n",
    "feature_names\n",
    "\n",
    "# convert list to array\n",
    "\n",
    "features = np.asarray(feature_names)\n",
    "features\n",
    "\n",
    "# convert both the array vectors into dataframe\n",
    "res = pd.DataFrame(coeffs_CF)\n",
    "\n",
    "res1 = pd.DataFrame(features)\n",
    "\n",
    "# merge dataframes\n",
    "results = pd.merge(res1, res, left_index=True, right_index=True)\n",
    "results = results.rename(columns={'0_x':'Features','0_y':'coeffs_CF'})\n",
    "\n",
    "results"
   ]
  },
  {
   "cell_type": "code",
   "execution_count": 34,
   "metadata": {},
   "outputs": [
    {
     "data": {
      "text/html": [
       "<div>\n",
       "<style scoped>\n",
       "    .dataframe tbody tr th:only-of-type {\n",
       "        vertical-align: middle;\n",
       "    }\n",
       "\n",
       "    .dataframe tbody tr th {\n",
       "        vertical-align: top;\n",
       "    }\n",
       "\n",
       "    .dataframe thead th {\n",
       "        text-align: right;\n",
       "    }\n",
       "</style>\n",
       "<table border=\"1\" class=\"dataframe\">\n",
       "  <thead>\n",
       "    <tr style=\"text-align: right;\">\n",
       "      <th></th>\n",
       "      <th>0</th>\n",
       "    </tr>\n",
       "  </thead>\n",
       "  <tbody>\n",
       "    <tr>\n",
       "      <td>0</td>\n",
       "      <td>-0.622938</td>\n",
       "    </tr>\n",
       "    <tr>\n",
       "      <td>1</td>\n",
       "      <td>-0.285995</td>\n",
       "    </tr>\n",
       "    <tr>\n",
       "      <td>2</td>\n",
       "      <td>0.705582</td>\n",
       "    </tr>\n",
       "    <tr>\n",
       "      <td>3</td>\n",
       "      <td>-0.603684</td>\n",
       "    </tr>\n",
       "    <tr>\n",
       "      <td>4</td>\n",
       "      <td>-0.180098</td>\n",
       "    </tr>\n",
       "  </tbody>\n",
       "</table>\n",
       "</div>"
      ],
      "text/plain": [
       "          0\n",
       "0 -0.622938\n",
       "1 -0.285995\n",
       "2  0.705582\n",
       "3 -0.603684\n",
       "4 -0.180098"
      ]
     },
     "execution_count": 34,
     "metadata": {},
     "output_type": "execute_result"
    }
   ],
   "source": [
    "y_prediction.head()"
   ]
  },
  {
   "cell_type": "code",
   "execution_count": 35,
   "metadata": {},
   "outputs": [
    {
     "data": {
      "text/html": [
       "<div>\n",
       "<style scoped>\n",
       "    .dataframe tbody tr th:only-of-type {\n",
       "        vertical-align: middle;\n",
       "    }\n",
       "\n",
       "    .dataframe tbody tr th {\n",
       "        vertical-align: top;\n",
       "    }\n",
       "\n",
       "    .dataframe thead th {\n",
       "        text-align: right;\n",
       "    }\n",
       "</style>\n",
       "<table border=\"1\" class=\"dataframe\">\n",
       "  <thead>\n",
       "    <tr style=\"text-align: right;\">\n",
       "      <th></th>\n",
       "      <th>0</th>\n",
       "    </tr>\n",
       "  </thead>\n",
       "  <tbody>\n",
       "    <tr>\n",
       "      <td>0</td>\n",
       "      <td>-0.355080</td>\n",
       "    </tr>\n",
       "    <tr>\n",
       "      <td>1</td>\n",
       "      <td>-0.141438</td>\n",
       "    </tr>\n",
       "    <tr>\n",
       "      <td>2</td>\n",
       "      <td>-0.057839</td>\n",
       "    </tr>\n",
       "    <tr>\n",
       "      <td>3</td>\n",
       "      <td>-0.292845</td>\n",
       "    </tr>\n",
       "    <tr>\n",
       "      <td>4</td>\n",
       "      <td>-0.596589</td>\n",
       "    </tr>\n",
       "  </tbody>\n",
       "</table>\n",
       "</div>"
      ],
      "text/plain": [
       "          0\n",
       "0 -0.355080\n",
       "1 -0.141438\n",
       "2 -0.057839\n",
       "3 -0.292845\n",
       "4 -0.596589"
      ]
     },
     "execution_count": 35,
     "metadata": {},
     "output_type": "execute_result"
    }
   ],
   "source": [
    "y_test_prediction.head()"
   ]
  },
  {
   "cell_type": "code",
   "execution_count": 36,
   "metadata": {},
   "outputs": [
    {
     "name": "stdout",
     "output_type": "stream",
     "text": [
      "Mean squared error for training data: 0.5838382382385959\n",
      "Mean squared error for testing data: 0.6764263056279269\n"
     ]
    }
   ],
   "source": [
    "print(\"Mean squared error for training data:\",mean_squared_error(y,y_prediction))\n",
    "print(\"Mean squared error for testing data:\",mean_squared_error(y_test,y_test_prediction))"
   ]
  },
  {
   "cell_type": "markdown",
   "metadata": {},
   "source": [
    "(b) Implement the closed-from solution for multiple linear regression using matrix operations and train a\n",
    "model on the training set. Write code to predict a response for a new multi-dimensional data point in\n",
    "the testing set."
   ]
  },
  {
   "cell_type": "markdown",
   "metadata": {},
   "source": [
    "#### Multiple linear regression with all features"
   ]
  },
  {
   "cell_type": "code",
   "execution_count": 37,
   "metadata": {},
   "outputs": [],
   "source": [
    "X1 = KChouse_train1\n",
    "X1['ones'] = 1\n",
    "\n",
    "X_test1 = KChouse_test1\n",
    "X_test1['ones'] = 1\n",
    "\n",
    "# obtain the target variable \n",
    "y1 = df[['price']]\n",
    "y_test1 = df_scaled[['price']]\n",
    "\n",
    "# calculate coefficients using closed-form solution\n",
    "coeffs_CF_1 = inv(X1.transpose().dot(X1)).dot(X1.transpose()).dot(y1)\n",
    "\n",
    "y_prediction1 = X1.dot(coeffs_CF_1)\n",
    "y_test_prediction1 = X_test1.dot(coeffs_CF_1)\n"
   ]
  },
  {
   "cell_type": "code",
   "execution_count": 38,
   "metadata": {},
   "outputs": [
    {
     "data": {
      "text/html": [
       "<div>\n",
       "<style scoped>\n",
       "    .dataframe tbody tr th:only-of-type {\n",
       "        vertical-align: middle;\n",
       "    }\n",
       "\n",
       "    .dataframe tbody tr th {\n",
       "        vertical-align: top;\n",
       "    }\n",
       "\n",
       "    .dataframe thead th {\n",
       "        text-align: right;\n",
       "    }\n",
       "</style>\n",
       "<table border=\"1\" class=\"dataframe\">\n",
       "  <thead>\n",
       "    <tr style=\"text-align: right;\">\n",
       "      <th></th>\n",
       "      <th>Features</th>\n",
       "      <th>coeffs_CF</th>\n",
       "    </tr>\n",
       "  </thead>\n",
       "  <tbody>\n",
       "    <tr>\n",
       "      <td>0</td>\n",
       "      <td>1.049397e-01</td>\n",
       "      <td>bedrooms</td>\n",
       "    </tr>\n",
       "    <tr>\n",
       "      <td>1</td>\n",
       "      <td>-7.231022e-02</td>\n",
       "      <td>bathrooms</td>\n",
       "    </tr>\n",
       "    <tr>\n",
       "      <td>2</td>\n",
       "      <td>1.611738e-01</td>\n",
       "      <td>sqft_living</td>\n",
       "    </tr>\n",
       "    <tr>\n",
       "      <td>3</td>\n",
       "      <td>3.723455e-02</td>\n",
       "      <td>sqft_lot</td>\n",
       "    </tr>\n",
       "    <tr>\n",
       "      <td>4</td>\n",
       "      <td>7.838885e-02</td>\n",
       "      <td>floors</td>\n",
       "    </tr>\n",
       "    <tr>\n",
       "      <td>5</td>\n",
       "      <td>1.872837e-01</td>\n",
       "      <td>waterfront</td>\n",
       "    </tr>\n",
       "    <tr>\n",
       "      <td>6</td>\n",
       "      <td>1.318097e-01</td>\n",
       "      <td>view</td>\n",
       "    </tr>\n",
       "    <tr>\n",
       "      <td>7</td>\n",
       "      <td>4.236297e-02</td>\n",
       "      <td>condition</td>\n",
       "    </tr>\n",
       "    <tr>\n",
       "      <td>8</td>\n",
       "      <td>2.727301e-01</td>\n",
       "      <td>grade</td>\n",
       "    </tr>\n",
       "    <tr>\n",
       "      <td>9</td>\n",
       "      <td>2.973037e-02</td>\n",
       "      <td>sqft_above</td>\n",
       "    </tr>\n",
       "    <tr>\n",
       "      <td>10</td>\n",
       "      <td>2.217114e-02</td>\n",
       "      <td>sqft_basement</td>\n",
       "    </tr>\n",
       "    <tr>\n",
       "      <td>11</td>\n",
       "      <td>-1.993498e-01</td>\n",
       "      <td>yr_built</td>\n",
       "    </tr>\n",
       "    <tr>\n",
       "      <td>12</td>\n",
       "      <td>5.090017e-02</td>\n",
       "      <td>yr_renovated</td>\n",
       "    </tr>\n",
       "    <tr>\n",
       "      <td>13</td>\n",
       "      <td>2.309797e-01</td>\n",
       "      <td>lat</td>\n",
       "    </tr>\n",
       "    <tr>\n",
       "      <td>14</td>\n",
       "      <td>-3.050828e-03</td>\n",
       "      <td>long</td>\n",
       "    </tr>\n",
       "    <tr>\n",
       "      <td>15</td>\n",
       "      <td>1.343211e-01</td>\n",
       "      <td>sqft_living15</td>\n",
       "    </tr>\n",
       "    <tr>\n",
       "      <td>16</td>\n",
       "      <td>-3.810604e-02</td>\n",
       "      <td>sqft_lot15</td>\n",
       "    </tr>\n",
       "    <tr>\n",
       "      <td>17</td>\n",
       "      <td>3.054848e-15</td>\n",
       "      <td>ones</td>\n",
       "    </tr>\n",
       "  </tbody>\n",
       "</table>\n",
       "</div>"
      ],
      "text/plain": [
       "        Features      coeffs_CF\n",
       "0   1.049397e-01       bedrooms\n",
       "1  -7.231022e-02      bathrooms\n",
       "2   1.611738e-01    sqft_living\n",
       "3   3.723455e-02       sqft_lot\n",
       "4   7.838885e-02         floors\n",
       "5   1.872837e-01     waterfront\n",
       "6   1.318097e-01           view\n",
       "7   4.236297e-02      condition\n",
       "8   2.727301e-01          grade\n",
       "9   2.973037e-02     sqft_above\n",
       "10  2.217114e-02  sqft_basement\n",
       "11 -1.993498e-01       yr_built\n",
       "12  5.090017e-02   yr_renovated\n",
       "13  2.309797e-01            lat\n",
       "14 -3.050828e-03           long\n",
       "15  1.343211e-01  sqft_living15\n",
       "16 -3.810604e-02     sqft_lot15\n",
       "17  3.054848e-15           ones"
      ]
     },
     "execution_count": 38,
     "metadata": {},
     "output_type": "execute_result"
    }
   ],
   "source": [
    "# extract the feature names into list\n",
    "\n",
    "feature_names1 = list(X1.columns)\n",
    "# print(feature_names1)\n",
    "\n",
    "# convert list to array\n",
    "\n",
    "features1 = np.asarray(feature_names1)\n",
    "# print(features1)\n",
    "\n",
    "# convert both the array vectors into dataframe\n",
    "res2 = pd.DataFrame(coeffs_CF_1)\n",
    "\n",
    "res3 = pd.DataFrame(features1)\n",
    "\n",
    "# merge dataframes\n",
    "results1 = pd.merge(res2, res3, left_index=True, right_index=True)\n",
    "results1 = results1.rename(columns={'0_x':'Features','0_y':'coeffs_CF'})\n",
    "\n",
    "results1"
   ]
  },
  {
   "cell_type": "code",
   "execution_count": 39,
   "metadata": {},
   "outputs": [
    {
     "data": {
      "text/html": [
       "<div>\n",
       "<style scoped>\n",
       "    .dataframe tbody tr th:only-of-type {\n",
       "        vertical-align: middle;\n",
       "    }\n",
       "\n",
       "    .dataframe tbody tr th {\n",
       "        vertical-align: top;\n",
       "    }\n",
       "\n",
       "    .dataframe thead th {\n",
       "        text-align: right;\n",
       "    }\n",
       "</style>\n",
       "<table border=\"1\" class=\"dataframe\">\n",
       "  <thead>\n",
       "    <tr style=\"text-align: right;\">\n",
       "      <th></th>\n",
       "      <th>0</th>\n",
       "    </tr>\n",
       "  </thead>\n",
       "  <tbody>\n",
       "    <tr>\n",
       "      <td>0</td>\n",
       "      <td>-0.530996</td>\n",
       "    </tr>\n",
       "    <tr>\n",
       "      <td>1</td>\n",
       "      <td>0.502050</td>\n",
       "    </tr>\n",
       "    <tr>\n",
       "      <td>2</td>\n",
       "      <td>-0.175832</td>\n",
       "    </tr>\n",
       "    <tr>\n",
       "      <td>3</td>\n",
       "      <td>-0.351732</td>\n",
       "    </tr>\n",
       "    <tr>\n",
       "      <td>4</td>\n",
       "      <td>-0.252701</td>\n",
       "    </tr>\n",
       "  </tbody>\n",
       "</table>\n",
       "</div>"
      ],
      "text/plain": [
       "          0\n",
       "0 -0.530996\n",
       "1  0.502050\n",
       "2 -0.175832\n",
       "3 -0.351732\n",
       "4 -0.252701"
      ]
     },
     "execution_count": 39,
     "metadata": {},
     "output_type": "execute_result"
    }
   ],
   "source": [
    "y_prediction1.head()"
   ]
  },
  {
   "cell_type": "code",
   "execution_count": 40,
   "metadata": {},
   "outputs": [
    {
     "data": {
      "text/html": [
       "<div>\n",
       "<style scoped>\n",
       "    .dataframe tbody tr th:only-of-type {\n",
       "        vertical-align: middle;\n",
       "    }\n",
       "\n",
       "    .dataframe tbody tr th {\n",
       "        vertical-align: top;\n",
       "    }\n",
       "\n",
       "    .dataframe thead th {\n",
       "        text-align: right;\n",
       "    }\n",
       "</style>\n",
       "<table border=\"1\" class=\"dataframe\">\n",
       "  <thead>\n",
       "    <tr style=\"text-align: right;\">\n",
       "      <th></th>\n",
       "      <th>0</th>\n",
       "    </tr>\n",
       "  </thead>\n",
       "  <tbody>\n",
       "    <tr>\n",
       "      <td>0</td>\n",
       "      <td>-0.758054</td>\n",
       "    </tr>\n",
       "    <tr>\n",
       "      <td>1</td>\n",
       "      <td>-0.780662</td>\n",
       "    </tr>\n",
       "    <tr>\n",
       "      <td>2</td>\n",
       "      <td>-0.064582</td>\n",
       "    </tr>\n",
       "    <tr>\n",
       "      <td>3</td>\n",
       "      <td>-1.145454</td>\n",
       "    </tr>\n",
       "    <tr>\n",
       "      <td>4</td>\n",
       "      <td>0.080467</td>\n",
       "    </tr>\n",
       "  </tbody>\n",
       "</table>\n",
       "</div>"
      ],
      "text/plain": [
       "          0\n",
       "0 -0.758054\n",
       "1 -0.780662\n",
       "2 -0.064582\n",
       "3 -1.145454\n",
       "4  0.080467"
      ]
     },
     "execution_count": 40,
     "metadata": {},
     "output_type": "execute_result"
    }
   ],
   "source": [
    "y_test_prediction1.head()"
   ]
  },
  {
   "cell_type": "code",
   "execution_count": 41,
   "metadata": {},
   "outputs": [
    {
     "name": "stdout",
     "output_type": "stream",
     "text": [
      "Mean squared error for training data: 0.3072940697039435\n",
      "Mean squared error for testing data: 0.39029935002992094\n"
     ]
    }
   ],
   "source": [
    "print(\"Mean squared error for training data:\",mean_squared_error(y1,y_prediction1))\n",
    "print(\"Mean squared error for testing data:\",mean_squared_error(y_test1,y_test_prediction1))"
   ]
  },
  {
   "cell_type": "markdown",
   "metadata": {},
   "source": [
    "(c) Compare the models given by your implementation with those trained in Problem 1 by the R or Python\n",
    "packages. Report the MSE metrics for the models you implemented on both training and testing sets"
   ]
  },
  {
   "cell_type": "code",
   "execution_count": null,
   "metadata": {},
   "outputs": [],
   "source": []
  },
  {
   "cell_type": "markdown",
   "metadata": {},
   "source": [
    "### Problem 3 [Gradient descent]"
   ]
  },
  {
   "cell_type": "markdown",
   "metadata": {},
   "source": [
    "(a) Write code for gradient descent for training linear regression using the algorithm from class"
   ]
  },
  {
   "cell_type": "code",
   "execution_count": 246,
   "metadata": {},
   "outputs": [
    {
     "name": "stdout",
     "output_type": "stream",
     "text": [
      "(1000, 18)\n",
      "(1000, 1)\n",
      "[[0. 0. 0. 0. 0. 0. 0. 0. 0. 0. 0. 0. 0. 0. 0. 0. 0. 0.]]\n"
     ]
    }
   ],
   "source": [
    "X_train = df.iloc[:,1:]\n",
    "ones = np.ones([X_train.shape[0],1])\n",
    "X_train = np.concatenate((ones,X_train),axis=1)\n",
    "print(X_train.shape)\n",
    "y_train = df.iloc[:,0:1].values #.values converts it from pandas.core.frame.DataFrame to numpy.ndarray\n",
    "print(y_train.shape)\n",
    "# theta = np.random.randn(18)\n",
    "theta = np.zeros([1,18])\n",
    "print(theta)\n",
    "#set hyper parameters\n",
    "alpha = 0.01\n",
    "iters = 10"
   ]
  },
  {
   "cell_type": "code",
   "execution_count": 248,
   "metadata": {},
   "outputs": [],
   "source": [
    "def computeCost(X,y,theta):\n",
    "    tobesummed = np.power(((X @ theta.T)-y),2)\n",
    "    return np.sum(tobesummed)/(2 * len(X))"
   ]
  },
  {
   "cell_type": "code",
   "execution_count": 252,
   "metadata": {},
   "outputs": [
    {
     "name": "stdout",
     "output_type": "stream",
     "text": [
      "[[ 2.76934031e-17  2.32304454e-02  3.79855527e-02  5.73832655e-02\n",
      "   1.07764271e-02  1.82600167e-02  2.84491420e-02  3.85853294e-02\n",
      "   7.44868928e-03  5.30247027e-02  4.66605377e-02  3.12417271e-02\n",
      "  -2.91083356e-03  1.34155739e-02  3.34429373e-02  3.00922028e-05\n",
      "   5.25033621e-02  1.18673593e-02]]\n",
      "0.318245129184686\n",
      "RMSE: 0.7978033958121337\n"
     ]
    }
   ],
   "source": [
    "def gradientDescent(X,y,theta,iters,alpha):\n",
    "    cost = np.zeros(iters)\n",
    "    for i in range(iters):\n",
    "        theta = theta - (alpha/len(X)) * np.sum(X * (X @ theta.T - y), axis=0)\n",
    "        cost[i] = computeCost(X, y, theta)\n",
    "    \n",
    "    return theta,cost\n",
    "\n",
    "#running the gd and cost function\n",
    "g,cost = gradientDescent(X_train,y_train,theta,iters,alpha)\n",
    "print(g)\n",
    "\n",
    "finalCost = computeCost(X_train,y_train,g)\n",
    "print(finalCost)\n",
    "\n",
    "y_predicted = X_train @ g.T \n",
    "\n",
    "rms = sqrt(mean_squared_error(y_train, y_predicted))\n",
    "print(\"RMSE:\",rms)"
   ]
  },
  {
   "cell_type": "markdown",
   "metadata": {},
   "source": [
    "(a) Write code for gradient descent for training linear regression using the algorithm from class"
   ]
  },
  {
   "cell_type": "markdown",
   "metadata": {},
   "source": [
    "(b) Vary the value of the learning rate (3 different values) and report the value of θ after different number\n",
    "of iterations (10, 50, and 100). Include the MSE metric on the training and testing set for all values of\n",
    "θ and number of iterations."
   ]
  },
  {
   "cell_type": "code",
   "execution_count": 52,
   "metadata": {},
   "outputs": [],
   "source": [
    "alpha = 0.01\n",
    "iter_ = 50\n",
    "cols = KChouse_train1.columns\n",
    "theta = np.random.randn(len(cols))\n",
    "theta_t = theta.transpose()\n",
    "theta_df = pd.DataFrame(theta_t)\n",
    "\n",
    "# theta_j = gradient_descent(X2,y2,theta_df,alpha,iter_)\n",
    "# y_test_pred_gd = X_test2.dot(theta_j)\n",
    "# print(\"mean squared error on scaled test data:\",mean_squared_error(y_test2,y_test_pred_gd))"
   ]
  },
  {
   "cell_type": "code",
   "execution_count": 110,
   "metadata": {},
   "outputs": [],
   "source": [
    "theta = np.random.randn(len(cols))"
   ]
  },
  {
   "cell_type": "code",
   "execution_count": 111,
   "metadata": {},
   "outputs": [],
   "source": [
    "theta_t = theta.transpose()"
   ]
  },
  {
   "cell_type": "code",
   "execution_count": 95,
   "metadata": {},
   "outputs": [],
   "source": [
    "theta_df = pd.DataFrame(theta_t)"
   ]
  },
  {
   "cell_type": "code",
   "execution_count": 156,
   "metadata": {},
   "outputs": [],
   "source": [
    "test_theta = theta_df[:]"
   ]
  },
  {
   "cell_type": "code",
   "execution_count": 50,
   "metadata": {},
   "outputs": [
    {
     "data": {
      "text/html": [
       "<div>\n",
       "<style scoped>\n",
       "    .dataframe tbody tr th:only-of-type {\n",
       "        vertical-align: middle;\n",
       "    }\n",
       "\n",
       "    .dataframe tbody tr th {\n",
       "        vertical-align: top;\n",
       "    }\n",
       "\n",
       "    .dataframe thead th {\n",
       "        text-align: right;\n",
       "    }\n",
       "</style>\n",
       "<table border=\"1\" class=\"dataframe\">\n",
       "  <thead>\n",
       "    <tr style=\"text-align: right;\">\n",
       "      <th></th>\n",
       "      <th>0</th>\n",
       "    </tr>\n",
       "  </thead>\n",
       "  <tbody>\n",
       "    <tr>\n",
       "      <td>0</td>\n",
       "      <td>NaN</td>\n",
       "    </tr>\n",
       "    <tr>\n",
       "      <td>1</td>\n",
       "      <td>NaN</td>\n",
       "    </tr>\n",
       "    <tr>\n",
       "      <td>2</td>\n",
       "      <td>NaN</td>\n",
       "    </tr>\n",
       "    <tr>\n",
       "      <td>3</td>\n",
       "      <td>NaN</td>\n",
       "    </tr>\n",
       "    <tr>\n",
       "      <td>4</td>\n",
       "      <td>NaN</td>\n",
       "    </tr>\n",
       "    <tr>\n",
       "      <td>5</td>\n",
       "      <td>NaN</td>\n",
       "    </tr>\n",
       "    <tr>\n",
       "      <td>6</td>\n",
       "      <td>NaN</td>\n",
       "    </tr>\n",
       "    <tr>\n",
       "      <td>7</td>\n",
       "      <td>NaN</td>\n",
       "    </tr>\n",
       "    <tr>\n",
       "      <td>8</td>\n",
       "      <td>NaN</td>\n",
       "    </tr>\n",
       "    <tr>\n",
       "      <td>9</td>\n",
       "      <td>NaN</td>\n",
       "    </tr>\n",
       "    <tr>\n",
       "      <td>10</td>\n",
       "      <td>NaN</td>\n",
       "    </tr>\n",
       "    <tr>\n",
       "      <td>11</td>\n",
       "      <td>NaN</td>\n",
       "    </tr>\n",
       "    <tr>\n",
       "      <td>12</td>\n",
       "      <td>NaN</td>\n",
       "    </tr>\n",
       "    <tr>\n",
       "      <td>13</td>\n",
       "      <td>NaN</td>\n",
       "    </tr>\n",
       "    <tr>\n",
       "      <td>14</td>\n",
       "      <td>NaN</td>\n",
       "    </tr>\n",
       "    <tr>\n",
       "      <td>15</td>\n",
       "      <td>NaN</td>\n",
       "    </tr>\n",
       "    <tr>\n",
       "      <td>16</td>\n",
       "      <td>NaN</td>\n",
       "    </tr>\n",
       "    <tr>\n",
       "      <td>17</td>\n",
       "      <td>NaN</td>\n",
       "    </tr>\n",
       "  </tbody>\n",
       "</table>\n",
       "</div>"
      ],
      "text/plain": [
       "     0\n",
       "0  NaN\n",
       "1  NaN\n",
       "2  NaN\n",
       "3  NaN\n",
       "4  NaN\n",
       "5  NaN\n",
       "6  NaN\n",
       "7  NaN\n",
       "8  NaN\n",
       "9  NaN\n",
       "10 NaN\n",
       "11 NaN\n",
       "12 NaN\n",
       "13 NaN\n",
       "14 NaN\n",
       "15 NaN\n",
       "16 NaN\n",
       "17 NaN"
      ]
     },
     "execution_count": 50,
     "metadata": {},
     "output_type": "execute_result"
    }
   ],
   "source": [
    "theta_df"
   ]
  },
  {
   "cell_type": "code",
   "execution_count": 160,
   "metadata": {},
   "outputs": [
    {
     "data": {
      "text/html": [
       "<div>\n",
       "<style scoped>\n",
       "    .dataframe tbody tr th:only-of-type {\n",
       "        vertical-align: middle;\n",
       "    }\n",
       "\n",
       "    .dataframe tbody tr th {\n",
       "        vertical-align: top;\n",
       "    }\n",
       "\n",
       "    .dataframe thead th {\n",
       "        text-align: right;\n",
       "    }\n",
       "</style>\n",
       "<table border=\"1\" class=\"dataframe\">\n",
       "  <thead>\n",
       "    <tr style=\"text-align: right;\">\n",
       "      <th></th>\n",
       "      <th>0</th>\n",
       "    </tr>\n",
       "  </thead>\n",
       "  <tbody>\n",
       "    <tr>\n",
       "      <td>0</td>\n",
       "      <td>NaN</td>\n",
       "    </tr>\n",
       "    <tr>\n",
       "      <td>1</td>\n",
       "      <td>NaN</td>\n",
       "    </tr>\n",
       "    <tr>\n",
       "      <td>2</td>\n",
       "      <td>NaN</td>\n",
       "    </tr>\n",
       "    <tr>\n",
       "      <td>3</td>\n",
       "      <td>NaN</td>\n",
       "    </tr>\n",
       "    <tr>\n",
       "      <td>4</td>\n",
       "      <td>NaN</td>\n",
       "    </tr>\n",
       "    <tr>\n",
       "      <td>5</td>\n",
       "      <td>NaN</td>\n",
       "    </tr>\n",
       "    <tr>\n",
       "      <td>6</td>\n",
       "      <td>NaN</td>\n",
       "    </tr>\n",
       "    <tr>\n",
       "      <td>7</td>\n",
       "      <td>NaN</td>\n",
       "    </tr>\n",
       "    <tr>\n",
       "      <td>8</td>\n",
       "      <td>NaN</td>\n",
       "    </tr>\n",
       "    <tr>\n",
       "      <td>9</td>\n",
       "      <td>NaN</td>\n",
       "    </tr>\n",
       "    <tr>\n",
       "      <td>10</td>\n",
       "      <td>NaN</td>\n",
       "    </tr>\n",
       "    <tr>\n",
       "      <td>11</td>\n",
       "      <td>NaN</td>\n",
       "    </tr>\n",
       "    <tr>\n",
       "      <td>12</td>\n",
       "      <td>NaN</td>\n",
       "    </tr>\n",
       "    <tr>\n",
       "      <td>13</td>\n",
       "      <td>NaN</td>\n",
       "    </tr>\n",
       "    <tr>\n",
       "      <td>14</td>\n",
       "      <td>NaN</td>\n",
       "    </tr>\n",
       "    <tr>\n",
       "      <td>15</td>\n",
       "      <td>NaN</td>\n",
       "    </tr>\n",
       "    <tr>\n",
       "      <td>16</td>\n",
       "      <td>NaN</td>\n",
       "    </tr>\n",
       "    <tr>\n",
       "      <td>17</td>\n",
       "      <td>NaN</td>\n",
       "    </tr>\n",
       "  </tbody>\n",
       "</table>\n",
       "</div>"
      ],
      "text/plain": [
       "     0\n",
       "0  NaN\n",
       "1  NaN\n",
       "2  NaN\n",
       "3  NaN\n",
       "4  NaN\n",
       "5  NaN\n",
       "6  NaN\n",
       "7  NaN\n",
       "8  NaN\n",
       "9  NaN\n",
       "10 NaN\n",
       "11 NaN\n",
       "12 NaN\n",
       "13 NaN\n",
       "14 NaN\n",
       "15 NaN\n",
       "16 NaN\n",
       "17 NaN"
      ]
     },
     "execution_count": 160,
     "metadata": {},
     "output_type": "execute_result"
    }
   ],
   "source": [
    "test_theta"
   ]
  },
  {
   "cell_type": "code",
   "execution_count": 116,
   "metadata": {},
   "outputs": [
    {
     "data": {
      "text/plain": [
       "pandas.core.frame.DataFrame"
      ]
     },
     "execution_count": 116,
     "metadata": {},
     "output_type": "execute_result"
    }
   ],
   "source": [
    "type(test_theta)"
   ]
  },
  {
   "cell_type": "code",
   "execution_count": 139,
   "metadata": {},
   "outputs": [
    {
     "name": "stdout",
     "output_type": "stream",
     "text": [
      "y 1000\n",
      "i value 0\n",
      "stop at 0\n",
      "0    -1.344874\n",
      "1     0.078297\n",
      "2    -1.296441\n",
      "3    -0.008475\n",
      "4     1.495867\n",
      "5    -0.305224\n",
      "6    -1.660201\n",
      "7     0.658226\n",
      "8     0.616762\n",
      "9     0.964803\n",
      "10    0.363397\n",
      "11    0.795314\n",
      "12   -0.216131\n",
      "13    1.528445\n",
      "14   -0.069257\n",
      "15   -1.089687\n",
      "16    0.742103\n",
      "17   -2.019432\n",
      "Name: 0, dtype: float64\n",
      "stop at 1\n"
     ]
    },
    {
     "ename": "KeyError",
     "evalue": "1",
     "output_type": "error",
     "traceback": [
      "\u001b[0;31m---------------------------------------------------------------------------\u001b[0m",
      "\u001b[0;31mValueError\u001b[0m                                Traceback (most recent call last)",
      "\u001b[0;32m/Library/Frameworks/Python.framework/Versions/3.7/lib/python3.7/site-packages/pandas/core/indexes/range.py\u001b[0m in \u001b[0;36mget_loc\u001b[0;34m(self, key, method, tolerance)\u001b[0m\n\u001b[1;32m    375\u001b[0m             \u001b[0;32mtry\u001b[0m\u001b[0;34m:\u001b[0m\u001b[0;34m\u001b[0m\u001b[0;34m\u001b[0m\u001b[0m\n\u001b[0;32m--> 376\u001b[0;31m                 \u001b[0;32mreturn\u001b[0m \u001b[0mself\u001b[0m\u001b[0;34m.\u001b[0m\u001b[0m_range\u001b[0m\u001b[0;34m.\u001b[0m\u001b[0mindex\u001b[0m\u001b[0;34m(\u001b[0m\u001b[0mnew_key\u001b[0m\u001b[0;34m)\u001b[0m\u001b[0;34m\u001b[0m\u001b[0;34m\u001b[0m\u001b[0m\n\u001b[0m\u001b[1;32m    377\u001b[0m             \u001b[0;32mexcept\u001b[0m \u001b[0mValueError\u001b[0m\u001b[0;34m:\u001b[0m\u001b[0;34m\u001b[0m\u001b[0;34m\u001b[0m\u001b[0m\n",
      "\u001b[0;31mValueError\u001b[0m: 1 is not in range",
      "\nDuring handling of the above exception, another exception occurred:\n",
      "\u001b[0;31mKeyError\u001b[0m                                  Traceback (most recent call last)",
      "\u001b[0;32m<ipython-input-139-ef6787c7090b>\u001b[0m in \u001b[0;36m<module>\u001b[0;34m\u001b[0m\n\u001b[1;32m      6\u001b[0m \u001b[0mtheta_df\u001b[0m \u001b[0;34m=\u001b[0m \u001b[0mpd\u001b[0m\u001b[0;34m.\u001b[0m\u001b[0mDataFrame\u001b[0m\u001b[0;34m(\u001b[0m\u001b[0mtheta_t\u001b[0m\u001b[0;34m)\u001b[0m\u001b[0;34m\u001b[0m\u001b[0;34m\u001b[0m\u001b[0m\n\u001b[1;32m      7\u001b[0m \u001b[0;32mfor\u001b[0m \u001b[0mi\u001b[0m \u001b[0;32min\u001b[0m \u001b[0miter\u001b[0m\u001b[0;34m:\u001b[0m\u001b[0;34m\u001b[0m\u001b[0;34m\u001b[0m\u001b[0m\n\u001b[0;32m----> 8\u001b[0;31m     \u001b[0mtheta_j\u001b[0m \u001b[0;34m=\u001b[0m \u001b[0mgradient_descent\u001b[0m\u001b[0;34m(\u001b[0m\u001b[0mX2\u001b[0m\u001b[0;34m,\u001b[0m\u001b[0my2\u001b[0m\u001b[0;34m,\u001b[0m\u001b[0mtheta_df\u001b[0m\u001b[0;34m,\u001b[0m\u001b[0malpha\u001b[0m\u001b[0;34m,\u001b[0m\u001b[0mi\u001b[0m\u001b[0;34m)\u001b[0m\u001b[0;34m\u001b[0m\u001b[0;34m\u001b[0m\u001b[0m\n\u001b[0m\u001b[1;32m      9\u001b[0m     \u001b[0my_test_pred_gd\u001b[0m \u001b[0;34m=\u001b[0m \u001b[0mX_test2\u001b[0m\u001b[0;34m.\u001b[0m\u001b[0mdot\u001b[0m\u001b[0;34m(\u001b[0m\u001b[0mtheta_j\u001b[0m\u001b[0;34m)\u001b[0m\u001b[0;34m\u001b[0m\u001b[0;34m\u001b[0m\u001b[0m\n\u001b[1;32m     10\u001b[0m     \u001b[0mprint\u001b[0m\u001b[0;34m(\u001b[0m\u001b[0;34m\"mean squared error on scaled test data:\"\u001b[0m\u001b[0;34m,\u001b[0m\u001b[0mmean_squared_error\u001b[0m\u001b[0;34m(\u001b[0m\u001b[0my_test2\u001b[0m\u001b[0;34m,\u001b[0m\u001b[0my_test_pred_gd\u001b[0m\u001b[0;34m)\u001b[0m\u001b[0;34m)\u001b[0m\u001b[0;34m\u001b[0m\u001b[0;34m\u001b[0m\u001b[0m\n",
      "\u001b[0;32m<ipython-input-138-d204044fba46>\u001b[0m in \u001b[0;36mgradient_descent\u001b[0;34m(X, y, th, alpha, n)\u001b[0m\n\u001b[1;32m     22\u001b[0m \u001b[0;31m#             print(\"(((X[X.columns[j]])).dot((prediction - y))):\",((X[X.columns[j]].transpose()).dot(prediction - y)))\u001b[0m\u001b[0;34m\u001b[0m\u001b[0;34m\u001b[0m\u001b[0;34m\u001b[0m\u001b[0m\n\u001b[1;32m     23\u001b[0m             \u001b[0mprint\u001b[0m\u001b[0;34m(\u001b[0m\u001b[0;34m\"stop at\"\u001b[0m\u001b[0;34m,\u001b[0m\u001b[0mj\u001b[0m\u001b[0;34m)\u001b[0m\u001b[0;34m\u001b[0m\u001b[0;34m\u001b[0m\u001b[0m\n\u001b[0;32m---> 24\u001b[0;31m             \u001b[0mprint\u001b[0m\u001b[0;34m(\u001b[0m\u001b[0mth\u001b[0m\u001b[0;34m[\u001b[0m\u001b[0mj\u001b[0m\u001b[0;34m]\u001b[0m\u001b[0;34m)\u001b[0m\u001b[0;34m\u001b[0m\u001b[0;34m\u001b[0m\u001b[0m\n\u001b[0m\u001b[1;32m     25\u001b[0m             \u001b[0mth\u001b[0m\u001b[0;34m[\u001b[0m\u001b[0mj\u001b[0m\u001b[0;34m]\u001b[0m \u001b[0;34m=\u001b[0m \u001b[0mth\u001b[0m\u001b[0;34m[\u001b[0m\u001b[0mj\u001b[0m\u001b[0;34m]\u001b[0m \u001b[0;34m-\u001b[0m \u001b[0;34m(\u001b[0m\u001b[0;36m1\u001b[0m\u001b[0;34m/\u001b[0m\u001b[0mm\u001b[0m\u001b[0;34m)\u001b[0m\u001b[0;34m*\u001b[0m\u001b[0malpha\u001b[0m\u001b[0;34m*\u001b[0m\u001b[0;34m(\u001b[0m\u001b[0;34m(\u001b[0m\u001b[0mX\u001b[0m\u001b[0;34m[\u001b[0m\u001b[0mX\u001b[0m\u001b[0;34m.\u001b[0m\u001b[0mcolumns\u001b[0m\u001b[0;34m[\u001b[0m\u001b[0mj\u001b[0m\u001b[0;34m]\u001b[0m\u001b[0;34m]\u001b[0m\u001b[0;34m.\u001b[0m\u001b[0mtranspose\u001b[0m\u001b[0;34m(\u001b[0m\u001b[0;34m)\u001b[0m\u001b[0;34m)\u001b[0m\u001b[0;34m.\u001b[0m\u001b[0mdot\u001b[0m\u001b[0;34m(\u001b[0m\u001b[0mprediction\u001b[0m \u001b[0;34m-\u001b[0m \u001b[0my\u001b[0m\u001b[0;34m)\u001b[0m\u001b[0;34m)\u001b[0m\u001b[0;34m\u001b[0m\u001b[0;34m\u001b[0m\u001b[0m\n\u001b[1;32m     26\u001b[0m \u001b[0;34m\u001b[0m\u001b[0m\n",
      "\u001b[0;32m/Library/Frameworks/Python.framework/Versions/3.7/lib/python3.7/site-packages/pandas/core/frame.py\u001b[0m in \u001b[0;36m__getitem__\u001b[0;34m(self, key)\u001b[0m\n\u001b[1;32m   2978\u001b[0m             \u001b[0;32mif\u001b[0m \u001b[0mself\u001b[0m\u001b[0;34m.\u001b[0m\u001b[0mcolumns\u001b[0m\u001b[0;34m.\u001b[0m\u001b[0mnlevels\u001b[0m \u001b[0;34m>\u001b[0m \u001b[0;36m1\u001b[0m\u001b[0;34m:\u001b[0m\u001b[0;34m\u001b[0m\u001b[0;34m\u001b[0m\u001b[0m\n\u001b[1;32m   2979\u001b[0m                 \u001b[0;32mreturn\u001b[0m \u001b[0mself\u001b[0m\u001b[0;34m.\u001b[0m\u001b[0m_getitem_multilevel\u001b[0m\u001b[0;34m(\u001b[0m\u001b[0mkey\u001b[0m\u001b[0;34m)\u001b[0m\u001b[0;34m\u001b[0m\u001b[0;34m\u001b[0m\u001b[0m\n\u001b[0;32m-> 2980\u001b[0;31m             \u001b[0mindexer\u001b[0m \u001b[0;34m=\u001b[0m \u001b[0mself\u001b[0m\u001b[0;34m.\u001b[0m\u001b[0mcolumns\u001b[0m\u001b[0;34m.\u001b[0m\u001b[0mget_loc\u001b[0m\u001b[0;34m(\u001b[0m\u001b[0mkey\u001b[0m\u001b[0;34m)\u001b[0m\u001b[0;34m\u001b[0m\u001b[0;34m\u001b[0m\u001b[0m\n\u001b[0m\u001b[1;32m   2981\u001b[0m             \u001b[0;32mif\u001b[0m \u001b[0mis_integer\u001b[0m\u001b[0;34m(\u001b[0m\u001b[0mindexer\u001b[0m\u001b[0;34m)\u001b[0m\u001b[0;34m:\u001b[0m\u001b[0;34m\u001b[0m\u001b[0;34m\u001b[0m\u001b[0m\n\u001b[1;32m   2982\u001b[0m                 \u001b[0mindexer\u001b[0m \u001b[0;34m=\u001b[0m \u001b[0;34m[\u001b[0m\u001b[0mindexer\u001b[0m\u001b[0;34m]\u001b[0m\u001b[0;34m\u001b[0m\u001b[0;34m\u001b[0m\u001b[0m\n",
      "\u001b[0;32m/Library/Frameworks/Python.framework/Versions/3.7/lib/python3.7/site-packages/pandas/core/indexes/range.py\u001b[0m in \u001b[0;36mget_loc\u001b[0;34m(self, key, method, tolerance)\u001b[0m\n\u001b[1;32m    376\u001b[0m                 \u001b[0;32mreturn\u001b[0m \u001b[0mself\u001b[0m\u001b[0;34m.\u001b[0m\u001b[0m_range\u001b[0m\u001b[0;34m.\u001b[0m\u001b[0mindex\u001b[0m\u001b[0;34m(\u001b[0m\u001b[0mnew_key\u001b[0m\u001b[0;34m)\u001b[0m\u001b[0;34m\u001b[0m\u001b[0;34m\u001b[0m\u001b[0m\n\u001b[1;32m    377\u001b[0m             \u001b[0;32mexcept\u001b[0m \u001b[0mValueError\u001b[0m\u001b[0;34m:\u001b[0m\u001b[0;34m\u001b[0m\u001b[0;34m\u001b[0m\u001b[0m\n\u001b[0;32m--> 378\u001b[0;31m                 \u001b[0;32mraise\u001b[0m \u001b[0mKeyError\u001b[0m\u001b[0;34m(\u001b[0m\u001b[0mkey\u001b[0m\u001b[0;34m)\u001b[0m\u001b[0;34m\u001b[0m\u001b[0;34m\u001b[0m\u001b[0m\n\u001b[0m\u001b[1;32m    379\u001b[0m         \u001b[0;32mreturn\u001b[0m \u001b[0msuper\u001b[0m\u001b[0;34m(\u001b[0m\u001b[0;34m)\u001b[0m\u001b[0;34m.\u001b[0m\u001b[0mget_loc\u001b[0m\u001b[0;34m(\u001b[0m\u001b[0mkey\u001b[0m\u001b[0;34m,\u001b[0m \u001b[0mmethod\u001b[0m\u001b[0;34m=\u001b[0m\u001b[0mmethod\u001b[0m\u001b[0;34m,\u001b[0m \u001b[0mtolerance\u001b[0m\u001b[0;34m=\u001b[0m\u001b[0mtolerance\u001b[0m\u001b[0;34m)\u001b[0m\u001b[0;34m\u001b[0m\u001b[0;34m\u001b[0m\u001b[0m\n\u001b[1;32m    380\u001b[0m \u001b[0;34m\u001b[0m\u001b[0m\n",
      "\u001b[0;31mKeyError\u001b[0m: 1"
     ]
    }
   ],
   "source": [
    "alpha = 0.01\n",
    "iter = [10,50,100]\n",
    "cols = KChouse_train1.columns\n",
    "theta = np.random.randn(len(cols))\n",
    "theta_t = theta.transpose()\n",
    "theta_df = pd.DataFrame(theta_t)\n",
    "for i in iter:\n",
    "    theta_j = gradient_descent(X2,y2,theta_df,alpha,i)\n",
    "    y_test_pred_gd = X_test2.dot(theta_j)\n",
    "    print(\"mean squared error on scaled test data:\",mean_squared_error(y_test2,y_test_pred_gd))"
   ]
  },
  {
   "cell_type": "markdown",
   "metadata": {},
   "source": [
    "### Problem 4"
   ]
  },
  {
   "cell_type": "markdown",
   "metadata": {},
   "source": [
    "(a) Write the derivation of the closed form solution for parameter θ that minimizes the loss function J(θ)\n",
    "in ridge regression."
   ]
  },
  {
   "cell_type": "markdown",
   "metadata": {},
   "source": [
    "(b) Modify your linear regression implementation from Problem 2 to handle ridge regression. Take several values of the regularization parameter λ and output the MSE metric. Plot the value of MSE as a\n",
    "function of λ. What is the best value of λ that you found? Compare the results of linear regression\n",
    "and ridge regression on the dataset."
   ]
  },
  {
   "cell_type": "code",
   "execution_count": 58,
   "metadata": {
    "collapsed": true
   },
   "outputs": [
    {
     "name": "stdout",
     "output_type": "stream",
     "text": [
      "Mean squared error for testing data: 0.34025303553729547\n",
      "Mean squared error for testing data: 0.34023723126129624\n",
      "Mean squared error for testing data: 0.3403516918776955\n",
      "Mean squared error for testing data: 0.3405714275669636\n",
      "Mean squared error for testing data: 0.3408797043308575\n",
      "Mean squared error for testing data: 0.34126459129498443\n",
      "Mean squared error for testing data: 0.3417171084114855\n",
      "Mean squared error for testing data: 0.3422301826072409\n",
      "Mean squared error for testing data: 0.3427980332650299\n",
      "Mean squared error for testing data: 0.3434157956831026\n",
      "Mean squared error for testing data: 0.3440792815076133\n",
      "Mean squared error for testing data: 0.34478482072381833\n",
      "Mean squared error for testing data: 0.34552915375463517\n",
      "Mean squared error for testing data: 0.3463093552647599\n",
      "Mean squared error for testing data: 0.3471227786014029\n",
      "Mean squared error for testing data: 0.3479670140404969\n",
      "Mean squared error for testing data: 0.3488398565194821\n",
      "Mean squared error for testing data: 0.3497392800623135\n",
      "Mean squared error for testing data: 0.3506634170478518\n",
      "Mean squared error for testing data: 0.3516105410713326\n",
      "Mean squared error for testing data: 0.3525790525349764\n",
      "Mean squared error for testing data: 0.35356746635795555\n",
      "Mean squared error for testing data: 0.354574401366213\n",
      "Mean squared error for testing data: 0.3555985710387834\n",
      "Mean squared error for testing data: 0.35663877536793775\n",
      "Mean squared error for testing data: 0.35769389364748555\n",
      "Mean squared error for testing data: 0.3587628780445756\n",
      "Mean squared error for testing data: 0.3598447478403563\n",
      "Mean squared error for testing data: 0.3609385842471924\n",
      "Mean squared error for testing data: 0.36204352572704573\n",
      "Mean squared error for testing data: 0.3631587637486368\n",
      "Mean squared error for testing data: 0.3642835389311566\n",
      "Mean squared error for testing data: 0.36541713753034966\n",
      "Mean squared error for testing data: 0.36655888822925686\n",
      "Mean squared error for testing data: 0.36770815920116173\n",
      "Mean squared error for testing data: 0.3688643554166173\n",
      "Mean squared error for testing data: 0.37002691617002986\n",
      "Mean squared error for testing data: 0.3711953128042931\n",
      "Mean squared error for testing data: 0.3723690466145331\n",
      "Mean squared error for testing data: 0.3735476469142017\n",
      "Mean squared error for testing data: 0.37473066924863674\n",
      "Mean squared error for testing data: 0.37591769374282347\n",
      "Mean squared error for testing data: 0.37710832357150764\n",
      "Mean squared error for testing data: 0.37830218354103506\n",
      "Mean squared error for testing data: 0.3794989187733749\n",
      "Mean squared error for testing data: 0.3806981934837324\n",
      "Mean squared error for testing data: 0.38189968984399947\n",
      "Mean squared error for testing data: 0.3831031069250278\n",
      "Mean squared error for testing data: 0.384308159711383\n",
      "Mean squared error for testing data: 0.38551457818281304\n",
      "Mean squared error for testing data: 0.3867221064572042\n",
      "Mean squared error for testing data: 0.38793050199025697\n",
      "Mean squared error for testing data: 0.3891395348275486\n",
      "Mean squared error for testing data: 0.3903489869050178\n",
      "Mean squared error for testing data: 0.3915586513942599\n",
      "Mean squared error for testing data: 0.39276833208931977\n",
      "Mean squared error for testing data: 0.3939778428319567\n",
      "Mean squared error for testing data: 0.3951870069726021\n",
      "Mean squared error for testing data: 0.3963956568644598\n",
      "Mean squared error for testing data: 0.3976036333884113\n",
      "Mean squared error for testing data: 0.3988107855065689\n",
      "Mean squared error for testing data: 0.40001696984249563\n",
      "Mean squared error for testing data: 0.40122205028626756\n",
      "Mean squared error for testing data: 0.40242589762269093\n",
      "Mean squared error for testing data: 0.4036283891811222\n",
      "Mean squared error for testing data: 0.40482940850545385\n",
      "Mean squared error for testing data: 0.4060288450429382\n",
      "Mean squared error for testing data: 0.4072265938506204\n",
      "Mean squared error for testing data: 0.40842255531824334\n",
      "Mean squared error for testing data: 0.4096166349065692\n",
      "Mean squared error for testing data: 0.41080874290013936\n",
      "Mean squared error for testing data: 0.4119987941735665\n",
      "Mean squared error for testing data: 0.4131867079705131\n",
      "Mean squared error for testing data: 0.4143724076945751\n",
      "Mean squared error for testing data: 0.415555820711339\n",
      "Mean squared error for testing data: 0.4167368781609362\n",
      "Mean squared error for testing data: 0.41791551478046135\n",
      "Mean squared error for testing data: 0.41909166873566583\n",
      "Mean squared error for testing data: 0.42026528146137676\n",
      "Mean squared error for testing data: 0.42143629751012907\n",
      "Mean squared error for testing data: 0.4226046644085336\n",
      "Mean squared error for testing data: 0.42377033252092994\n",
      "Mean squared error for testing data: 0.42493325491991124\n",
      "Mean squared error for testing data: 0.42609338726332563\n",
      "Mean squared error for testing data: 0.42725068767739066\n",
      "Mean squared error for testing data: 0.42840511664557757\n",
      "Mean squared error for testing data: 0.42955663690294343\n",
      "Mean squared error for testing data: 0.43070521333561174\n",
      "Mean squared error for testing data: 0.43185081288511895\n",
      "Mean squared error for testing data: 0.43299340445736\n",
      "Mean squared error for testing data: 0.43413295883588704\n",
      "Mean squared error for testing data: 0.4352694485993267\n",
      "Mean squared error for testing data: 0.4364028480426954\n",
      "Mean squared error for testing data: 0.43753313310240793\n",
      "Mean squared error for testing data: 0.4386602812847843\n",
      "Mean squared error for testing data: 0.43978427159787253\n",
      "Mean squared error for testing data: 0.44090508448641524\n",
      "Mean squared error for testing data: 0.44202270176979785\n",
      "Mean squared error for testing data: 0.4431371065828274\n",
      "Mean squared error for testing data: 0.4442482833191943\n",
      "Mean squared error for testing data: 0.4453562175774871\n",
      "Mean squared error for testing data: 0.446460896109626\n",
      "Mean squared error for testing data: 0.44756230677159897\n",
      "Mean squared error for testing data: 0.4486604384763844\n",
      "Mean squared error for testing data: 0.4497552811489526\n",
      "Mean squared error for testing data: 0.4508468256832448\n",
      "Mean squared error for testing data: 0.45193506390103233\n",
      "Mean squared error for testing data: 0.4530199885125675\n",
      "Mean squared error for testing data: 0.45410159307893583\n",
      "Mean squared error for testing data: 0.45517987197603327\n",
      "Mean squared error for testing data: 0.45625482036008636\n",
      "Mean squared error for testing data: 0.4573264341346456\n",
      "Mean squared error for testing data: 0.4583947099189821\n",
      "Mean squared error for testing data: 0.4594596450178198\n",
      "Mean squared error for testing data: 0.4605212373923451\n",
      "Mean squared error for testing data: 0.46157948563243095\n",
      "Mean squared error for testing data: 0.46263438893002157\n",
      "Mean squared error for testing data: 0.4636859470536248\n",
      "Mean squared error for testing data: 0.46473416032385995\n",
      "Mean squared error for testing data: 0.4657790295900169\n",
      "Mean squared error for testing data: 0.46682055620757573\n",
      "Mean squared error for testing data: 0.46785874201664907\n",
      "Mean squared error for testing data: 0.4688935893213024\n",
      "Mean squared error for testing data: 0.46992510086971506\n",
      "Mean squared error for testing data: 0.47095327983514473\n",
      "Mean squared error for testing data: 0.4719781297976598\n",
      "Mean squared error for testing data: 0.4729996547266051\n",
      "Mean squared error for testing data: 0.47401785896377224\n",
      "Mean squared error for testing data: 0.47503274720723987\n",
      "Mean squared error for testing data: 0.47604432449585776\n",
      "Mean squared error for testing data: 0.4770525961943475\n",
      "Mean squared error for testing data: 0.478057567978991\n",
      "Mean squared error for testing data: 0.47905924582388415\n",
      "Mean squared error for testing data: 0.48005763598773016\n",
      "Mean squared error for testing data: 0.48105274500115136\n",
      "Mean squared error for testing data: 0.4820445796544968\n",
      "Mean squared error for testing data: 0.48303314698612415\n",
      "Mean squared error for testing data: 0.4840184542711386\n",
      "Mean squared error for testing data: 0.48500050901056785\n",
      "Mean squared error for testing data: 0.4859793189209548\n",
      "Mean squared error for testing data: 0.48695489192435404\n",
      "Mean squared error for testing data: 0.487927236138711\n",
      "Mean squared error for testing data: 0.4888963598686122\n",
      "Mean squared error for testing data: 0.48986227159638984\n",
      "Mean squared error for testing data: 0.4908249799735658\n",
      "Mean squared error for testing data: 0.49178449381262307\n",
      "Mean squared error for testing data: 0.49274082207908987\n",
      "Mean squared error for testing data: 0.49369397388392594\n",
      "Mean squared error for testing data: 0.4946439584761963\n",
      "Mean squared error for testing data: 0.4955907852360239\n",
      "Mean squared error for testing data: 0.4965344636678082\n",
      "Mean squared error for testing data: 0.49747500339370043\n",
      "Mean squared error for testing data: 0.49841241414732496\n",
      "Mean squared error for testing data: 0.49934670576773593\n",
      "Mean squared error for testing data: 0.500277888193604\n",
      "Mean squared error for testing data: 0.501205971457619\n",
      "Mean squared error for testing data: 0.5021309656811042\n",
      "Mean squared error for testing data: 0.5030528810688323\n",
      "Mean squared error for testing data: 0.5039717279040358\n",
      "Mean squared error for testing data: 0.504887516543604\n",
      "Mean squared error for testing data: 0.5058002574134604\n"
     ]
    },
    {
     "name": "stdout",
     "output_type": "stream",
     "text": [
      "Mean squared error for testing data: 0.5067099610041128\n",
      "Mean squared error for testing data: 0.5076166378663693\n",
      "Mean squared error for testing data: 0.508520298607216\n",
      "Mean squared error for testing data: 0.5094209538858472\n",
      "Mean squared error for testing data: 0.5103186144098444\n",
      "Mean squared error for testing data: 0.5112132909314997\n",
      "Mean squared error for testing data: 0.5121049942442745\n",
      "Mean squared error for testing data: 0.5129937351793918\n",
      "Mean squared error for testing data: 0.5138795246025568\n",
      "Mean squared error for testing data: 0.5147623734107983\n",
      "Mean squared error for testing data: 0.5156422925294302\n",
      "Mean squared error for testing data: 0.5165192929091267\n",
      "Mean squared error for testing data: 0.5173933855231062\n",
      "Mean squared error for testing data: 0.5182645813644229\n",
      "Mean squared error for testing data: 0.5191328914433578\n",
      "Mean squared error for testing data: 0.5199983267849115\n",
      "Mean squared error for testing data: 0.5208608984263879\n",
      "Mean squared error for testing data: 0.5217206174150717\n",
      "Mean squared error for testing data: 0.5225774948059929\n",
      "Mean squared error for testing data: 0.5234315416597771\n",
      "Mean squared error for testing data: 0.5242827690405758\n",
      "Mean squared error for testing data: 0.5251311880140779\n",
      "Mean squared error for testing data: 0.5259768096455948\n",
      "Mean squared error for testing data: 0.5268196449982212\n",
      "Mean squared error for testing data: 0.5276597051310647\n",
      "Mean squared error for testing data: 0.5284970010975454\n",
      "Mean squared error for testing data: 0.5293315439437593\n",
      "Mean squared error for testing data: 0.5301633447069074\n",
      "Mean squared error for testing data: 0.5309924144137843\n",
      "Mean squared error for testing data: 0.5318187640793267\n",
      "Mean squared error for testing data: 0.5326424047052196\n",
      "Mean squared error for testing data: 0.5334633472785553\n",
      "Mean squared error for testing data: 0.5342816027705487\n",
      "Mean squared error for testing data: 0.5350971821353011\n",
      "Mean squared error for testing data: 0.5359100963086149\n",
      "Mean squared error for testing data: 0.536720356206855\n",
      "Mean squared error for testing data: 0.5375279727258586\n",
      "Mean squared error for testing data: 0.5383329567398868\n",
      "Mean squared error for testing data: 0.5391353191006196\n",
      "Mean squared error for testing data: 0.5399350706361947\n",
      "Mean squared error for testing data: 0.5407322221502833\n",
      "Mean squared error for testing data: 0.5415267844212067\n",
      "Mean squared error for testing data: 0.5423187682010888\n",
      "Mean squared error for testing data: 0.5431081842150461\n",
      "Mean squared error for testing data: 0.5438950431604109\n",
      "Mean squared error for testing data: 0.5446793557059892\n",
      "Mean squared error for testing data: 0.5454611324913509\n",
      "Mean squared error for testing data: 0.5462403841261505\n",
      "Mean squared error for testing data: 0.5470171211894801\n",
      "Mean squared error for testing data: 0.5477913542292485\n",
      "Mean squared error for testing data: 0.5485630937615918\n",
      "Mean squared error for testing data: 0.549332350270309\n",
      "Mean squared error for testing data: 0.5500991342063248\n",
      "Mean squared error for testing data: 0.5508634559871773\n",
      "Mean squared error for testing data: 0.5516253259965319\n",
      "Mean squared error for testing data: 0.5523847545837164\n",
      "Mean squared error for testing data: 0.5531417520632808\n",
      "Mean squared error for testing data: 0.553896328714579\n",
      "Mean squared error for testing data: 0.554648494781372\n",
      "Mean squared error for testing data: 0.5553982604714489\n",
      "Mean squared error for testing data: 0.5561456359562744\n",
      "Mean squared error for testing data: 0.556890631370648\n",
      "Mean squared error for testing data: 0.5576332568123867\n",
      "Mean squared error for testing data: 0.5583735223420245\n",
      "Mean squared error for testing data: 0.5591114379825282\n",
      "Mean squared error for testing data: 0.5598470137190316\n",
      "Mean squared error for testing data: 0.5605802594985841\n",
      "Mean squared error for testing data: 0.5613111852299173\n",
      "Mean squared error for testing data: 0.5620398007832236\n",
      "Mean squared error for testing data: 0.5627661159899525\n",
      "Mean squared error for testing data: 0.5634901406426185\n",
      "Mean squared error for testing data: 0.5642118844946247\n",
      "Mean squared error for testing data: 0.5649313572600976\n",
      "Mean squared error for testing data: 0.5656485686137357\n",
      "Mean squared error for testing data: 0.5663635281906703\n",
      "Mean squared error for testing data: 0.5670762455863381\n",
      "Mean squared error for testing data: 0.5677867303563645\n",
      "Mean squared error for testing data: 0.5684949920164588\n",
      "Mean squared error for testing data: 0.5692010400423191\n",
      "Mean squared error for testing data: 0.5699048838695495\n",
      "Mean squared error for testing data: 0.5706065328935838\n",
      "Mean squared error for testing data: 0.571305996469622\n",
      "Mean squared error for testing data: 0.5720032839125745\n",
      "Mean squared error for testing data: 0.5726984044970151\n",
      "Mean squared error for testing data: 0.5733913674571434\n",
      "Mean squared error for testing data: 0.5740821819867542\n",
      "Mean squared error for testing data: 0.5747708572392163\n",
      "Mean squared error for testing data: 0.5754574023274587\n",
      "Mean squared error for testing data: 0.5761418263239626\n",
      "Mean squared error for testing data: 0.5768241382607631\n",
      "Mean squared error for testing data: 0.5775043471294565\n",
      "Mean squared error for testing data: 0.5781824618812137\n",
      "Mean squared error for testing data: 0.5788584914268007\n",
      "Mean squared error for testing data: 0.5795324446366059\n",
      "Mean squared error for testing data: 0.5802043303406722\n",
      "Mean squared error for testing data: 0.5808741573287357\n",
      "Mean squared error for testing data: 0.5815419343502685\n",
      "Mean squared error for testing data: 0.5822076701145296\n",
      "Mean squared error for testing data: 0.5828713732906179\n",
      "Mean squared error for testing data: 0.5835330525075315\n",
      "Mean squared error for testing data: 0.5841927163542326\n",
      "Mean squared error for testing data: 0.5848503733797158\n",
      "Mean squared error for testing data: 0.5855060320930795\n",
      "Mean squared error for testing data: 0.5861597009636059\n",
      "Mean squared error for testing data: 0.5868113884208394\n",
      "Mean squared error for testing data: 0.5874611028546737\n",
      "Mean squared error for testing data: 0.5881088526154405\n",
      "Mean squared error for testing data: 0.5887546460140006\n",
      "Mean squared error for testing data: 0.5893984913218419\n",
      "Mean squared error for testing data: 0.5900403967711766\n",
      "Mean squared error for testing data: 0.5906803705550454\n",
      "Mean squared error for testing data: 0.5913184208274225\n",
      "Mean squared error for testing data: 0.5919545557033233\n",
      "Mean squared error for testing data: 0.5925887832589172\n",
      "Mean squared error for testing data: 0.5932211115316401\n",
      "Mean squared error for testing data: 0.5938515485203121\n",
      "Mean squared error for testing data: 0.5944801021852554\n",
      "Mean squared error for testing data: 0.5951067804484166\n",
      "Mean squared error for testing data: 0.5957315911934902\n",
      "Mean squared error for testing data: 0.5963545422660443\n",
      "Mean squared error for testing data: 0.5969756414736477\n",
      "Mean squared error for testing data: 0.5975948965860017\n",
      "Mean squared error for testing data: 0.5982123153350689\n",
      "Mean squared error for testing data: 0.5988279054152098\n",
      "Mean squared error for testing data: 0.5994416744833154\n",
      "Mean squared error for testing data: 0.600053630158946\n",
      "Mean squared error for testing data: 0.6006637800244676\n",
      "Mean squared error for testing data: 0.6012721316251937\n",
      "Mean squared error for testing data: 0.601878692469525\n",
      "Mean squared error for testing data: 0.6024834700290923\n",
      "Mean squared error for testing data: 0.6030864717389005\n",
      "Mean squared error for testing data: 0.6036877049974735\n",
      "Mean squared error for testing data: 0.6042871771669998\n",
      "Mean squared error for testing data: 0.6048848955734797\n",
      "Mean squared error for testing data: 0.6054808675068738\n",
      "Mean squared error for testing data: 0.6060751002212517\n",
      "Mean squared error for testing data: 0.6066676009349411\n",
      "Mean squared error for testing data: 0.6072583768306796\n",
      "Mean squared error for testing data: 0.6078474350557657\n",
      "Mean squared error for testing data: 0.6084347827222102\n",
      "Mean squared error for testing data: 0.6090204269068904\n",
      "Mean squared error for testing data: 0.6096043746517015\n",
      "Mean squared error for testing data: 0.6101866329637124\n",
      "Mean squared error for testing data: 0.6107672088153192\n",
      "Mean squared error for testing data: 0.6113461091443996\n",
      "Mean squared error for testing data: 0.6119233408544694\n",
      "Mean squared error for testing data: 0.6124989108148374\n",
      "Mean squared error for testing data: 0.6130728258607614\n",
      "Mean squared error for testing data: 0.6136450927936045\n",
      "Mean squared error for testing data: 0.6142157183809925\n",
      "Mean squared error for testing data: 0.6147847093569698\n",
      "Mean squared error for testing data: 0.6153520724221564\n",
      "Mean squared error for testing data: 0.615917814243906\n",
      "Mean squared error for testing data: 0.6164819414564617\n",
      "Mean squared error for testing data: 0.6170444606611155\n",
      "Mean squared error for testing data: 0.6176053784263639\n",
      "Mean squared error for testing data: 0.6181647012880661\n",
      "Mean squared error for testing data: 0.6187224357496016\n",
      "Mean squared error for testing data: 0.6192785882820278\n",
      "Mean squared error for testing data: 0.6198331653242364\n",
      "Mean squared error for testing data: 0.6203861732831123\n"
     ]
    },
    {
     "name": "stdout",
     "output_type": "stream",
     "text": [
      "Mean squared error for testing data: 0.6209376185336897\n",
      "Mean squared error for testing data: 0.6214875074193097\n",
      "Mean squared error for testing data: 0.6220358462517769\n",
      "Mean squared error for testing data: 0.6225826413115164\n",
      "Mean squared error for testing data: 0.6231278988477315\n",
      "Mean squared error for testing data: 0.6236716250785574\n",
      "Mean squared error for testing data: 0.6242138261912205\n",
      "Mean squared error for testing data: 0.6247545083421921\n",
      "Mean squared error for testing data: 0.6252936776573454\n",
      "Mean squared error for testing data: 0.6258313402321097\n",
      "Mean squared error for testing data: 0.6263675021316268\n",
      "Mean squared error for testing data: 0.6269021693909047\n",
      "Mean squared error for testing data: 0.6274353480149722\n",
      "Mean squared error for testing data: 0.6279670439790335\n",
      "Mean squared error for testing data: 0.6284972632286215\n",
      "Mean squared error for testing data: 0.629026011679751\n",
      "Mean squared error for testing data: 0.6295532952190718\n",
      "Mean squared error for testing data: 0.6300791197040214\n",
      "Mean squared error for testing data: 0.6306034909629769\n",
      "Mean squared error for testing data: 0.6311264147954063\n",
      "Mean squared error for testing data: 0.6316478969720205\n",
      "Mean squared error for testing data: 0.6321679432349235\n",
      "Mean squared error for testing data: 0.6326865592977631\n",
      "Mean squared error for testing data: 0.6332037508458801\n",
      "Mean squared error for testing data: 0.6337195235364587\n",
      "Mean squared error for testing data: 0.6342338829986738\n",
      "Mean squared error for testing data: 0.634746834833841\n",
      "Mean squared error for testing data: 0.6352583846155634\n",
      "Mean squared error for testing data: 0.6357685378898795\n",
      "Mean squared error for testing data: 0.6362773001754093\n",
      "Mean squared error for testing data: 0.6367846769635008\n",
      "Mean squared error for testing data: 0.6372906737183764\n",
      "Mean squared error for testing data: 0.6377952958772772\n",
      "Mean squared error for testing data: 0.6382985488506081\n",
      "Mean squared error for testing data: 0.6388004380220811\n",
      "Mean squared error for testing data: 0.63930096874886\n",
      "Mean squared error for testing data: 0.6398001463617019\n",
      "Mean squared error for testing data: 0.6402979761651011\n",
      "Mean squared error for testing data: 0.6407944634374291\n",
      "Mean squared error for testing data: 0.641289613431077\n",
      "Mean squared error for testing data: 0.6417834313725959\n",
      "Mean squared error for testing data: 0.6422759224628359\n",
      "Mean squared error for testing data: 0.6427670918770867\n",
      "Mean squared error for testing data: 0.6432569447652159\n",
      "Mean squared error for testing data: 0.6437454862518064\n",
      "Mean squared error for testing data: 0.6442327214362952\n",
      "Mean squared error for testing data: 0.6447186553931092\n",
      "Mean squared error for testing data: 0.6452032931718023\n",
      "Mean squared error for testing data: 0.6456866397971904\n",
      "Mean squared error for testing data: 0.6461687002694871\n",
      "Mean squared error for testing data: 0.6466494795644375\n",
      "Mean squared error for testing data: 0.6471289826334526\n",
      "Mean squared error for testing data: 0.6476072144037416\n",
      "Mean squared error for testing data: 0.6480841797784452\n",
      "Mean squared error for testing data: 0.6485598836367676\n",
      "Mean squared error for testing data: 0.6490343308341072\n",
      "Mean squared error for testing data: 0.6495075262021873\n",
      "Mean squared error for testing data: 0.6499794745491864\n",
      "Mean squared error for testing data: 0.6504501806598673\n",
      "Mean squared error for testing data: 0.650919649295706\n",
      "Mean squared error for testing data: 0.6513878851950197\n",
      "Mean squared error for testing data: 0.6518548930730944\n",
      "Mean squared error for testing data: 0.6523206776223109\n",
      "Mean squared error for testing data: 0.6527852435122725\n",
      "Mean squared error for testing data: 0.6532485953899287\n",
      "Mean squared error for testing data: 0.6537107378797016\n",
      "Mean squared error for testing data: 0.6541716755836094\n",
      "Mean squared error for testing data: 0.6546314130813895\n",
      "Mean squared error for testing data: 0.6550899549306232\n",
      "Mean squared error for testing data: 0.6555473056668556\n",
      "Mean squared error for testing data: 0.6560034698037194\n",
      "Mean squared error for testing data: 0.6564584518330551\n",
      "Mean squared error for testing data: 0.6569122562250307\n",
      "Mean squared error for testing data: 0.6573648874282628\n",
      "Mean squared error for testing data: 0.657816349869935\n",
      "Mean squared error for testing data: 0.658266647955916\n",
      "Mean squared error for testing data: 0.6587157860708786\n",
      "Mean squared error for testing data: 0.6591637685784157\n",
      "Mean squared error for testing data: 0.6596105998211578\n",
      "Mean squared error for testing data: 0.6600562841208882\n",
      "Mean squared error for testing data: 0.6605008257786593\n",
      "Mean squared error for testing data: 0.6609442290749067\n",
      "Mean squared error for testing data: 0.6613864982695624\n",
      "Mean squared error for testing data: 0.6618276376021704\n",
      "Mean squared error for testing data: 0.6622676512919978\n",
      "Mean squared error for testing data: 0.6627065435381475\n",
      "Mean squared error for testing data: 0.6631443185196696\n",
      "Mean squared error for testing data: 0.6635809803956729\n",
      "Mean squared error for testing data: 0.6640165333054352\n",
      "Mean squared error for testing data: 0.6644509813685123\n",
      "Mean squared error for testing data: 0.6648843286848476\n",
      "Mean squared error for testing data: 0.6653165793348809\n",
      "Mean squared error for testing data: 0.665747737379656\n",
      "Mean squared error for testing data: 0.666177806860928\n",
      "Mean squared error for testing data: 0.6666067918012695\n",
      "Mean squared error for testing data: 0.6670346962041785\n",
      "Mean squared error for testing data: 0.6674615240541816\n",
      "Mean squared error for testing data: 0.6678872793169399\n",
      "Mean squared error for testing data: 0.6683119659393538\n",
      "Mean squared error for testing data: 0.6687355878496658\n",
      "Mean squared error for testing data: 0.6691581489575645\n",
      "Mean squared error for testing data: 0.6695796531542862\n",
      "Mean squared error for testing data: 0.6700001043127172\n",
      "Mean squared error for testing data: 0.6704195062874961\n",
      "Mean squared error for testing data: 0.6708378629151129\n",
      "Mean squared error for testing data: 0.6712551780140101\n",
      "Mean squared error for testing data: 0.6716714553846823\n",
      "Mean squared error for testing data: 0.6720866988097753\n",
      "Mean squared error for testing data: 0.6725009120541843\n",
      "Mean squared error for testing data: 0.6729140988651517\n",
      "Mean squared error for testing data: 0.6733262629723651\n",
      "Mean squared error for testing data: 0.6737374080880535\n",
      "Mean squared error for testing data: 0.6741475379070827\n",
      "Mean squared error for testing data: 0.6745566561070533\n",
      "Mean squared error for testing data: 0.6749647663483932\n",
      "Mean squared error for testing data: 0.6753718722744537\n",
      "Mean squared error for testing data: 0.675777977511603\n",
      "Mean squared error for testing data: 0.6761830856693192\n",
      "Mean squared error for testing data: 0.6765872003402844\n",
      "Mean squared error for testing data: 0.6769903251004753\n",
      "Mean squared error for testing data: 0.6773924635092572\n",
      "Mean squared error for testing data: 0.6777936191094723\n",
      "Mean squared error for testing data: 0.6781937954275339\n",
      "Mean squared error for testing data: 0.6785929959735133\n",
      "Mean squared error for testing data: 0.6789912242412316\n",
      "Mean squared error for testing data: 0.6793884837083484\n",
      "Mean squared error for testing data: 0.6797847778364494\n",
      "Mean squared error for testing data: 0.6801801100711359\n",
      "Mean squared error for testing data: 0.6805744838421114\n",
      "Mean squared error for testing data: 0.6809679025632687\n",
      "Mean squared error for testing data: 0.6813603696327768\n",
      "Mean squared error for testing data: 0.681751888433167\n",
      "Mean squared error for testing data: 0.6821424623314175\n",
      "Mean squared error for testing data: 0.6825320946790395\n",
      "Mean squared error for testing data: 0.6829207888121611\n",
      "Mean squared error for testing data: 0.683308548051611\n",
      "Mean squared error for testing data: 0.683695375703003\n",
      "Mean squared error for testing data: 0.6840812750568178\n",
      "Mean squared error for testing data: 0.6844662493884857\n",
      "Mean squared error for testing data: 0.6848503019584703\n",
      "Mean squared error for testing data: 0.6852334360123469\n",
      "Mean squared error for testing data: 0.6856156547808866\n",
      "Mean squared error for testing data: 0.6859969614801349\n",
      "Mean squared error for testing data: 0.6863773593114924\n",
      "Mean squared error for testing data: 0.6867568514617943\n",
      "Mean squared error for testing data: 0.6871354411033903\n",
      "Mean squared error for testing data: 0.687513131394221\n",
      "Mean squared error for testing data: 0.6878899254778991\n",
      "Mean squared error for testing data: 0.6882658264837849\n",
      "Mean squared error for testing data: 0.688640837527064\n",
      "Mean squared error for testing data: 0.6890149617088246\n",
      "Mean squared error for testing data: 0.6893882021161334\n"
     ]
    },
    {
     "name": "stdout",
     "output_type": "stream",
     "text": [
      "Mean squared error for testing data: 0.6897605618221119\n",
      "Mean squared error for testing data: 0.6901320438860107\n",
      "Mean squared error for testing data: 0.690502651353286\n",
      "Mean squared error for testing data: 0.6908723872556729\n",
      "Mean squared error for testing data: 0.6912412546112598\n",
      "Mean squared error for testing data: 0.6916092564245627\n",
      "Mean squared error for testing data: 0.691976395686597\n",
      "Mean squared error for testing data: 0.6923426753749513\n",
      "Mean squared error for testing data: 0.6927080984538596\n",
      "Mean squared error for testing data: 0.6930726678742728\n",
      "Mean squared error for testing data: 0.6934363865739307\n",
      "Mean squared error for testing data: 0.6937992574774315\n",
      "Mean squared error for testing data: 0.694161283496305\n",
      "Mean squared error for testing data: 0.6945224675290803\n",
      "Mean squared error for testing data: 0.6948828124613564\n",
      "Mean squared error for testing data: 0.6952423211658726\n",
      "Mean squared error for testing data: 0.6956009965025755\n",
      "Mean squared error for testing data: 0.6959588413186882\n",
      "Mean squared error for testing data: 0.6963158584487799\n",
      "Mean squared error for testing data: 0.6966720507148312\n",
      "Mean squared error for testing data: 0.6970274209263027\n",
      "Mean squared error for testing data: 0.6973819718802016\n",
      "Mean squared error for testing data: 0.6977357063611483\n",
      "Mean squared error for testing data: 0.6980886271414424\n",
      "Mean squared error for testing data: 0.698440736981128\n",
      "Mean squared error for testing data: 0.6987920386280594\n"
     ]
    }
   ],
   "source": [
    "I = np.identity(18)\n",
    "lamda = []\n",
    "MSE = []\n",
    "\n",
    "# derivation of the closed form solution for parameter θ that minimizes the loss function J(θ) in ridge regression\n",
    "\n",
    "for lamda_i in range(10,10000,20):\n",
    "    lamda.append(lamda_i)\n",
    "    coeffs_CF_2 = inv(X1.transpose().dot(X1) + lamda_i * I).dot(X1.transpose()).dot(y1)   \n",
    "    # Y prediction values for training data\n",
    "    y_prediction1_rg = X1.dot(coeffs_CF_2)\n",
    "    # y predictiom values for testing data\n",
    "    y_test_prediction1_rg = X_test1.dot(coeffs_CF_2)\n",
    "    \n",
    "    mean_error = mean_squared_error(y1,y_prediction1_rg)\n",
    "    mean_error_test = mean_squared_error(y_test1,y_test_prediction1_rg)\n",
    "    \n",
    "    # print(\"Mean squared error for training data:\",mean_squared_error(y1,y_prediction1_rg))    \n",
    "    print(\"Mean squared error for testing data:\",mean_squared_error(y_test1,y_test_prediction1_rg))\n",
    "    MSE.append(mean_error_test)"
   ]
  },
  {
   "cell_type": "code",
   "execution_count": 61,
   "metadata": {
    "collapsed": true
   },
   "outputs": [
    {
     "name": "stdout",
     "output_type": "stream",
     "text": [
      "     Lamda       MSE\n",
      "0       10  0.340253\n",
      "1       30  0.340237\n",
      "2       50  0.340352\n",
      "3       70  0.340571\n",
      "4       90  0.340880\n",
      "5      110  0.341265\n",
      "6      130  0.341717\n",
      "7      150  0.342230\n",
      "8      170  0.342798\n",
      "9      190  0.343416\n",
      "10     210  0.344079\n",
      "11     230  0.344785\n",
      "12     250  0.345529\n",
      "13     270  0.346309\n",
      "14     290  0.347123\n",
      "15     310  0.347967\n",
      "16     330  0.348840\n",
      "17     350  0.349739\n",
      "18     370  0.350663\n",
      "19     390  0.351611\n",
      "20     410  0.352579\n",
      "21     430  0.353567\n",
      "22     450  0.354574\n",
      "23     470  0.355599\n",
      "24     490  0.356639\n",
      "25     510  0.357694\n",
      "26     530  0.358763\n",
      "27     550  0.359845\n",
      "28     570  0.360939\n",
      "29     590  0.362044\n",
      "..     ...       ...\n",
      "470   9410  0.688266\n",
      "471   9430  0.688641\n",
      "472   9450  0.689015\n",
      "473   9470  0.689388\n",
      "474   9490  0.689761\n",
      "475   9510  0.690132\n",
      "476   9530  0.690503\n",
      "477   9550  0.690872\n",
      "478   9570  0.691241\n",
      "479   9590  0.691609\n",
      "480   9610  0.691976\n",
      "481   9630  0.692343\n",
      "482   9650  0.692708\n",
      "483   9670  0.693073\n",
      "484   9690  0.693436\n",
      "485   9710  0.693799\n",
      "486   9730  0.694161\n",
      "487   9750  0.694522\n",
      "488   9770  0.694883\n",
      "489   9790  0.695242\n",
      "490   9810  0.695601\n",
      "491   9830  0.695959\n",
      "492   9850  0.696316\n",
      "493   9870  0.696672\n",
      "494   9890  0.697027\n",
      "495   9910  0.697382\n",
      "496   9930  0.697736\n",
      "497   9950  0.698089\n",
      "498   9970  0.698441\n",
      "499   9990  0.698792\n",
      "\n",
      "[500 rows x 2 columns]\n"
     ]
    }
   ],
   "source": [
    "# convert list to array\n",
    "\n",
    "Lamda = np.asarray(lamda)\n",
    "MSE_df = np.asarray(MSE)\n",
    "# print(features1)\n",
    "\n",
    "# convert both the array vectors into dataframe\n",
    "res_1 = pd.DataFrame(Lamda)\n",
    "\n",
    "res_2 = pd.DataFrame(MSE_df)\n",
    "\n",
    "# merge dataframes\n",
    "result_df = pd.merge(res_1, res_2, left_index=True, right_index=True)\n",
    "result_df = result_df.rename(columns={'0_x':'Lamda','0_y':'MSE'})\n",
    "\n",
    "print(result_df)"
   ]
  },
  {
   "cell_type": "code",
   "execution_count": 63,
   "metadata": {},
   "outputs": [
    {
     "data": {
      "text/plain": [
       "<matplotlib.axes._subplots.AxesSubplot at 0x1b9afd5cd68>"
      ]
     },
     "execution_count": 63,
     "metadata": {},
     "output_type": "execute_result"
    },
    {
     "data": {
      "image/png": "[encoded data removed]",
      "text/plain": [
       "<Figure size 432x288 with 1 Axes>"
      ]
     },
     "metadata": {
      "needs_background": "light"
     },
     "output_type": "display_data"
    }
   ],
   "source": [
    "result_df.plot.line(x='MSE', y='Lamda')"
   ]
  }
 ],
 "metadata": {
  "kernelspec": {
   "display_name": "Python 3",
   "language": "python",
   "name": "python3"
  },
  "language_info": {
   "codemirror_mode": {
    "name": "ipython",
    "version": 3
   },
   "file_extension": ".py",
   "mimetype": "text/x-python",
   "name": "python",
   "nbconvert_exporter": "python",
   "pygments_lexer": "ipython3",
   "version": "3.7.3"
  }
 },
 "nbformat": 4,
 "nbformat_minor": 2
}
